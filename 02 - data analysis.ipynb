{
 "cells": [
  {
   "cell_type": "markdown",
   "source": [
    "# Grouping the data in preparation for correlation matrix\n"
   ],
   "metadata": {
    "collapsed": false
   }
  },
  {
   "cell_type": "code",
   "execution_count": null,
   "outputs": [],
   "source": [
    "import numpy as np\n",
    "import matplotlib.pyplot as plt\n",
    "import seaborn as sb"
   ],
   "metadata": {
    "collapsed": false
   }
  },
  {
   "cell_type": "code",
   "execution_count": null,
   "outputs": [],
   "source": [
    "grouped = data_combined_2017.groupby(['STATE_NAME', 'CountyName']).agg({\n",
    "    'ResultMeasureValue': 'mean',\n",
    "    'CROP_ACR17': 'mean',\n",
    "    'NO_FARMS17': 'mean',\n",
    "    'AVE_SALE17': 'mean',\n",
    "    'AVE_SIZE17': 'mean',\n",
    "    'POPULATION': 'mean',\n",
    "    'POP_SQMI': 'mean',\n",
    "    'county_funding': 'mean',\n",
    "    'state_funding': 'mean',\n",
    "    'total_county_state': 'mean',\n",
    "    'poverty_count_in_last12month' : 'mean',\n",
    "       'gini_index': 'mean'\n",
    "            })"
   ],
   "metadata": {
    "collapsed": false
   }
  },
  {
   "cell_type": "markdown",
   "source": [
    "# Correlation Matrix for crop acreage and phos value\n"
   ],
   "metadata": {
    "collapsed": false
   }
  },
  {
   "cell_type": "code",
   "execution_count": null,
   "outputs": [],
   "source": [
    "grouped_means = grouped[['ResultMeasureValue', 'CROP_ACR17', 'NO_FARMS17','AVE_SIZE17','AVE_SALE17','POPULATION','county_funding','gini_index']]\n",
    "\n",
    "grouped_means.rename(columns={'ResultMeasureValue': 'Phosphorus Level', 'CROP_ACR17': \"Crop Acreage\",\n",
    "                    'NO_FARMS17': 'Farm Count', 'AVE_SIZE17': 'Farm Size', 'AVE_SALE17': 'Farm Sales',\n",
    "                    'POPULATION': 'Population', 'county_funding':'County Funding', 'gini_index': 'Gini Index'}, inplace=True)\n",
    "\n",
    "corr = grouped_means.corr()\n",
    "\n",
    "print(corr)"
   ],
   "metadata": {
    "collapsed": false
   }
  },
  {
   "cell_type": "code",
   "execution_count": null,
   "outputs": [],
   "source": [
    "corr.style.background_gradient(cmap='GnBu', axis=None)\n"
   ],
   "metadata": {
    "collapsed": false
   }
  },
  {
   "cell_type": "code",
   "execution_count": null,
   "outputs": [],
   "source": [
    "\n",
    "corr = grouped_means.corr()\n",
    "ax = plt.axes()\n",
    "sb.heatmap(corr, cmap=\"GnBu\", annot=True, ax = ax)\n",
    "ax.set_title('2017 Data, No Lag')\n",
    "plt.savefig('2017corr_updated.png', bbox_inches='tight', pad_inches=0.0)"
   ],
   "metadata": {
    "collapsed": false
   }
  },
  {
   "cell_type": "code",
   "execution_count": null,
   "outputs": [],
   "source": [
    "plt.savefig('corr.png', bbox_inches='tight', pad_inches=0.0)\n"
   ],
   "metadata": {
    "collapsed": false
   }
  }
 ],
 "metadata": {
  "kernelspec": {
   "display_name": "Python 3",
   "language": "python",
   "name": "python3"
  },
  "language_info": {
   "codemirror_mode": {
    "name": "ipython",
    "version": 2
   },
   "file_extension": ".py",
   "mimetype": "text/x-python",
   "name": "python",
   "nbconvert_exporter": "python",
   "pygments_lexer": "ipython2",
   "version": "2.7.6"
  }
 },
 "nbformat": 4,
 "nbformat_minor": 0
}
