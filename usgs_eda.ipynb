{
 "cells": [
  {
   "cell_type": "markdown",
   "source": [
    "# Loading data"
   ],
   "metadata": {
    "collapsed": false
   }
  },
  {
   "cell_type": "code",
   "execution_count": 45,
   "outputs": [],
   "source": [
    "import pandas as pd\n",
    "import numpy as np\n",
    "import geopy\n",
    "import geopandas\n",
    "import csv, json\n",
    "from geojson import Feature, FeatureCollection, Point\n",
    "\n",
    "data = pd.read_csv('usgs_phos.csv', low_memory=False)"
   ],
   "metadata": {
    "collapsed": false
   }
  },
  {
   "cell_type": "code",
   "execution_count": null,
   "metadata": {
    "collapsed": false,
    "jupyter": {
     "outputs_hidden": false
    }
   },
   "outputs": [],
   "source": [
    "# just a toy to sample the data\n",
    "# data_little = pd.read_csv('usgs_phos.csv', nrows=12)\n",
    "# data_little"
   ]
  },
  {
   "cell_type": "code",
   "execution_count": null,
   "metadata": {
    "collapsed": false,
    "jupyter": {
     "outputs_hidden": false
    }
   },
   "outputs": [],
   "source": [
    "# exploratory data analysis\n",
    "# data.columns\n",
    "# data.shape[0] #1758481"
   ]
  },
  {
   "cell_type": "code",
   "execution_count": null,
   "metadata": {
    "collapsed": false,
    "jupyter": {
     "outputs_hidden": false
    }
   },
   "outputs": [],
   "source": [
    "# df['column2'] = np.where((df['column2'] == 'Null') | (df['column2'] == 0), df['column1'], df['column2'])"
   ]
  },
  {
   "cell_type": "markdown",
   "source": [
    "# Shaping Data"
   ],
   "metadata": {
    "collapsed": false
   }
  },
  {
   "cell_type": "code",
   "execution_count": 46,
   "outputs": [
    {
     "data": {
      "text/plain": "1758481"
     },
     "execution_count": 46,
     "metadata": {},
     "output_type": "execute_result"
    }
   ],
   "source": [
    "# creating a new dataframe that is condensed and only containing the fields we need, starting with 1758481 rows\n",
    "\n",
    "data_condensed = data[['OrganizationIdentifier','ActivityMediaSubdivisionName','ActivityStartDate','ResultMeasureValue','ResultMeasure/MeasureUnitCode','ActivityLocation/LatitudeMeasure','ActivityLocation/LongitudeMeasure','HydrologicEvent']].copy()\n",
    "data_condensed.shape[0]"
   ],
   "metadata": {
    "collapsed": false
   }
  },
  {
   "cell_type": "code",
   "execution_count": 47,
   "metadata": {
    "collapsed": false,
    "jupyter": {
     "outputs_hidden": false
    }
   },
   "outputs": [
    {
     "data": {
      "text/plain": "630448"
     },
     "execution_count": 47,
     "metadata": {},
     "output_type": "execute_result"
    }
   ],
   "source": [
    "# if there is an NaN in any field besides hydrologic event, drop the row. ending with 630448 rows\n",
    "\n",
    "data_condensed.dropna(subset=['OrganizationIdentifier','ActivityMediaSubdivisionName','ActivityStartDate','ResultMeasureValue','ResultMeasure/MeasureUnitCode','ActivityLocation/LatitudeMeasure','ActivityLocation/LongitudeMeasure'],inplace=True)\n",
    "data_condensed.shape[0] #630448"
   ]
  },
  {
   "cell_type": "code",
   "execution_count": 48,
   "metadata": {
    "collapsed": false,
    "jupyter": {
     "outputs_hidden": false
    }
   },
   "outputs": [],
   "source": [
    "# convert the ResultMeasureValue field to numeric, coerce errors so that the values that look like \"<0.05\" show up as 0\n",
    "\n",
    "data_condensed['ResultMeasureValue'] = pd.to_numeric(data_condensed['ResultMeasureValue'], errors='coerce')\n",
    "data_condensed['ResultMeasureValue'] = data_condensed['ResultMeasureValue'].fillna(0)\n",
    "data_condensed"
   ]
  },
  {
   "cell_type": "markdown",
   "source": [
    "# Mitigating Unit Measure Issues"
   ],
   "metadata": {
    "collapsed": false
   }
  },
  {
   "cell_type": "code",
   "execution_count": 49,
   "outputs": [
    {
     "data": {
      "text/plain": "ResultMeasure/MeasureUnitCode\nmg/L     579065\nug/L      51130\nug          158\nmg/kg        95\nName: count, dtype: int64"
     },
     "execution_count": 49,
     "metadata": {},
     "output_type": "execute_result"
    }
   ],
   "source": [
    "# dealing with differing units\n",
    "\n",
    "# mg (milligrams) per liter = mg per 1,000cc and 1000 cc of water weighs 1 kg. Therefore, 1 mg/L is the same as 1 mg/kg if you are talking about water. (ResearchGate, https://www.researchgate.net/post/Converting_mg_l_to_mg_kg#:~:text=mg%20(milligrams)%20per%20liter%20%3D,you%20are%20talking%20about%20water.)\n",
    "\n",
    "# convert ug/L to mg/L --> divide by 1000\n",
    "\n",
    "data_condensed['ResultMeasure/MeasureUnitCode'].unique()\n",
    "data_condensed['ResultMeasure/MeasureUnitCode'].value_counts()"
   ],
   "metadata": {
    "collapsed": false
   }
  },
  {
   "cell_type": "code",
   "execution_count": 50,
   "metadata": {
    "collapsed": false,
    "jupyter": {
     "outputs_hidden": false
    }
   },
   "outputs": [
    {
     "data": {
      "text/plain": "0.325"
     },
     "execution_count": 50,
     "metadata": {},
     "output_type": "execute_result"
    }
   ],
   "source": [
    "### --- investigation 'ug' only --- ###\n",
    "\n",
    "# 0.325 to about 1.6, surface water for the 'ug'\n",
    "# looks like this UG code is in OrganizationIdentifier called \"21VASWCB\", which is the VIRGINIA DEPARTMENT OF ENVIRONMENTAL QUALITY. confirmed via value_counts that this is the only org using 'ug'\n",
    "ug = data_condensed.loc[data_condensed['ResultMeasure/MeasureUnitCode'] == 'ug']\n",
    "ug['OrganizationIdentifier'].value_counts() #158\n",
    "ug['ResultMeasureValue'].max() #1.62\n",
    "ug['ResultMeasureValue'].min() #0.325"
   ]
  },
  {
   "cell_type": "code",
   "execution_count": 52,
   "metadata": {
    "collapsed": false,
    "jupyter": {
     "outputs_hidden": false
    }
   },
   "outputs": [],
   "source": [
    "# how comparable are ug and ug/L? are they of the same scale? we can treat these differently\n",
    "ugL = data_condensed.loc[data_condensed['ResultMeasure/MeasureUnitCode'] == 'ug/L']\n",
    "# ugL['ResultMeasureValue'].max() #2971.9\n",
    "# ugL['ResultMeasureValue'].min() #-0.948print(ugL.iloc[2])"
   ]
  },
  {
   "cell_type": "code",
   "execution_count": 57,
   "outputs": [
    {
     "name": "stdout",
     "output_type": "stream",
     "text": [
      "OrganizationIdentifier                   EPA_GLNPO\n",
      "ActivityMediaSubdivisionName         Surface Water\n",
      "ActivityStartDate                       2010-04-06\n",
      "ResultMeasureValue                           1.234\n",
      "ResultMeasure/MeasureUnitCode                 ug/L\n",
      "ActivityLocation/LatitudeMeasure         44.000417\n",
      "ActivityLocation/LongitudeMeasure       -82.350283\n",
      "HydrologicEvent                                NaN\n",
      "Name: 376678, dtype: object\n"
     ]
    }
   ],
   "source": [
    "# looking at one specific row, 2, current value is 1.234\n",
    "print(ugL.iloc[2])"
   ],
   "metadata": {
    "collapsed": false
   }
  },
  {
   "cell_type": "code",
   "execution_count": 58,
   "outputs": [],
   "source": [
    "# convert ug/L to mg/L, divide all cells by 1000 if ResultMeasureUnit = ug/L else ResultMeasureValue\n",
    "\n",
    "data_condensed['ResultMeasureValue'] = data_condensed.apply(lambda x: x['ResultMeasureValue']/1000 if x['ResultMeasure/MeasureUnitCode']=='ug/L' else x['ResultMeasureValue'], axis=1)"
   ],
   "metadata": {
    "collapsed": false
   }
  },
  {
   "cell_type": "code",
   "execution_count": 59,
   "outputs": [
    {
     "name": "stdout",
     "output_type": "stream",
     "text": [
      "OrganizationIdentifier                   EPA_GLNPO\n",
      "ActivityMediaSubdivisionName         Surface Water\n",
      "ActivityStartDate                       2010-04-06\n",
      "ResultMeasureValue                        0.001234\n",
      "ResultMeasure/MeasureUnitCode                 ug/L\n",
      "ActivityLocation/LatitudeMeasure         44.000417\n",
      "ActivityLocation/LongitudeMeasure       -82.350283\n",
      "HydrologicEvent                                NaN\n",
      "Name: 376678, dtype: object\n"
     ]
    }
   ],
   "source": [
    "# confirmed! value was divided by 1000\n",
    "\n",
    "ugL = data_condensed.loc[data_condensed['ResultMeasure/MeasureUnitCode'] == 'ug/L']\n",
    "print(ugL.iloc[2])"
   ],
   "metadata": {
    "collapsed": false
   }
  },
  {
   "cell_type": "code",
   "execution_count": 62,
   "outputs": [
    {
     "name": "stderr",
     "output_type": "stream",
     "text": [
      "C:\\Users\\caraca\\AppData\\Local\\Temp\\1\\ipykernel_17200\\1040678648.py:3: FutureWarning: A value is trying to be set on a copy of a DataFrame or Series through chained assignment using an inplace method.\n",
      "The behavior will change in pandas 3.0. This inplace method will never work because the intermediate object on which we are setting values always behaves as a copy.\n",
      "\n",
      "For example, when doing 'df[col].method(value, inplace=True)', try using 'df.method({col: value}, inplace=True)' or df[col] = df[col].method(value) instead, to perform the operation inplace on the original object.\n",
      "\n",
      "\n",
      "  data_condensed['ResultMeasure/MeasureUnitCode'].replace('ug/L','mg/L',inplace=True)\n",
      "C:\\Users\\caraca\\AppData\\Local\\Temp\\1\\ipykernel_17200\\1040678648.py:4: FutureWarning: A value is trying to be set on a copy of a DataFrame or Series through chained assignment using an inplace method.\n",
      "The behavior will change in pandas 3.0. This inplace method will never work because the intermediate object on which we are setting values always behaves as a copy.\n",
      "\n",
      "For example, when doing 'df[col].method(value, inplace=True)', try using 'df.method({col: value}, inplace=True)' or df[col] = df[col].method(value) instead, to perform the operation inplace on the original object.\n",
      "\n",
      "\n",
      "  data_condensed['ResultMeasure/MeasureUnitCode'].replace('mg/kg','mg/L',inplace=True)\n"
     ]
    }
   ],
   "source": [
    "# now fixing units for the values that were changed, from ug/L to mg/L & mg/kg to mg/L\n",
    "\n",
    "data_condensed['ResultMeasure/MeasureUnitCode'].replace('ug/L','mg/L',inplace=True)\n",
    "data_condensed['ResultMeasure/MeasureUnitCode'].replace('mg/kg','mg/L',inplace=True)"
   ],
   "metadata": {
    "collapsed": false
   }
  },
  {
   "cell_type": "code",
   "execution_count": 63,
   "outputs": [
    {
     "data": {
      "text/plain": "ResultMeasure/MeasureUnitCode\nmg/L    630290\nug         158\nName: count, dtype: int64"
     },
     "execution_count": 63,
     "metadata": {},
     "output_type": "execute_result"
    }
   ],
   "source": [
    "# confirming that worked\n",
    "\n",
    "data_condensed['ResultMeasure/MeasureUnitCode'].value_counts()"
   ],
   "metadata": {
    "collapsed": false
   }
  },
  {
   "cell_type": "code",
   "execution_count": null,
   "outputs": [],
   "source": [
    "#TODO: what do we want to do with the \"ug\"? drop them? think that they're a typo in VA?"
   ],
   "metadata": {
    "collapsed": false
   }
  },
  {
   "cell_type": "markdown",
   "source": [
    "# Adding in the ZIPs"
   ],
   "metadata": {
    "collapsed": false
   }
  },
  {
   "cell_type": "code",
   "execution_count": null,
   "outputs": [],
   "source": [
    "#creating a further condensed data set with just the lat and lon points\n",
    "df2 = pd.DataFrame()\n",
    "df2['Lat'] = data_condensed['ActivityLocation/LatitudeMeasure']\n",
    "df2['Lon'] = data_condensed['ActivityLocation/LongitudeMeasure']"
   ],
   "metadata": {
    "collapsed": false
   }
  },
  {
   "cell_type": "code",
   "execution_count": null,
   "metadata": {
    "collapsed": false,
    "jupyter": {
     "outputs_hidden": false
    }
   },
   "outputs": [],
   "source": [
    "# there is ratelimiting on this package according to its terms of use. about 2000 requests take 15 mintues... we have 630K rows. showing what *didn't* work\n",
    "\n",
    "# def get_zipcode(df, geolocator, lat_field, lon_field, attempt=1, max_attempts=100):\n",
    "#     try:\n",
    "#         location = geolocator.reverse((df[lat_field], df[lon_field]), timeout=None)\n",
    "#         return location.raw['address']['postcode']\n",
    "#     except KeyError:\n",
    "#         pass\n",
    "#     except GeocoderTimedOut:\n",
    "#         if attempt <= max_attempts:\n",
    "#             return get_zipcode (df, attempt=attempt+1)\n",
    "#         raise\n",
    "#\n",
    "# geolocator = geopy.Nominatim(user_agent='cara-umsi')\n",
    "# zipcodes = df2.apply(get_zipcode, axis=1, geolocator=geolocator, lat_field='Lat', lon_field='Lon')"
   ]
  },
  {
   "cell_type": "code",
   "execution_count": null,
   "outputs": [],
   "source": [
    "# note that in this csv, i renamed the fields to 'latitutde', 'longitude', and 'position', copying the index. later, to make the geopandas work, i had to delete the field names\n",
    "df2.to_csv('latlong.csv')"
   ],
   "metadata": {
    "collapsed": false
   }
  },
  {
   "cell_type": "code",
   "execution_count": null,
   "outputs": [],
   "source": [
    "# reading the csv, transforming it to geojason (remember i deleted column labels, probably could've just started to read at row 1...\n",
    "features = []\n",
    "with open('latlong.csv', newline='') as csvfile:\n",
    "    reader = csv.reader(csvfile, delimiter=',')\n",
    "    for latitude, longitude, position in reader:\n",
    "        latitude, longitude = map(float, (latitude, longitude))\n",
    "        features.append(\n",
    "            Feature(\n",
    "                geometry = Point((longitude, latitude)),\n",
    "                properties = {\n",
    "                    'position': position,\n",
    "                }\n",
    "            )\n",
    "        )\n",
    "\n",
    "collection = FeatureCollection(features)\n",
    "with open(\"GeoObs.json\", \"w\") as f:\n",
    "    f.write('%s' % collection)"
   ],
   "metadata": {
    "collapsed": false
   }
  },
  {
   "cell_type": "code",
   "execution_count": null,
   "outputs": [],
   "source": [
    "# this chunk takes the geojson file generated above and sjoins it (finding intersections) with zipcode data\n",
    "# https://stackoverflow.com/questions/48586647/python-script-to-convert-csv-to-geojson\n",
    "# get zip code data from ArcGIS https://www.arcgis.com/home/item.html?id=8d2012a2016e484dafaac0451f9aea24\n",
    "# first need to extract the .lpk zip codes file locally, then run the below\n",
    "\n",
    "points = geopandas.read_file('GeoObs.json')\n",
    "zipcodes = geopandas.read_file(\"zip_poly.gdb\")\n",
    "zip_points = points.sjoin(zipcodes, how='left', )"
   ],
   "metadata": {
    "collapsed": false
   }
  },
  {
   "cell_type": "code",
   "execution_count": 64,
   "outputs": [
    {
     "data": {
      "text/plain": "       position                    geometry  index_right ZIP_CODE  \\\n0        375300  POINT (-78.68400 38.87030)       6790.0    22824   \n1        375302  POINT (-93.36240 44.92690)      18094.0    55426   \n2        375303  POINT (-78.48670 37.25750)       7146.0    23958   \n3        375305  POINT (-93.26861 43.51392)      18306.0    56036   \n4        375308  POINT (-94.77260 46.93120)      18582.0    56467   \n...         ...                         ...          ...      ...   \n630443  1758474  POINT (-77.48340 37.53200)       6940.0    23220   \n630444  1758475  POINT (-81.14030 36.81560)       7320.0    24382   \n630445  1758476  POINT (-81.98170 36.89940)       7267.0    24266   \n630446  1758477  POINT (-82.49140 36.63920)       7261.0    24251   \n630447  1758478  POINT (-79.42030 36.58940)       7380.0    24541   \n\n            PO_NAME STATE  POPULATION  POP_SQMI    SQMI  Shape_Length  \\\n0          Edinburg    VA      5899.0     62.20   94.84      1.260412   \n1       Minneapolis    MN     27234.0   3885.02    7.01      0.288734   \n2           Pamplin    VA      3142.0     30.10  104.38      1.281059   \n3         Glenville    MN      1726.0     15.08  114.48      1.084185   \n4             Nevis    MN      2580.0     17.10  150.90      1.706309   \n...             ...   ...         ...       ...     ...           ...   \n630443     Richmond    VA     40197.0   7471.56    5.38      0.249311   \n630444   Wytheville    VA     13837.0     71.73  192.91      1.933335   \n630445      Lebanon    VA      8506.0     74.56  114.09      1.861061   \n630446    Gate City    VA      8524.0     75.78  112.48      1.688213   \n630447     Danville    VA     27282.0    373.16   73.11      1.082376   \n\n        Shape_Area  \n0         0.025488  \n1         0.002071  \n2         0.027463  \n3         0.033023  \n4         0.046198  \n...            ...  \n630443    0.001420  \n630444    0.050549  \n630445    0.029861  \n630446    0.029360  \n630447    0.019069  \n\n[630448 rows x 11 columns]",
      "text/html": "<div>\n<style scoped>\n    .dataframe tbody tr th:only-of-type {\n        vertical-align: middle;\n    }\n\n    .dataframe tbody tr th {\n        vertical-align: top;\n    }\n\n    .dataframe thead th {\n        text-align: right;\n    }\n</style>\n<table border=\"1\" class=\"dataframe\">\n  <thead>\n    <tr style=\"text-align: right;\">\n      <th></th>\n      <th>position</th>\n      <th>geometry</th>\n      <th>index_right</th>\n      <th>ZIP_CODE</th>\n      <th>PO_NAME</th>\n      <th>STATE</th>\n      <th>POPULATION</th>\n      <th>POP_SQMI</th>\n      <th>SQMI</th>\n      <th>Shape_Length</th>\n      <th>Shape_Area</th>\n    </tr>\n  </thead>\n  <tbody>\n    <tr>\n      <th>0</th>\n      <td>375300</td>\n      <td>POINT (-78.68400 38.87030)</td>\n      <td>6790.0</td>\n      <td>22824</td>\n      <td>Edinburg</td>\n      <td>VA</td>\n      <td>5899.0</td>\n      <td>62.20</td>\n      <td>94.84</td>\n      <td>1.260412</td>\n      <td>0.025488</td>\n    </tr>\n    <tr>\n      <th>1</th>\n      <td>375302</td>\n      <td>POINT (-93.36240 44.92690)</td>\n      <td>18094.0</td>\n      <td>55426</td>\n      <td>Minneapolis</td>\n      <td>MN</td>\n      <td>27234.0</td>\n      <td>3885.02</td>\n      <td>7.01</td>\n      <td>0.288734</td>\n      <td>0.002071</td>\n    </tr>\n    <tr>\n      <th>2</th>\n      <td>375303</td>\n      <td>POINT (-78.48670 37.25750)</td>\n      <td>7146.0</td>\n      <td>23958</td>\n      <td>Pamplin</td>\n      <td>VA</td>\n      <td>3142.0</td>\n      <td>30.10</td>\n      <td>104.38</td>\n      <td>1.281059</td>\n      <td>0.027463</td>\n    </tr>\n    <tr>\n      <th>3</th>\n      <td>375305</td>\n      <td>POINT (-93.26861 43.51392)</td>\n      <td>18306.0</td>\n      <td>56036</td>\n      <td>Glenville</td>\n      <td>MN</td>\n      <td>1726.0</td>\n      <td>15.08</td>\n      <td>114.48</td>\n      <td>1.084185</td>\n      <td>0.033023</td>\n    </tr>\n    <tr>\n      <th>4</th>\n      <td>375308</td>\n      <td>POINT (-94.77260 46.93120)</td>\n      <td>18582.0</td>\n      <td>56467</td>\n      <td>Nevis</td>\n      <td>MN</td>\n      <td>2580.0</td>\n      <td>17.10</td>\n      <td>150.90</td>\n      <td>1.706309</td>\n      <td>0.046198</td>\n    </tr>\n    <tr>\n      <th>...</th>\n      <td>...</td>\n      <td>...</td>\n      <td>...</td>\n      <td>...</td>\n      <td>...</td>\n      <td>...</td>\n      <td>...</td>\n      <td>...</td>\n      <td>...</td>\n      <td>...</td>\n      <td>...</td>\n    </tr>\n    <tr>\n      <th>630443</th>\n      <td>1758474</td>\n      <td>POINT (-77.48340 37.53200)</td>\n      <td>6940.0</td>\n      <td>23220</td>\n      <td>Richmond</td>\n      <td>VA</td>\n      <td>40197.0</td>\n      <td>7471.56</td>\n      <td>5.38</td>\n      <td>0.249311</td>\n      <td>0.001420</td>\n    </tr>\n    <tr>\n      <th>630444</th>\n      <td>1758475</td>\n      <td>POINT (-81.14030 36.81560)</td>\n      <td>7320.0</td>\n      <td>24382</td>\n      <td>Wytheville</td>\n      <td>VA</td>\n      <td>13837.0</td>\n      <td>71.73</td>\n      <td>192.91</td>\n      <td>1.933335</td>\n      <td>0.050549</td>\n    </tr>\n    <tr>\n      <th>630445</th>\n      <td>1758476</td>\n      <td>POINT (-81.98170 36.89940)</td>\n      <td>7267.0</td>\n      <td>24266</td>\n      <td>Lebanon</td>\n      <td>VA</td>\n      <td>8506.0</td>\n      <td>74.56</td>\n      <td>114.09</td>\n      <td>1.861061</td>\n      <td>0.029861</td>\n    </tr>\n    <tr>\n      <th>630446</th>\n      <td>1758477</td>\n      <td>POINT (-82.49140 36.63920)</td>\n      <td>7261.0</td>\n      <td>24251</td>\n      <td>Gate City</td>\n      <td>VA</td>\n      <td>8524.0</td>\n      <td>75.78</td>\n      <td>112.48</td>\n      <td>1.688213</td>\n      <td>0.029360</td>\n    </tr>\n    <tr>\n      <th>630447</th>\n      <td>1758478</td>\n      <td>POINT (-79.42030 36.58940)</td>\n      <td>7380.0</td>\n      <td>24541</td>\n      <td>Danville</td>\n      <td>VA</td>\n      <td>27282.0</td>\n      <td>373.16</td>\n      <td>73.11</td>\n      <td>1.082376</td>\n      <td>0.019069</td>\n    </tr>\n  </tbody>\n</table>\n<p>630448 rows × 11 columns</p>\n</div>"
     },
     "execution_count": 64,
     "metadata": {},
     "output_type": "execute_result"
    }
   ],
   "source": [
    "zip_points"
   ],
   "metadata": {
    "collapsed": false
   }
  },
  {
   "cell_type": "markdown",
   "source": [
    "# Merging DFs Together"
   ],
   "metadata": {
    "collapsed": false
   }
  },
  {
   "cell_type": "code",
   "execution_count": 69,
   "outputs": [],
   "source": [
    "# first change dtype from object to int for position\n",
    "zip_points['position']=zip_points['position'].astype(int)"
   ],
   "metadata": {
    "collapsed": false
   }
  },
  {
   "cell_type": "code",
   "execution_count": 70,
   "outputs": [],
   "source": [
    "# traditional inner join to merge the 2 data frames\n",
    "data_usgs = pd.merge(data_condensed,zip_points,left_index=True, right_on='position')"
   ],
   "metadata": {
    "collapsed": false
   }
  },
  {
   "cell_type": "code",
   "execution_count": 71,
   "outputs": [
    {
     "data": {
      "text/plain": "       OrganizationIdentifier ActivityMediaSubdivisionName ActivityStartDate  \\\n0                    21VASWCB                Surface Water        2010-10-28   \n1                       MNPCA                Surface Water        2010-09-01   \n2                    21VASWCB                Surface Water        2010-04-28   \n3                       MNPCA                Surface Water        2010-06-24   \n4                       MNPCA                Surface Water        2010-08-16   \n...                       ...                          ...               ...   \n630443               21VASWCB                Surface Water        2024-01-03   \n630444               21VASWCB                Surface Water        2024-02-08   \n630445               21VASWCB                Surface Water        2024-02-12   \n630446               21VASWCB                Surface Water        2024-01-10   \n630447               21VASWCB                Surface Water        2024-01-22   \n\n        ResultMeasureValue ResultMeasure/MeasureUnitCode  \\\n0                   0.0100                          mg/L   \n1                   0.0610                          mg/L   \n2                   0.0200                          mg/L   \n3                   0.4540                          mg/L   \n4                   0.0140                          mg/L   \n...                    ...                           ...   \n630443              0.0112                          mg/L   \n630444              0.0200                          mg/L   \n630445              0.0300                          mg/L   \n630446              0.0300                          mg/L   \n630447              0.0300                          mg/L   \n\n        ActivityLocation/LatitudeMeasure  ActivityLocation/LongitudeMeasure  \\\n0                              38.870300                         -78.684000   \n1                              44.926900                         -93.362400   \n2                              37.257500                         -78.486700   \n3                              43.513917                         -93.268611   \n4                              46.931197                         -94.772603   \n...                                  ...                                ...   \n630443                         37.532000                         -77.483400   \n630444                         36.815600                         -81.140300   \n630445                         36.899400                         -81.981700   \n630446                         36.639200                         -82.491400   \n630447                         36.589400                         -79.420300   \n\n       HydrologicEvent  position                    geometry  index_right  \\\n0                  NaN    375300  POINT (-78.68400 38.87030)       6790.0   \n1                  NaN    375302  POINT (-93.36240 44.92690)      18094.0   \n2                  NaN    375303  POINT (-78.48670 37.25750)       7146.0   \n3                  NaN    375305  POINT (-93.26861 43.51392)      18306.0   \n4                  NaN    375308  POINT (-94.77260 46.93120)      18582.0   \n...                ...       ...                         ...          ...   \n630443             NaN   1758474  POINT (-77.48340 37.53200)       6940.0   \n630444             NaN   1758475  POINT (-81.14030 36.81560)       7320.0   \n630445             NaN   1758476  POINT (-81.98170 36.89940)       7267.0   \n630446             NaN   1758477  POINT (-82.49140 36.63920)       7261.0   \n630447             NaN   1758478  POINT (-79.42030 36.58940)       7380.0   \n\n       ZIP_CODE      PO_NAME STATE  POPULATION  POP_SQMI    SQMI  \\\n0         22824     Edinburg    VA      5899.0     62.20   94.84   \n1         55426  Minneapolis    MN     27234.0   3885.02    7.01   \n2         23958      Pamplin    VA      3142.0     30.10  104.38   \n3         56036    Glenville    MN      1726.0     15.08  114.48   \n4         56467        Nevis    MN      2580.0     17.10  150.90   \n...         ...          ...   ...         ...       ...     ...   \n630443    23220     Richmond    VA     40197.0   7471.56    5.38   \n630444    24382   Wytheville    VA     13837.0     71.73  192.91   \n630445    24266      Lebanon    VA      8506.0     74.56  114.09   \n630446    24251    Gate City    VA      8524.0     75.78  112.48   \n630447    24541     Danville    VA     27282.0    373.16   73.11   \n\n        Shape_Length  Shape_Area  \n0           1.260412    0.025488  \n1           0.288734    0.002071  \n2           1.281059    0.027463  \n3           1.084185    0.033023  \n4           1.706309    0.046198  \n...              ...         ...  \n630443      0.249311    0.001420  \n630444      1.933335    0.050549  \n630445      1.861061    0.029861  \n630446      1.688213    0.029360  \n630447      1.082376    0.019069  \n\n[630448 rows x 19 columns]",
      "text/html": "<div>\n<style scoped>\n    .dataframe tbody tr th:only-of-type {\n        vertical-align: middle;\n    }\n\n    .dataframe tbody tr th {\n        vertical-align: top;\n    }\n\n    .dataframe thead th {\n        text-align: right;\n    }\n</style>\n<table border=\"1\" class=\"dataframe\">\n  <thead>\n    <tr style=\"text-align: right;\">\n      <th></th>\n      <th>OrganizationIdentifier</th>\n      <th>ActivityMediaSubdivisionName</th>\n      <th>ActivityStartDate</th>\n      <th>ResultMeasureValue</th>\n      <th>ResultMeasure/MeasureUnitCode</th>\n      <th>ActivityLocation/LatitudeMeasure</th>\n      <th>ActivityLocation/LongitudeMeasure</th>\n      <th>HydrologicEvent</th>\n      <th>position</th>\n      <th>geometry</th>\n      <th>index_right</th>\n      <th>ZIP_CODE</th>\n      <th>PO_NAME</th>\n      <th>STATE</th>\n      <th>POPULATION</th>\n      <th>POP_SQMI</th>\n      <th>SQMI</th>\n      <th>Shape_Length</th>\n      <th>Shape_Area</th>\n    </tr>\n  </thead>\n  <tbody>\n    <tr>\n      <th>0</th>\n      <td>21VASWCB</td>\n      <td>Surface Water</td>\n      <td>2010-10-28</td>\n      <td>0.0100</td>\n      <td>mg/L</td>\n      <td>38.870300</td>\n      <td>-78.684000</td>\n      <td>NaN</td>\n      <td>375300</td>\n      <td>POINT (-78.68400 38.87030)</td>\n      <td>6790.0</td>\n      <td>22824</td>\n      <td>Edinburg</td>\n      <td>VA</td>\n      <td>5899.0</td>\n      <td>62.20</td>\n      <td>94.84</td>\n      <td>1.260412</td>\n      <td>0.025488</td>\n    </tr>\n    <tr>\n      <th>1</th>\n      <td>MNPCA</td>\n      <td>Surface Water</td>\n      <td>2010-09-01</td>\n      <td>0.0610</td>\n      <td>mg/L</td>\n      <td>44.926900</td>\n      <td>-93.362400</td>\n      <td>NaN</td>\n      <td>375302</td>\n      <td>POINT (-93.36240 44.92690)</td>\n      <td>18094.0</td>\n      <td>55426</td>\n      <td>Minneapolis</td>\n      <td>MN</td>\n      <td>27234.0</td>\n      <td>3885.02</td>\n      <td>7.01</td>\n      <td>0.288734</td>\n      <td>0.002071</td>\n    </tr>\n    <tr>\n      <th>2</th>\n      <td>21VASWCB</td>\n      <td>Surface Water</td>\n      <td>2010-04-28</td>\n      <td>0.0200</td>\n      <td>mg/L</td>\n      <td>37.257500</td>\n      <td>-78.486700</td>\n      <td>NaN</td>\n      <td>375303</td>\n      <td>POINT (-78.48670 37.25750)</td>\n      <td>7146.0</td>\n      <td>23958</td>\n      <td>Pamplin</td>\n      <td>VA</td>\n      <td>3142.0</td>\n      <td>30.10</td>\n      <td>104.38</td>\n      <td>1.281059</td>\n      <td>0.027463</td>\n    </tr>\n    <tr>\n      <th>3</th>\n      <td>MNPCA</td>\n      <td>Surface Water</td>\n      <td>2010-06-24</td>\n      <td>0.4540</td>\n      <td>mg/L</td>\n      <td>43.513917</td>\n      <td>-93.268611</td>\n      <td>NaN</td>\n      <td>375305</td>\n      <td>POINT (-93.26861 43.51392)</td>\n      <td>18306.0</td>\n      <td>56036</td>\n      <td>Glenville</td>\n      <td>MN</td>\n      <td>1726.0</td>\n      <td>15.08</td>\n      <td>114.48</td>\n      <td>1.084185</td>\n      <td>0.033023</td>\n    </tr>\n    <tr>\n      <th>4</th>\n      <td>MNPCA</td>\n      <td>Surface Water</td>\n      <td>2010-08-16</td>\n      <td>0.0140</td>\n      <td>mg/L</td>\n      <td>46.931197</td>\n      <td>-94.772603</td>\n      <td>NaN</td>\n      <td>375308</td>\n      <td>POINT (-94.77260 46.93120)</td>\n      <td>18582.0</td>\n      <td>56467</td>\n      <td>Nevis</td>\n      <td>MN</td>\n      <td>2580.0</td>\n      <td>17.10</td>\n      <td>150.90</td>\n      <td>1.706309</td>\n      <td>0.046198</td>\n    </tr>\n    <tr>\n      <th>...</th>\n      <td>...</td>\n      <td>...</td>\n      <td>...</td>\n      <td>...</td>\n      <td>...</td>\n      <td>...</td>\n      <td>...</td>\n      <td>...</td>\n      <td>...</td>\n      <td>...</td>\n      <td>...</td>\n      <td>...</td>\n      <td>...</td>\n      <td>...</td>\n      <td>...</td>\n      <td>...</td>\n      <td>...</td>\n      <td>...</td>\n      <td>...</td>\n    </tr>\n    <tr>\n      <th>630443</th>\n      <td>21VASWCB</td>\n      <td>Surface Water</td>\n      <td>2024-01-03</td>\n      <td>0.0112</td>\n      <td>mg/L</td>\n      <td>37.532000</td>\n      <td>-77.483400</td>\n      <td>NaN</td>\n      <td>1758474</td>\n      <td>POINT (-77.48340 37.53200)</td>\n      <td>6940.0</td>\n      <td>23220</td>\n      <td>Richmond</td>\n      <td>VA</td>\n      <td>40197.0</td>\n      <td>7471.56</td>\n      <td>5.38</td>\n      <td>0.249311</td>\n      <td>0.001420</td>\n    </tr>\n    <tr>\n      <th>630444</th>\n      <td>21VASWCB</td>\n      <td>Surface Water</td>\n      <td>2024-02-08</td>\n      <td>0.0200</td>\n      <td>mg/L</td>\n      <td>36.815600</td>\n      <td>-81.140300</td>\n      <td>NaN</td>\n      <td>1758475</td>\n      <td>POINT (-81.14030 36.81560)</td>\n      <td>7320.0</td>\n      <td>24382</td>\n      <td>Wytheville</td>\n      <td>VA</td>\n      <td>13837.0</td>\n      <td>71.73</td>\n      <td>192.91</td>\n      <td>1.933335</td>\n      <td>0.050549</td>\n    </tr>\n    <tr>\n      <th>630445</th>\n      <td>21VASWCB</td>\n      <td>Surface Water</td>\n      <td>2024-02-12</td>\n      <td>0.0300</td>\n      <td>mg/L</td>\n      <td>36.899400</td>\n      <td>-81.981700</td>\n      <td>NaN</td>\n      <td>1758476</td>\n      <td>POINT (-81.98170 36.89940)</td>\n      <td>7267.0</td>\n      <td>24266</td>\n      <td>Lebanon</td>\n      <td>VA</td>\n      <td>8506.0</td>\n      <td>74.56</td>\n      <td>114.09</td>\n      <td>1.861061</td>\n      <td>0.029861</td>\n    </tr>\n    <tr>\n      <th>630446</th>\n      <td>21VASWCB</td>\n      <td>Surface Water</td>\n      <td>2024-01-10</td>\n      <td>0.0300</td>\n      <td>mg/L</td>\n      <td>36.639200</td>\n      <td>-82.491400</td>\n      <td>NaN</td>\n      <td>1758477</td>\n      <td>POINT (-82.49140 36.63920)</td>\n      <td>7261.0</td>\n      <td>24251</td>\n      <td>Gate City</td>\n      <td>VA</td>\n      <td>8524.0</td>\n      <td>75.78</td>\n      <td>112.48</td>\n      <td>1.688213</td>\n      <td>0.029360</td>\n    </tr>\n    <tr>\n      <th>630447</th>\n      <td>21VASWCB</td>\n      <td>Surface Water</td>\n      <td>2024-01-22</td>\n      <td>0.0300</td>\n      <td>mg/L</td>\n      <td>36.589400</td>\n      <td>-79.420300</td>\n      <td>NaN</td>\n      <td>1758478</td>\n      <td>POINT (-79.42030 36.58940)</td>\n      <td>7380.0</td>\n      <td>24541</td>\n      <td>Danville</td>\n      <td>VA</td>\n      <td>27282.0</td>\n      <td>373.16</td>\n      <td>73.11</td>\n      <td>1.082376</td>\n      <td>0.019069</td>\n    </tr>\n  </tbody>\n</table>\n<p>630448 rows × 19 columns</p>\n</div>"
     },
     "execution_count": 71,
     "metadata": {},
     "output_type": "execute_result"
    }
   ],
   "source": [
    "# voila, chef's kiss\n",
    "data_usgs"
   ],
   "metadata": {
    "collapsed": false
   }
  }
 ],
 "metadata": {
  "kernelspec": {
   "display_name": "Python 3 (ipykernel)",
   "language": "python",
   "name": "python3"
  },
  "language_info": {
   "codemirror_mode": {
    "name": "ipython",
    "version": 3
   },
   "file_extension": ".py",
   "mimetype": "text/x-python",
   "name": "python",
   "nbconvert_exporter": "python",
   "pygments_lexer": "ipython3",
   "version": "3.9.5"
  }
 },
 "nbformat": 4,
 "nbformat_minor": 4
}
