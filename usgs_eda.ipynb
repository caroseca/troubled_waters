{
 "cells": [
  {
   "cell_type": "markdown",
   "source": [
    "# Loading data"
   ],
   "metadata": {
    "collapsed": false
   }
  },
  {
   "cell_type": "code",
   "execution_count": 2,
   "outputs": [],
   "source": [
    "import pandas as pd\n",
    "import numpy as np\n",
    "import geopy\n",
    "import geopandas\n",
    "import csv, json\n",
    "from geojson import Feature, FeatureCollection, Point\n",
    "\n",
    "data = pd.read_csv('usgs_phos.csv', low_memory=False)"
   ],
   "metadata": {
    "collapsed": false
   }
  },
  {
   "cell_type": "code",
   "execution_count": 3,
   "metadata": {
    "collapsed": false,
    "jupyter": {
     "outputs_hidden": false
    }
   },
   "outputs": [],
   "source": [
    "# just a toy to sample the data\n",
    "# data_little = pd.read_csv('usgs_phos.csv', nrows=12)\n",
    "# data_little"
   ]
  },
  {
   "cell_type": "code",
   "execution_count": 4,
   "metadata": {
    "collapsed": false,
    "jupyter": {
     "outputs_hidden": false
    }
   },
   "outputs": [],
   "source": [
    "# exploratory data analysis\n",
    "# data.columns\n",
    "# data.shape[0] #1758481"
   ]
  },
  {
   "cell_type": "code",
   "execution_count": 5,
   "metadata": {
    "collapsed": false,
    "jupyter": {
     "outputs_hidden": false
    }
   },
   "outputs": [],
   "source": [
    "# df['column2'] = np.where((df['column2'] == 'Null') | (df['column2'] == 0), df['column1'], df['column2'])"
   ]
  },
  {
   "cell_type": "markdown",
   "source": [
    "# what's going on in minnesota"
   ],
   "metadata": {
    "collapsed": false
   }
  },
  {
   "cell_type": "code",
   "execution_count": 6,
   "outputs": [],
   "source": [
    "ohio = data[data['OrganizationIdentifier'] == 'MNPCA']"
   ],
   "metadata": {
    "collapsed": false
   }
  },
  {
   "cell_type": "code",
   "execution_count": 7,
   "outputs": [],
   "source": [
    "ohio.to_csv('mnpca.csv')"
   ],
   "metadata": {
    "collapsed": false
   }
  },
  {
   "cell_type": "markdown",
   "source": [
    "# Shaping Data"
   ],
   "metadata": {
    "collapsed": false
   }
  },
  {
   "cell_type": "code",
   "execution_count": 8,
   "outputs": [
    {
     "data": {
      "text/plain": "1758481"
     },
     "execution_count": 8,
     "metadata": {},
     "output_type": "execute_result"
    }
   ],
   "source": [
    "# creating a new dataframe that is condensed and only containing the fields we need, starting with 1758481 rows\n",
    "\n",
    "data_condensed = data[['OrganizationIdentifier','ActivityMediaSubdivisionName','ActivityStartDate','ResultMeasureValue','ResultMeasure/MeasureUnitCode','ActivityLocation/LatitudeMeasure','ActivityLocation/LongitudeMeasure','HydrologicEvent']].copy()\n",
    "len(data_condensed)"
   ],
   "metadata": {
    "collapsed": false
   }
  },
  {
   "cell_type": "code",
   "execution_count": 9,
   "outputs": [
    {
     "data": {
      "text/plain": "ActivityMediaSubdivisionName\nSurface Water                          1015046\nStormwater                                 728\nGroundwater                                672\nInterstitial                                55\nDrinking Water                              41\nEffluent                                    37\nHyporheic zone                              15\nLeachate                                    12\nWet Fall Material                            8\nSnowmelt                                     8\nSurface Soil/Sediment                        5\nIndustrial Effluent                          4\nInterstitial Water                           3\nAmbient Air                                  1\nWastewater Treatment Plant Influent          1\nName: count, dtype: int64"
     },
     "execution_count": 9,
     "metadata": {},
     "output_type": "execute_result"
    }
   ],
   "source": [
    "data_condensed['ActivityMediaSubdivisionName'].value_counts()"
   ],
   "metadata": {
    "collapsed": false
   }
  },
  {
   "cell_type": "code",
   "execution_count": 10,
   "metadata": {
    "collapsed": false,
    "jupyter": {
     "outputs_hidden": false
    }
   },
   "outputs": [
    {
     "data": {
      "text/plain": "        OrganizationIdentifier ActivityMediaSubdivisionName ActivityStartDate  \\\n375300                21VASWCB                Surface Water        2010-10-28   \n375301            21KAN001_WQX                          NaN        2010-05-04   \n375302                   MNPCA                Surface Water        2010-09-01   \n375303                21VASWCB                Surface Water        2010-04-28   \n375304                  21AWIC                          NaN        2010-09-09   \n...                        ...                          ...               ...   \n1758476               21VASWCB                Surface Water        2024-02-12   \n1758477               21VASWCB                Surface Water        2024-01-10   \n1758478               21VASWCB                Surface Water        2024-01-22   \n1758479               ESTO_WQX                          NaN        2024-01-30   \n1758480              WIDNR_WQX                          NaN        2024-01-29   \n\n        ResultMeasureValue ResultMeasure/MeasureUnitCode  \\\n375300                 .01                          mg/L   \n375301             0.22000                          mg/L   \n375302               0.061                          mg/L   \n375303                 .02                          mg/L   \n375304                .028                          mg/L   \n...                    ...                           ...   \n1758476                .03                          mg/L   \n1758477                .03                          mg/L   \n1758478                .03                          mg/L   \n1758479         0.04100000                          mg/L   \n1758480              0.120                          mg/L   \n\n         ActivityLocation/LatitudeMeasure  ActivityLocation/LongitudeMeasure  \\\n375300                          38.870300                         -78.684000   \n375301                          38.901090                         -97.222520   \n375302                          44.926900                         -93.362400   \n375303                          37.257500                         -78.486700   \n375304                          33.575000                         -88.083400   \n...                                   ...                                ...   \n1758476                         36.899400                         -81.981700   \n1758477                         36.639200                         -82.491400   \n1758478                         36.589400                         -79.420300   \n1758479                         36.830115                         -94.627585   \n1758480                         42.510227                         -89.801150   \n\n        HydrologicEvent  \n375300              NaN  \n375301              NaN  \n375302              NaN  \n375303              NaN  \n375304              NaN  \n...                 ...  \n1758476             NaN  \n1758477             NaN  \n1758478             NaN  \n1758479             NaN  \n1758480             NaN  \n\n[1304819 rows x 8 columns]",
      "text/html": "<div>\n<style scoped>\n    .dataframe tbody tr th:only-of-type {\n        vertical-align: middle;\n    }\n\n    .dataframe tbody tr th {\n        vertical-align: top;\n    }\n\n    .dataframe thead th {\n        text-align: right;\n    }\n</style>\n<table border=\"1\" class=\"dataframe\">\n  <thead>\n    <tr style=\"text-align: right;\">\n      <th></th>\n      <th>OrganizationIdentifier</th>\n      <th>ActivityMediaSubdivisionName</th>\n      <th>ActivityStartDate</th>\n      <th>ResultMeasureValue</th>\n      <th>ResultMeasure/MeasureUnitCode</th>\n      <th>ActivityLocation/LatitudeMeasure</th>\n      <th>ActivityLocation/LongitudeMeasure</th>\n      <th>HydrologicEvent</th>\n    </tr>\n  </thead>\n  <tbody>\n    <tr>\n      <th>375300</th>\n      <td>21VASWCB</td>\n      <td>Surface Water</td>\n      <td>2010-10-28</td>\n      <td>.01</td>\n      <td>mg/L</td>\n      <td>38.870300</td>\n      <td>-78.684000</td>\n      <td>NaN</td>\n    </tr>\n    <tr>\n      <th>375301</th>\n      <td>21KAN001_WQX</td>\n      <td>NaN</td>\n      <td>2010-05-04</td>\n      <td>0.22000</td>\n      <td>mg/L</td>\n      <td>38.901090</td>\n      <td>-97.222520</td>\n      <td>NaN</td>\n    </tr>\n    <tr>\n      <th>375302</th>\n      <td>MNPCA</td>\n      <td>Surface Water</td>\n      <td>2010-09-01</td>\n      <td>0.061</td>\n      <td>mg/L</td>\n      <td>44.926900</td>\n      <td>-93.362400</td>\n      <td>NaN</td>\n    </tr>\n    <tr>\n      <th>375303</th>\n      <td>21VASWCB</td>\n      <td>Surface Water</td>\n      <td>2010-04-28</td>\n      <td>.02</td>\n      <td>mg/L</td>\n      <td>37.257500</td>\n      <td>-78.486700</td>\n      <td>NaN</td>\n    </tr>\n    <tr>\n      <th>375304</th>\n      <td>21AWIC</td>\n      <td>NaN</td>\n      <td>2010-09-09</td>\n      <td>.028</td>\n      <td>mg/L</td>\n      <td>33.575000</td>\n      <td>-88.083400</td>\n      <td>NaN</td>\n    </tr>\n    <tr>\n      <th>...</th>\n      <td>...</td>\n      <td>...</td>\n      <td>...</td>\n      <td>...</td>\n      <td>...</td>\n      <td>...</td>\n      <td>...</td>\n      <td>...</td>\n    </tr>\n    <tr>\n      <th>1758476</th>\n      <td>21VASWCB</td>\n      <td>Surface Water</td>\n      <td>2024-02-12</td>\n      <td>.03</td>\n      <td>mg/L</td>\n      <td>36.899400</td>\n      <td>-81.981700</td>\n      <td>NaN</td>\n    </tr>\n    <tr>\n      <th>1758477</th>\n      <td>21VASWCB</td>\n      <td>Surface Water</td>\n      <td>2024-01-10</td>\n      <td>.03</td>\n      <td>mg/L</td>\n      <td>36.639200</td>\n      <td>-82.491400</td>\n      <td>NaN</td>\n    </tr>\n    <tr>\n      <th>1758478</th>\n      <td>21VASWCB</td>\n      <td>Surface Water</td>\n      <td>2024-01-22</td>\n      <td>.03</td>\n      <td>mg/L</td>\n      <td>36.589400</td>\n      <td>-79.420300</td>\n      <td>NaN</td>\n    </tr>\n    <tr>\n      <th>1758479</th>\n      <td>ESTO_WQX</td>\n      <td>NaN</td>\n      <td>2024-01-30</td>\n      <td>0.04100000</td>\n      <td>mg/L</td>\n      <td>36.830115</td>\n      <td>-94.627585</td>\n      <td>NaN</td>\n    </tr>\n    <tr>\n      <th>1758480</th>\n      <td>WIDNR_WQX</td>\n      <td>NaN</td>\n      <td>2024-01-29</td>\n      <td>0.120</td>\n      <td>mg/L</td>\n      <td>42.510227</td>\n      <td>-89.801150</td>\n      <td>NaN</td>\n    </tr>\n  </tbody>\n</table>\n<p>1304819 rows × 8 columns</p>\n</div>"
     },
     "execution_count": 10,
     "metadata": {},
     "output_type": "execute_result"
    }
   ],
   "source": [
    "# if there is an NaN in any field besides HydrologicEvent or ActivityMediaSubdivisionName, drop the row. ending with 630448 rows\n",
    "\n",
    "data_condensed.dropna(subset=['OrganizationIdentifier','ActivityStartDate','ResultMeasureValue','ResultMeasure/MeasureUnitCode','ActivityLocation/LatitudeMeasure','ActivityLocation/LongitudeMeasure'],inplace=True)\n",
    "data_condensed.shape #1304819\n",
    "data_condensed"
   ]
  },
  {
   "cell_type": "code",
   "execution_count": 11,
   "metadata": {
    "collapsed": false,
    "jupyter": {
     "outputs_hidden": false
    }
   },
   "outputs": [
    {
     "data": {
      "text/plain": "        OrganizationIdentifier ActivityMediaSubdivisionName ActivityStartDate  \\\n375300                21VASWCB                Surface Water        2010-10-28   \n375301            21KAN001_WQX                          NaN        2010-05-04   \n375302                   MNPCA                Surface Water        2010-09-01   \n375303                21VASWCB                Surface Water        2010-04-28   \n375304                  21AWIC                          NaN        2010-09-09   \n...                        ...                          ...               ...   \n1758476               21VASWCB                Surface Water        2024-02-12   \n1758477               21VASWCB                Surface Water        2024-01-10   \n1758478               21VASWCB                Surface Water        2024-01-22   \n1758479               ESTO_WQX                          NaN        2024-01-30   \n1758480              WIDNR_WQX                          NaN        2024-01-29   \n\n         ResultMeasureValue ResultMeasure/MeasureUnitCode  \\\n375300                0.010                          mg/L   \n375301                0.220                          mg/L   \n375302                0.061                          mg/L   \n375303                0.020                          mg/L   \n375304                0.028                          mg/L   \n...                     ...                           ...   \n1758476               0.030                          mg/L   \n1758477               0.030                          mg/L   \n1758478               0.030                          mg/L   \n1758479               0.041                          mg/L   \n1758480               0.120                          mg/L   \n\n         ActivityLocation/LatitudeMeasure  ActivityLocation/LongitudeMeasure  \\\n375300                          38.870300                         -78.684000   \n375301                          38.901090                         -97.222520   \n375302                          44.926900                         -93.362400   \n375303                          37.257500                         -78.486700   \n375304                          33.575000                         -88.083400   \n...                                   ...                                ...   \n1758476                         36.899400                         -81.981700   \n1758477                         36.639200                         -82.491400   \n1758478                         36.589400                         -79.420300   \n1758479                         36.830115                         -94.627585   \n1758480                         42.510227                         -89.801150   \n\n        HydrologicEvent  \n375300              NaN  \n375301              NaN  \n375302              NaN  \n375303              NaN  \n375304              NaN  \n...                 ...  \n1758476             NaN  \n1758477             NaN  \n1758478             NaN  \n1758479             NaN  \n1758480             NaN  \n\n[1304819 rows x 8 columns]",
      "text/html": "<div>\n<style scoped>\n    .dataframe tbody tr th:only-of-type {\n        vertical-align: middle;\n    }\n\n    .dataframe tbody tr th {\n        vertical-align: top;\n    }\n\n    .dataframe thead th {\n        text-align: right;\n    }\n</style>\n<table border=\"1\" class=\"dataframe\">\n  <thead>\n    <tr style=\"text-align: right;\">\n      <th></th>\n      <th>OrganizationIdentifier</th>\n      <th>ActivityMediaSubdivisionName</th>\n      <th>ActivityStartDate</th>\n      <th>ResultMeasureValue</th>\n      <th>ResultMeasure/MeasureUnitCode</th>\n      <th>ActivityLocation/LatitudeMeasure</th>\n      <th>ActivityLocation/LongitudeMeasure</th>\n      <th>HydrologicEvent</th>\n    </tr>\n  </thead>\n  <tbody>\n    <tr>\n      <th>375300</th>\n      <td>21VASWCB</td>\n      <td>Surface Water</td>\n      <td>2010-10-28</td>\n      <td>0.010</td>\n      <td>mg/L</td>\n      <td>38.870300</td>\n      <td>-78.684000</td>\n      <td>NaN</td>\n    </tr>\n    <tr>\n      <th>375301</th>\n      <td>21KAN001_WQX</td>\n      <td>NaN</td>\n      <td>2010-05-04</td>\n      <td>0.220</td>\n      <td>mg/L</td>\n      <td>38.901090</td>\n      <td>-97.222520</td>\n      <td>NaN</td>\n    </tr>\n    <tr>\n      <th>375302</th>\n      <td>MNPCA</td>\n      <td>Surface Water</td>\n      <td>2010-09-01</td>\n      <td>0.061</td>\n      <td>mg/L</td>\n      <td>44.926900</td>\n      <td>-93.362400</td>\n      <td>NaN</td>\n    </tr>\n    <tr>\n      <th>375303</th>\n      <td>21VASWCB</td>\n      <td>Surface Water</td>\n      <td>2010-04-28</td>\n      <td>0.020</td>\n      <td>mg/L</td>\n      <td>37.257500</td>\n      <td>-78.486700</td>\n      <td>NaN</td>\n    </tr>\n    <tr>\n      <th>375304</th>\n      <td>21AWIC</td>\n      <td>NaN</td>\n      <td>2010-09-09</td>\n      <td>0.028</td>\n      <td>mg/L</td>\n      <td>33.575000</td>\n      <td>-88.083400</td>\n      <td>NaN</td>\n    </tr>\n    <tr>\n      <th>...</th>\n      <td>...</td>\n      <td>...</td>\n      <td>...</td>\n      <td>...</td>\n      <td>...</td>\n      <td>...</td>\n      <td>...</td>\n      <td>...</td>\n    </tr>\n    <tr>\n      <th>1758476</th>\n      <td>21VASWCB</td>\n      <td>Surface Water</td>\n      <td>2024-02-12</td>\n      <td>0.030</td>\n      <td>mg/L</td>\n      <td>36.899400</td>\n      <td>-81.981700</td>\n      <td>NaN</td>\n    </tr>\n    <tr>\n      <th>1758477</th>\n      <td>21VASWCB</td>\n      <td>Surface Water</td>\n      <td>2024-01-10</td>\n      <td>0.030</td>\n      <td>mg/L</td>\n      <td>36.639200</td>\n      <td>-82.491400</td>\n      <td>NaN</td>\n    </tr>\n    <tr>\n      <th>1758478</th>\n      <td>21VASWCB</td>\n      <td>Surface Water</td>\n      <td>2024-01-22</td>\n      <td>0.030</td>\n      <td>mg/L</td>\n      <td>36.589400</td>\n      <td>-79.420300</td>\n      <td>NaN</td>\n    </tr>\n    <tr>\n      <th>1758479</th>\n      <td>ESTO_WQX</td>\n      <td>NaN</td>\n      <td>2024-01-30</td>\n      <td>0.041</td>\n      <td>mg/L</td>\n      <td>36.830115</td>\n      <td>-94.627585</td>\n      <td>NaN</td>\n    </tr>\n    <tr>\n      <th>1758480</th>\n      <td>WIDNR_WQX</td>\n      <td>NaN</td>\n      <td>2024-01-29</td>\n      <td>0.120</td>\n      <td>mg/L</td>\n      <td>42.510227</td>\n      <td>-89.801150</td>\n      <td>NaN</td>\n    </tr>\n  </tbody>\n</table>\n<p>1304819 rows × 8 columns</p>\n</div>"
     },
     "execution_count": 11,
     "metadata": {},
     "output_type": "execute_result"
    }
   ],
   "source": [
    "# convert the ResultMeasureValue field to numeric, coerce errors so that the values that look like \"<0.05\" show up as 0\n",
    "\n",
    "data_condensed['ResultMeasureValue'] = pd.to_numeric(data_condensed['ResultMeasureValue'], errors='coerce')\n",
    "data_condensed['ResultMeasureValue'] = data_condensed['ResultMeasureValue'].fillna(0)\n",
    "data_condensed"
   ]
  },
  {
   "cell_type": "markdown",
   "source": [
    "# Mitigating Unit Measure Issues"
   ],
   "metadata": {
    "collapsed": false
   }
  },
  {
   "cell_type": "code",
   "execution_count": 12,
   "outputs": [
    {
     "data": {
      "text/plain": "ResultMeasure/MeasureUnitCode\nmg/L         1162932\nug/L          128348\nppm             8611\nppb             3979\nmg/kg            634\nug               158\n%                144\ncount              6\nmL/L               4\nMPN/100mL          2\n#/100mL            1\nName: count, dtype: int64"
     },
     "execution_count": 12,
     "metadata": {},
     "output_type": "execute_result"
    }
   ],
   "source": [
    "# dealing with differing units\n",
    "\n",
    "# mg (milligrams) per liter = mg per 1,000cc and 1000 cc of water weighs 1 kg. Therefore, 1 mg/L is the same as 1 mg/kg if you are talking about water. (ResearchGate, https://www.researchgate.net/post/Converting_mg_l_to_mg_kg#:~:text=mg%20(milligrams)%20per%20liter%20%3D,you%20are%20talking%20about%20water.)\n",
    "\n",
    "# conversion for ppb and ppm to mg/L chrome-extension://efaidnbmnnnibpcajpcglclefindmkaj/https://cfpub.epa.gov/ncer_abstracts/index.cfm/fuseaction/display.files/fileid/14285\n",
    "\n",
    "# convert ug/L to mg/L --> divide by 1000\n",
    "# convert ppb to mg/L --> divide by 1000\n",
    "# convert ppm to mg/L --> just change units\n",
    "# convert mg/kg to mg/L --> divide by 1000\n",
    "\n",
    "data_condensed['ResultMeasure/MeasureUnitCode'].unique()\n",
    "data_condensed['ResultMeasure/MeasureUnitCode'].value_counts()"
   ],
   "metadata": {
    "collapsed": false
   }
  },
  {
   "cell_type": "code",
   "execution_count": 13,
   "metadata": {
    "collapsed": false,
    "jupyter": {
     "outputs_hidden": false
    }
   },
   "outputs": [
    {
     "data": {
      "text/plain": "0.325"
     },
     "execution_count": 13,
     "metadata": {},
     "output_type": "execute_result"
    }
   ],
   "source": [
    "### --- investigation 'ug' only --- ###\n",
    "\n",
    "# 0.325 to about 1.6, surface water for the 'ug'\n",
    "# looks like this UG code is in OrganizationIdentifier called \"21VASWCB\", which is the VIRGINIA DEPARTMENT OF ENVIRONMENTAL QUALITY. confirmed via value_counts that this is the only org using 'ug'\n",
    "ug = data_condensed.loc[data_condensed['ResultMeasure/MeasureUnitCode'] == 'ug']\n",
    "ug['OrganizationIdentifier'].value_counts() #158\n",
    "ug['ResultMeasureValue'].max() #1.62\n",
    "ug['ResultMeasureValue'].min() #0.325"
   ]
  },
  {
   "cell_type": "code",
   "execution_count": 14,
   "metadata": {
    "collapsed": false,
    "jupyter": {
     "outputs_hidden": false
    }
   },
   "outputs": [],
   "source": [
    "# how comparable are ug and ug/L? are they of the same scale? we can treat these differently\n",
    "ugL = data_condensed.loc[data_condensed['ResultMeasure/MeasureUnitCode'] == 'ug/L']\n",
    "# ugL['ResultMeasureValue'].max() #2971.9\n",
    "# ugL['ResultMeasureValue'].min() #-0.948print(ugL.iloc[2])"
   ]
  },
  {
   "cell_type": "code",
   "execution_count": 15,
   "outputs": [
    {
     "name": "stdout",
     "output_type": "stream",
     "text": [
      "OrganizationIdentifier                 1VTDECWQ\n",
      "ActivityMediaSubdivisionName                NaN\n",
      "ActivityStartDate                    2010-08-19\n",
      "ResultMeasureValue                         13.4\n",
      "ResultMeasure/MeasureUnitCode              ug/L\n",
      "ActivityLocation/LatitudeMeasure        44.5819\n",
      "ActivityLocation/LongitudeMeasure      -73.2811\n",
      "HydrologicEvent                             NaN\n",
      "Name: 375362, dtype: object\n"
     ]
    }
   ],
   "source": [
    "# looking at one specific row, 2, current value is 1.234\n",
    "print(ugL.iloc[2])"
   ],
   "metadata": {
    "collapsed": false
   }
  },
  {
   "cell_type": "code",
   "execution_count": 16,
   "outputs": [],
   "source": [
    "# convertsion, divide all cells by 1000 if ResultMeasureUnit is indicated above else ResultMeasureValue\n",
    "\n",
    "data_condensed['ResultMeasureValue'] = data_condensed.apply(lambda x: x['ResultMeasureValue']/1000 if x['ResultMeasure/MeasureUnitCode']=='ug/L' else x['ResultMeasureValue'], axis=1)\n",
    "\n",
    "data_condensed['ResultMeasureValue'] = data_condensed.apply(lambda x: x['ResultMeasureValue']/1000 if x['ResultMeasure/MeasureUnitCode']=='ppb' else x['ResultMeasureValue'], axis=1)\n",
    "\n",
    "data_condensed['ResultMeasureValue'] = data_condensed.apply(lambda x: x['ResultMeasureValue']/1000 if x['ResultMeasure/MeasureUnitCode']=='mg/kg' else x['ResultMeasureValue'], axis=1)"
   ],
   "metadata": {
    "collapsed": false
   }
  },
  {
   "cell_type": "code",
   "execution_count": 17,
   "outputs": [
    {
     "name": "stdout",
     "output_type": "stream",
     "text": [
      "OrganizationIdentifier                 1VTDECWQ\n",
      "ActivityMediaSubdivisionName                NaN\n",
      "ActivityStartDate                    2010-08-19\n",
      "ResultMeasureValue                       0.0134\n",
      "ResultMeasure/MeasureUnitCode              ug/L\n",
      "ActivityLocation/LatitudeMeasure        44.5819\n",
      "ActivityLocation/LongitudeMeasure      -73.2811\n",
      "HydrologicEvent                             NaN\n",
      "Name: 375362, dtype: object\n"
     ]
    }
   ],
   "source": [
    "# confirmed! value was divided by 1000\n",
    "\n",
    "ugL = data_condensed.loc[data_condensed['ResultMeasure/MeasureUnitCode'] == 'ug/L']\n",
    "print(ugL.iloc[2])"
   ],
   "metadata": {
    "collapsed": false
   }
  },
  {
   "cell_type": "code",
   "execution_count": 18,
   "outputs": [
    {
     "name": "stderr",
     "output_type": "stream",
     "text": [
      "C:\\Users\\caraca\\AppData\\Local\\Temp\\1\\ipykernel_49400\\4114405720.py:3: FutureWarning: A value is trying to be set on a copy of a DataFrame or Series through chained assignment using an inplace method.\n",
      "The behavior will change in pandas 3.0. This inplace method will never work because the intermediate object on which we are setting values always behaves as a copy.\n",
      "\n",
      "For example, when doing 'df[col].method(value, inplace=True)', try using 'df.method({col: value}, inplace=True)' or df[col] = df[col].method(value) instead, to perform the operation inplace on the original object.\n",
      "\n",
      "\n",
      "  data_condensed['ResultMeasure/MeasureUnitCode'].replace('ug/L','mg/L',inplace=True)\n",
      "C:\\Users\\caraca\\AppData\\Local\\Temp\\1\\ipykernel_49400\\4114405720.py:4: FutureWarning: A value is trying to be set on a copy of a DataFrame or Series through chained assignment using an inplace method.\n",
      "The behavior will change in pandas 3.0. This inplace method will never work because the intermediate object on which we are setting values always behaves as a copy.\n",
      "\n",
      "For example, when doing 'df[col].method(value, inplace=True)', try using 'df.method({col: value}, inplace=True)' or df[col] = df[col].method(value) instead, to perform the operation inplace on the original object.\n",
      "\n",
      "\n",
      "  data_condensed['ResultMeasure/MeasureUnitCode'].replace('mg/kg','mg/L',inplace=True)\n",
      "C:\\Users\\caraca\\AppData\\Local\\Temp\\1\\ipykernel_49400\\4114405720.py:5: FutureWarning: A value is trying to be set on a copy of a DataFrame or Series through chained assignment using an inplace method.\n",
      "The behavior will change in pandas 3.0. This inplace method will never work because the intermediate object on which we are setting values always behaves as a copy.\n",
      "\n",
      "For example, when doing 'df[col].method(value, inplace=True)', try using 'df.method({col: value}, inplace=True)' or df[col] = df[col].method(value) instead, to perform the operation inplace on the original object.\n",
      "\n",
      "\n",
      "  data_condensed['ResultMeasure/MeasureUnitCode'].replace('ppb','mg/L',inplace=True)\n",
      "C:\\Users\\caraca\\AppData\\Local\\Temp\\1\\ipykernel_49400\\4114405720.py:6: FutureWarning: A value is trying to be set on a copy of a DataFrame or Series through chained assignment using an inplace method.\n",
      "The behavior will change in pandas 3.0. This inplace method will never work because the intermediate object on which we are setting values always behaves as a copy.\n",
      "\n",
      "For example, when doing 'df[col].method(value, inplace=True)', try using 'df.method({col: value}, inplace=True)' or df[col] = df[col].method(value) instead, to perform the operation inplace on the original object.\n",
      "\n",
      "\n",
      "  data_condensed['ResultMeasure/MeasureUnitCode'].replace('ppm','mg/L',inplace=True)\n"
     ]
    }
   ],
   "source": [
    "# now fixing units for the values that were changed, from ug/L to mg/L & mg/kg to mg/L\n",
    "\n",
    "data_condensed['ResultMeasure/MeasureUnitCode'].replace('ug/L','mg/L',inplace=True)\n",
    "data_condensed['ResultMeasure/MeasureUnitCode'].replace('mg/kg','mg/L',inplace=True)\n",
    "data_condensed['ResultMeasure/MeasureUnitCode'].replace('ppb','mg/L',inplace=True)\n",
    "data_condensed['ResultMeasure/MeasureUnitCode'].replace('ppm','mg/L',inplace=True)\n"
   ],
   "metadata": {
    "collapsed": false
   }
  },
  {
   "cell_type": "code",
   "execution_count": 19,
   "outputs": [
    {
     "data": {
      "text/plain": "ResultMeasure/MeasureUnitCode\nmg/L         1304504\nug               158\n%                144\ncount              6\nmL/L               4\nMPN/100mL          2\n#/100mL            1\nName: count, dtype: int64"
     },
     "execution_count": 19,
     "metadata": {},
     "output_type": "execute_result"
    }
   ],
   "source": [
    "# confirming that worked\n",
    "\n",
    "data_condensed['ResultMeasure/MeasureUnitCode'].value_counts()"
   ],
   "metadata": {
    "collapsed": false
   }
  },
  {
   "cell_type": "code",
   "execution_count": 20,
   "outputs": [],
   "source": [
    "#TODO: what do we want to do with the \"ug\"? drop them? think that they're a typo in VA?"
   ],
   "metadata": {
    "collapsed": false
   }
  },
  {
   "cell_type": "code",
   "execution_count": 21,
   "outputs": [],
   "source": [
    "# include only rows with mg/L; the remaining rows represent an insignificant number of rows\n",
    "data_condensed = data_condensed[data_condensed['ResultMeasure/MeasureUnitCode'] == 'mg/L']"
   ],
   "metadata": {
    "collapsed": false
   }
  },
  {
   "cell_type": "code",
   "execution_count": 22,
   "outputs": [
    {
     "data": {
      "text/plain": "ResultMeasure/MeasureUnitCode\nmg/L    1304504\nName: count, dtype: int64"
     },
     "execution_count": 22,
     "metadata": {},
     "output_type": "execute_result"
    }
   ],
   "source": [
    "data_condensed['ResultMeasure/MeasureUnitCode'].value_counts() #1304504"
   ],
   "metadata": {
    "collapsed": false
   }
  },
  {
   "cell_type": "markdown",
   "source": [
    "# Using GeoPandas to spatially join larger geographical mappings to lat-long usgs data"
   ],
   "metadata": {
    "collapsed": false
   }
  },
  {
   "cell_type": "code",
   "execution_count": 23,
   "outputs": [],
   "source": [
    "#creating a further condensed data set with just the lat and lon points\n",
    "df2 = pd.DataFrame()\n",
    "df2['Lat'] = data_condensed['ActivityLocation/LatitudeMeasure']\n",
    "df2['Lon'] = data_condensed['ActivityLocation/LongitudeMeasure']"
   ],
   "metadata": {
    "collapsed": false
   }
  },
  {
   "cell_type": "code",
   "execution_count": 24,
   "metadata": {
    "collapsed": false,
    "jupyter": {
     "outputs_hidden": false
    }
   },
   "outputs": [],
   "source": [
    "# there is ratelimiting on this package according to its terms of use. about 2000 requests take 15 mintues... we have 630K rows. showing what *didn't* work\n",
    "\n",
    "# def get_zipcode(df, geolocator, lat_field, lon_field, attempt=1, max_attempts=100):\n",
    "#     try:\n",
    "#         location = geolocator.reverse((df[lat_field], df[lon_field]), timeout=None)\n",
    "#         return location.raw['address']['postcode']\n",
    "#     except KeyError:\n",
    "#         pass\n",
    "#     except GeocoderTimedOut:\n",
    "#         if attempt <= max_attempts:\n",
    "#             return get_zipcode (df, attempt=attempt+1)\n",
    "#         raise\n",
    "#\n",
    "# geolocator = geopy.Nominatim(user_agent='cara-umsi')\n",
    "# zipcodes = df2.apply(get_zipcode, axis=1, geolocator=geolocator, lat_field='Lat', lon_field='Lon')"
   ]
  },
  {
   "cell_type": "code",
   "execution_count": 25,
   "outputs": [],
   "source": [
    "# note that in this csv, i renamed the fields to 'latitutde', 'longitude', and 'position', copying the index. later, to make the geopandas work, i had to delete the field names\n",
    "df2.to_csv('latlong.csv', header=False)"
   ],
   "metadata": {
    "collapsed": false
   }
  },
  {
   "cell_type": "code",
   "execution_count": 26,
   "outputs": [],
   "source": [
    "# reading the csv, transforming it to geojason (remember i deleted column labels, probably could've just started to read at row 1...\n",
    "features = []\n",
    "with open('latlong.csv', newline='') as csvfile:\n",
    "    reader = csv.reader(csvfile, delimiter=',')\n",
    "    for position, latitude, longitude in reader:\n",
    "        latitude, longitude = map(float, (latitude, longitude))\n",
    "        features.append(\n",
    "            Feature(\n",
    "                geometry = Point((longitude, latitude)),\n",
    "                properties = {\n",
    "                    'position': position,\n",
    "                }\n",
    "            )\n",
    "        )\n",
    "\n",
    "collection = FeatureCollection(features)\n",
    "with open(\"GeoObs.json\", \"w\") as f:\n",
    "    f.write('%s' % collection)"
   ],
   "metadata": {
    "collapsed": false
   }
  },
  {
   "cell_type": "markdown",
   "source": [
    "# Sjoining for ZIP codes"
   ],
   "metadata": {
    "collapsed": false
   }
  },
  {
   "cell_type": "code",
   "execution_count": 27,
   "outputs": [
    {
     "ename": "KeyboardInterrupt",
     "evalue": "",
     "output_type": "error",
     "traceback": [
      "\u001B[1;31m---------------------------------------------------------------------------\u001B[0m",
      "\u001B[1;31mKeyboardInterrupt\u001B[0m                         Traceback (most recent call last)",
      "Cell \u001B[1;32mIn[27], line 6\u001B[0m\n\u001B[0;32m      1\u001B[0m \u001B[38;5;66;03m# this chunk takes the geojson file generated above and sjoins it (spatial joins of two geojson files, finding intersections) with zipcode data\u001B[39;00m\n\u001B[0;32m      2\u001B[0m \u001B[38;5;66;03m# https://stackoverflow.com/questions/48586647/python-script-to-convert-csv-to-geojson\u001B[39;00m\n\u001B[0;32m      3\u001B[0m \u001B[38;5;66;03m# get zip code data from ArcGIS https://www.arcgis.com/home/item.html?id=8d2012a2016e484dafaac0451f9aea24\u001B[39;00m\n\u001B[0;32m      4\u001B[0m \u001B[38;5;66;03m# first need to extract the .lpk zip codes file locally, then run the below\u001B[39;00m\n\u001B[1;32m----> 6\u001B[0m points \u001B[38;5;241m=\u001B[39m \u001B[43mgeopandas\u001B[49m\u001B[38;5;241;43m.\u001B[39;49m\u001B[43mread_file\u001B[49m\u001B[43m(\u001B[49m\u001B[38;5;124;43m'\u001B[39;49m\u001B[38;5;124;43mGeoObs.json\u001B[39;49m\u001B[38;5;124;43m'\u001B[39;49m\u001B[43m)\u001B[49m\n\u001B[0;32m      7\u001B[0m zipcodes \u001B[38;5;241m=\u001B[39m geopandas\u001B[38;5;241m.\u001B[39mread_file(\u001B[38;5;124m\"\u001B[39m\u001B[38;5;124mzip_poly.gdb\u001B[39m\u001B[38;5;124m\"\u001B[39m)\n\u001B[0;32m      8\u001B[0m zip_points \u001B[38;5;241m=\u001B[39m points\u001B[38;5;241m.\u001B[39msjoin(zipcodes, how\u001B[38;5;241m=\u001B[39m\u001B[38;5;124m'\u001B[39m\u001B[38;5;124mleft\u001B[39m\u001B[38;5;124m'\u001B[39m, )\n",
      "File \u001B[1;32mc:\\users\\caraca\\appdata\\local\\programs\\python\\python39\\lib\\site-packages\\geopandas\\io\\file.py:297\u001B[0m, in \u001B[0;36m_read_file\u001B[1;34m(filename, bbox, mask, rows, engine, **kwargs)\u001B[0m\n\u001B[0;32m    294\u001B[0m     \u001B[38;5;28;01melse\u001B[39;00m:\n\u001B[0;32m    295\u001B[0m         path_or_bytes \u001B[38;5;241m=\u001B[39m filename\n\u001B[1;32m--> 297\u001B[0m     \u001B[38;5;28;01mreturn\u001B[39;00m _read_file_fiona(\n\u001B[0;32m    298\u001B[0m         path_or_bytes, from_bytes, bbox\u001B[38;5;241m=\u001B[39mbbox, mask\u001B[38;5;241m=\u001B[39mmask, rows\u001B[38;5;241m=\u001B[39mrows, \u001B[38;5;241m*\u001B[39m\u001B[38;5;241m*\u001B[39mkwargs\n\u001B[0;32m    299\u001B[0m     )\n\u001B[0;32m    301\u001B[0m \u001B[38;5;28;01melse\u001B[39;00m:\n\u001B[0;32m    302\u001B[0m     \u001B[38;5;28;01mraise\u001B[39;00m \u001B[38;5;167;01mValueError\u001B[39;00m(\u001B[38;5;124mf\u001B[39m\u001B[38;5;124m\"\u001B[39m\u001B[38;5;124munknown engine \u001B[39m\u001B[38;5;124m'\u001B[39m\u001B[38;5;132;01m{\u001B[39;00mengine\u001B[38;5;132;01m}\u001B[39;00m\u001B[38;5;124m'\u001B[39m\u001B[38;5;124m\"\u001B[39m)\n",
      "File \u001B[1;32mc:\\users\\caraca\\appdata\\local\\programs\\python\\python39\\lib\\site-packages\\geopandas\\io\\file.py:395\u001B[0m, in \u001B[0;36m_read_file_fiona\u001B[1;34m(path_or_bytes, from_bytes, bbox, mask, rows, where, **kwargs)\u001B[0m\n\u001B[0;32m    391\u001B[0m     df \u001B[38;5;241m=\u001B[39m pd\u001B[38;5;241m.\u001B[39mDataFrame(\n\u001B[0;32m    392\u001B[0m         [record[\u001B[38;5;124m\"\u001B[39m\u001B[38;5;124mproperties\u001B[39m\u001B[38;5;124m\"\u001B[39m] \u001B[38;5;28;01mfor\u001B[39;00m record \u001B[38;5;129;01min\u001B[39;00m f_filt], columns\u001B[38;5;241m=\u001B[39mcolumns\n\u001B[0;32m    393\u001B[0m     )\n\u001B[0;32m    394\u001B[0m \u001B[38;5;28;01melse\u001B[39;00m:\n\u001B[1;32m--> 395\u001B[0m     df \u001B[38;5;241m=\u001B[39m \u001B[43mGeoDataFrame\u001B[49m\u001B[38;5;241;43m.\u001B[39;49m\u001B[43mfrom_features\u001B[49m\u001B[43m(\u001B[49m\n\u001B[0;32m    396\u001B[0m \u001B[43m        \u001B[49m\u001B[43mf_filt\u001B[49m\u001B[43m,\u001B[49m\u001B[43m \u001B[49m\u001B[43mcrs\u001B[49m\u001B[38;5;241;43m=\u001B[39;49m\u001B[43mcrs\u001B[49m\u001B[43m,\u001B[49m\u001B[43m \u001B[49m\u001B[43mcolumns\u001B[49m\u001B[38;5;241;43m=\u001B[39;49m\u001B[43mcolumns\u001B[49m\u001B[43m \u001B[49m\u001B[38;5;241;43m+\u001B[39;49m\u001B[43m \u001B[49m\u001B[43m[\u001B[49m\u001B[38;5;124;43m\"\u001B[39;49m\u001B[38;5;124;43mgeometry\u001B[39;49m\u001B[38;5;124;43m\"\u001B[39;49m\u001B[43m]\u001B[49m\n\u001B[0;32m    397\u001B[0m \u001B[43m    \u001B[49m\u001B[43m)\u001B[49m\n\u001B[0;32m    398\u001B[0m \u001B[38;5;28;01mfor\u001B[39;00m k \u001B[38;5;129;01min\u001B[39;00m datetime_fields:\n\u001B[0;32m    399\u001B[0m     as_dt \u001B[38;5;241m=\u001B[39m \u001B[38;5;28;01mNone\u001B[39;00m\n",
      "File \u001B[1;32mc:\\users\\caraca\\appdata\\local\\programs\\python\\python39\\lib\\site-packages\\geopandas\\geodataframe.py:641\u001B[0m, in \u001B[0;36mGeoDataFrame.from_features\u001B[1;34m(cls, features, crs, columns)\u001B[0m\n\u001B[0;32m    638\u001B[0m \u001B[38;5;28;01mif\u001B[39;00m \u001B[38;5;28mhasattr\u001B[39m(feature, \u001B[38;5;124m\"\u001B[39m\u001B[38;5;124m__geo_interface__\u001B[39m\u001B[38;5;124m\"\u001B[39m):\n\u001B[0;32m    639\u001B[0m     feature \u001B[38;5;241m=\u001B[39m feature\u001B[38;5;241m.\u001B[39m__geo_interface__\n\u001B[0;32m    640\u001B[0m row \u001B[38;5;241m=\u001B[39m {\n\u001B[1;32m--> 641\u001B[0m     \u001B[38;5;124m\"\u001B[39m\u001B[38;5;124mgeometry\u001B[39m\u001B[38;5;124m\"\u001B[39m: \u001B[43mshape\u001B[49m\u001B[43m(\u001B[49m\u001B[43mfeature\u001B[49m\u001B[43m[\u001B[49m\u001B[38;5;124;43m\"\u001B[39;49m\u001B[38;5;124;43mgeometry\u001B[39;49m\u001B[38;5;124;43m\"\u001B[39;49m\u001B[43m]\u001B[49m\u001B[43m)\u001B[49m \u001B[38;5;28;01mif\u001B[39;00m feature[\u001B[38;5;124m\"\u001B[39m\u001B[38;5;124mgeometry\u001B[39m\u001B[38;5;124m\"\u001B[39m] \u001B[38;5;28;01melse\u001B[39;00m \u001B[38;5;28;01mNone\u001B[39;00m\n\u001B[0;32m    642\u001B[0m }\n\u001B[0;32m    643\u001B[0m \u001B[38;5;66;03m# load properties\u001B[39;00m\n\u001B[0;32m    644\u001B[0m properties \u001B[38;5;241m=\u001B[39m feature[\u001B[38;5;124m\"\u001B[39m\u001B[38;5;124mproperties\u001B[39m\u001B[38;5;124m\"\u001B[39m]\n",
      "File \u001B[1;32mc:\\users\\caraca\\appdata\\local\\programs\\python\\python39\\lib\\site-packages\\shapely\\geometry\\geo.py:95\u001B[0m, in \u001B[0;36mshape\u001B[1;34m(context)\u001B[0m\n\u001B[0;32m     93\u001B[0m     \u001B[38;5;28;01mreturn\u001B[39;00m _empty_shape_for_no_coordinates(geom_type)\n\u001B[0;32m     94\u001B[0m \u001B[38;5;28;01melif\u001B[39;00m geom_type \u001B[38;5;241m==\u001B[39m \u001B[38;5;124m\"\u001B[39m\u001B[38;5;124mpoint\u001B[39m\u001B[38;5;124m\"\u001B[39m:\n\u001B[1;32m---> 95\u001B[0m     \u001B[38;5;28;01mreturn\u001B[39;00m \u001B[43mPoint\u001B[49m\u001B[43m(\u001B[49m\u001B[43mob\u001B[49m\u001B[43m[\u001B[49m\u001B[38;5;124;43m\"\u001B[39;49m\u001B[38;5;124;43mcoordinates\u001B[39;49m\u001B[38;5;124;43m\"\u001B[39;49m\u001B[43m]\u001B[49m\u001B[43m)\u001B[49m\n\u001B[0;32m     96\u001B[0m \u001B[38;5;28;01melif\u001B[39;00m geom_type \u001B[38;5;241m==\u001B[39m \u001B[38;5;124m\"\u001B[39m\u001B[38;5;124mlinestring\u001B[39m\u001B[38;5;124m\"\u001B[39m:\n\u001B[0;32m     97\u001B[0m     \u001B[38;5;28;01mreturn\u001B[39;00m LineString(ob[\u001B[38;5;124m\"\u001B[39m\u001B[38;5;124mcoordinates\u001B[39m\u001B[38;5;124m\"\u001B[39m])\n",
      "File \u001B[1;32mc:\\users\\caraca\\appdata\\local\\programs\\python\\python39\\lib\\site-packages\\shapely\\geometry\\point.py:78\u001B[0m, in \u001B[0;36mPoint.__new__\u001B[1;34m(self, *args)\u001B[0m\n\u001B[0;32m     76\u001B[0m \u001B[38;5;28;01mif\u001B[39;00m \u001B[38;5;129;01mnot\u001B[39;00m np\u001B[38;5;241m.\u001B[39missubdtype(coords\u001B[38;5;241m.\u001B[39mdtype, np\u001B[38;5;241m.\u001B[39mnumber):\n\u001B[0;32m     77\u001B[0m     coords \u001B[38;5;241m=\u001B[39m [\u001B[38;5;28mfloat\u001B[39m(c) \u001B[38;5;28;01mfor\u001B[39;00m c \u001B[38;5;129;01min\u001B[39;00m coords]\n\u001B[1;32m---> 78\u001B[0m geom \u001B[38;5;241m=\u001B[39m \u001B[43mshapely\u001B[49m\u001B[38;5;241;43m.\u001B[39;49m\u001B[43mpoints\u001B[49m\u001B[43m(\u001B[49m\u001B[43mcoords\u001B[49m\u001B[43m)\u001B[49m\n\u001B[0;32m     79\u001B[0m \u001B[38;5;28;01mif\u001B[39;00m \u001B[38;5;129;01mnot\u001B[39;00m \u001B[38;5;28misinstance\u001B[39m(geom, Point):\n\u001B[0;32m     80\u001B[0m     \u001B[38;5;28;01mraise\u001B[39;00m \u001B[38;5;167;01mValueError\u001B[39;00m(\u001B[38;5;124m\"\u001B[39m\u001B[38;5;124mInvalid values passed to Point constructor\u001B[39m\u001B[38;5;124m\"\u001B[39m)\n",
      "File \u001B[1;32mc:\\users\\caraca\\appdata\\local\\programs\\python\\python39\\lib\\site-packages\\shapely\\decorators.py:77\u001B[0m, in \u001B[0;36mmultithreading_enabled.<locals>.wrapped\u001B[1;34m(*args, **kwargs)\u001B[0m\n\u001B[0;32m     75\u001B[0m     \u001B[38;5;28;01mfor\u001B[39;00m arr \u001B[38;5;129;01min\u001B[39;00m array_args:\n\u001B[0;32m     76\u001B[0m         arr\u001B[38;5;241m.\u001B[39mflags\u001B[38;5;241m.\u001B[39mwriteable \u001B[38;5;241m=\u001B[39m \u001B[38;5;28;01mFalse\u001B[39;00m\n\u001B[1;32m---> 77\u001B[0m     \u001B[38;5;28;01mreturn\u001B[39;00m func(\u001B[38;5;241m*\u001B[39margs, \u001B[38;5;241m*\u001B[39m\u001B[38;5;241m*\u001B[39mkwargs)\n\u001B[0;32m     78\u001B[0m \u001B[38;5;28;01mfinally\u001B[39;00m:\n\u001B[0;32m     79\u001B[0m     \u001B[38;5;28;01mfor\u001B[39;00m arr, old_flag \u001B[38;5;129;01min\u001B[39;00m \u001B[38;5;28mzip\u001B[39m(array_args, old_flags):\n",
      "File \u001B[1;32mc:\\users\\caraca\\appdata\\local\\programs\\python\\python39\\lib\\site-packages\\shapely\\creation.py:74\u001B[0m, in \u001B[0;36mpoints\u001B[1;34m(coords, y, z, indices, out, **kwargs)\u001B[0m\n\u001B[0;32m     72\u001B[0m coords \u001B[38;5;241m=\u001B[39m _xyz_to_coords(coords, y, z)\n\u001B[0;32m     73\u001B[0m \u001B[38;5;28;01mif\u001B[39;00m indices \u001B[38;5;129;01mis\u001B[39;00m \u001B[38;5;28;01mNone\u001B[39;00m:\n\u001B[1;32m---> 74\u001B[0m     \u001B[38;5;28;01mreturn\u001B[39;00m lib\u001B[38;5;241m.\u001B[39mpoints(coords, out\u001B[38;5;241m=\u001B[39mout, \u001B[38;5;241m*\u001B[39m\u001B[38;5;241m*\u001B[39mkwargs)\n\u001B[0;32m     75\u001B[0m \u001B[38;5;28;01melse\u001B[39;00m:\n\u001B[0;32m     76\u001B[0m     \u001B[38;5;28;01mreturn\u001B[39;00m simple_geometries_1d(coords, indices, GeometryType\u001B[38;5;241m.\u001B[39mPOINT, out\u001B[38;5;241m=\u001B[39mout)\n",
      "\u001B[1;31mKeyboardInterrupt\u001B[0m: "
     ]
    }
   ],
   "source": [
    "# this chunk takes the geojson file generated above and sjoins it (spatial joins of two geojson files, finding intersections) with zipcode data\n",
    "# https://stackoverflow.com/questions/48586647/python-script-to-convert-csv-to-geojson\n",
    "# get zip code data from ArcGIS https://www.arcgis.com/home/item.html?id=8d2012a2016e484dafaac0451f9aea24\n",
    "# first need to extract the .lpk zip codes file locally, then run the below\n",
    "\n",
    "points = geopandas.read_file('GeoObs.json')\n",
    "zipcodes = geopandas.read_file(\"zip_poly.gdb\")\n",
    "zip_points = points.sjoin(zipcodes, how='left', )"
   ],
   "metadata": {
    "collapsed": false
   }
  },
  {
   "cell_type": "code",
   "execution_count": null,
   "outputs": [],
   "source": [
    "zip_points"
   ],
   "metadata": {
    "collapsed": false
   }
  },
  {
   "cell_type": "code",
   "execution_count": null,
   "outputs": [],
   "source": [
    "zip_points.to_csv('zip_points.csv')"
   ],
   "metadata": {
    "collapsed": false
   }
  },
  {
   "cell_type": "markdown",
   "source": [
    "# SJoining for counties\n",
    "\n",
    "https://hub.arcgis.com/datasets/esri::usa-counties/about"
   ],
   "metadata": {
    "collapsed": false
   }
  },
  {
   "cell_type": "code",
   "execution_count": 28,
   "outputs": [],
   "source": [
    "# points = geopandas.read_file('GeoObs.json')\n",
    "# counties = geopandas.read_file(\"USA_counties_gdb.gdb\")\n",
    "# county_points = points.sjoin(counties, how='left', )\n",
    "\n",
    "points = geopandas.read_file('GeoObs.json')\n",
    "counties = geopandas.read_file(\"USA_counties_gdb.gdb\").to_crs(4326)\n",
    "county_points = points.sjoin(counties, how='left', )"
   ],
   "metadata": {
    "collapsed": false
   }
  },
  {
   "cell_type": "code",
   "execution_count": 29,
   "outputs": [
    {
     "data": {
      "text/plain": "        position                    geometry  index_right  \\\n0         375300  POINT (-78.68400 38.87030)       2900.0   \n1         375301  POINT (-97.22252 38.90109)        907.0   \n2         375302  POINT (-93.36240 44.92690)       1339.0   \n3         375303  POINT (-78.48670 37.25750)       2889.0   \n4         375304  POINT (-88.08340 33.57500)         37.0   \n...          ...                         ...          ...   \n1304499  1758476  POINT (-81.98170 36.89940)       2898.0   \n1304500  1758477  POINT (-82.49140 36.63920)       2899.0   \n1304501  1758478  POINT (-79.42030 36.58940)       2921.0   \n1304502  1758479  POINT (-94.62758 36.83011)       2187.0   \n1304503  1758480  POINT (-89.80115 42.51023)       3068.0   \n\n                         NAME STATE_NAME STATE_FIPS CNTY_FIPS   FIPS  \\\n0           Shenandoah County   Virginia         51       171  51171   \n1            Dickinson County     Kansas         20       041  20041   \n2             Hennepin County  Minnesota         27       053  27053   \n3        Prince Edward County   Virginia         51       147  51147   \n4                Lamar County    Alabama         01       075  01075   \n...                       ...        ...        ...       ...    ...   \n1304499        Russell County   Virginia         51       167  51167   \n1304500          Scott County   Virginia         51       169  51169   \n1304501         Danville city   Virginia         51       590  51590   \n1304502         Ottawa County   Oklahoma         40       115  40115   \n1304503          Green County  Wisconsin         55       045  55045   \n\n         POPULATION  POP_SQMI  ...  CROP_ACR12  AVE_SALE12    SQMI  \\\n0           44315.0      86.6  ...     52726.0    131394.0  511.83   \n1           19258.0      22.6  ...    335353.0    155342.0  851.95   \n2         1270988.0    2094.6  ...     54284.0    102821.0  606.79   \n3           23610.0      66.7  ...     19680.0     39993.0  353.84   \n4           14722.0      24.3  ...     13868.0     21337.0  605.47   \n...             ...       ...  ...         ...         ...     ...   \n1304499     31537.0      66.2  ...     34004.0     32325.0  476.44   \n1304500     23132.0      42.9  ...     33436.0     10892.0  538.96   \n1304501     41339.0     946.0  ...       -99.0       -99.0   43.70   \n1304502     31406.0      64.8  ...     87881.0    115291.0  484.61   \n1304503     37234.0      63.7  ...    238606.0    129669.0  584.55   \n\n         NO_FARMS17  AVE_SIZE17  CROP_ACR17  AVE_SALE17  Shape_Leng  \\\n0             965.0       135.0     61237.0    148006.0    2.090674   \n1             919.0       565.0    364449.0    162723.0    2.083000   \n2             467.0        98.0     36623.0    125418.0    2.043827   \n3             341.0       204.0     20082.0     69768.0    1.705060   \n4             269.0       274.0     12006.0     38507.0    1.640622   \n...             ...         ...         ...         ...         ...   \n1304499       918.0       185.0     32705.0     25277.0    2.020264   \n1304500      1138.0       110.0     30463.0     13672.0    1.810793   \n1304501         0.0         0.0         0.0         0.0    0.742117   \n1304502       947.0       217.0     92775.0    147558.0    1.502228   \n1304503      1428.0       205.0    239493.0    154796.0    1.649837   \n\n          SHAPE_Length  SHAPE_Area  \n0        263387.947604    0.137575  \n1        266212.614050    0.229020  \n2        269395.417723    0.179370  \n3        213470.965578    0.093043  \n4        206364.489224    0.152639  \n...                ...         ...  \n1304499  250196.412852    0.124811  \n1304500  216507.753914    0.140791  \n1304501   90094.456012    0.011397  \n1304502  185329.803987    0.126790  \n1304503  212085.955420    0.166281  \n\n[1304504 rows x 63 columns]",
      "text/html": "<div>\n<style scoped>\n    .dataframe tbody tr th:only-of-type {\n        vertical-align: middle;\n    }\n\n    .dataframe tbody tr th {\n        vertical-align: top;\n    }\n\n    .dataframe thead th {\n        text-align: right;\n    }\n</style>\n<table border=\"1\" class=\"dataframe\">\n  <thead>\n    <tr style=\"text-align: right;\">\n      <th></th>\n      <th>position</th>\n      <th>geometry</th>\n      <th>index_right</th>\n      <th>NAME</th>\n      <th>STATE_NAME</th>\n      <th>STATE_FIPS</th>\n      <th>CNTY_FIPS</th>\n      <th>FIPS</th>\n      <th>POPULATION</th>\n      <th>POP_SQMI</th>\n      <th>...</th>\n      <th>CROP_ACR12</th>\n      <th>AVE_SALE12</th>\n      <th>SQMI</th>\n      <th>NO_FARMS17</th>\n      <th>AVE_SIZE17</th>\n      <th>CROP_ACR17</th>\n      <th>AVE_SALE17</th>\n      <th>Shape_Leng</th>\n      <th>SHAPE_Length</th>\n      <th>SHAPE_Area</th>\n    </tr>\n  </thead>\n  <tbody>\n    <tr>\n      <th>0</th>\n      <td>375300</td>\n      <td>POINT (-78.68400 38.87030)</td>\n      <td>2900.0</td>\n      <td>Shenandoah County</td>\n      <td>Virginia</td>\n      <td>51</td>\n      <td>171</td>\n      <td>51171</td>\n      <td>44315.0</td>\n      <td>86.6</td>\n      <td>...</td>\n      <td>52726.0</td>\n      <td>131394.0</td>\n      <td>511.83</td>\n      <td>965.0</td>\n      <td>135.0</td>\n      <td>61237.0</td>\n      <td>148006.0</td>\n      <td>2.090674</td>\n      <td>263387.947604</td>\n      <td>0.137575</td>\n    </tr>\n    <tr>\n      <th>1</th>\n      <td>375301</td>\n      <td>POINT (-97.22252 38.90109)</td>\n      <td>907.0</td>\n      <td>Dickinson County</td>\n      <td>Kansas</td>\n      <td>20</td>\n      <td>041</td>\n      <td>20041</td>\n      <td>19258.0</td>\n      <td>22.6</td>\n      <td>...</td>\n      <td>335353.0</td>\n      <td>155342.0</td>\n      <td>851.95</td>\n      <td>919.0</td>\n      <td>565.0</td>\n      <td>364449.0</td>\n      <td>162723.0</td>\n      <td>2.083000</td>\n      <td>266212.614050</td>\n      <td>0.229020</td>\n    </tr>\n    <tr>\n      <th>2</th>\n      <td>375302</td>\n      <td>POINT (-93.36240 44.92690)</td>\n      <td>1339.0</td>\n      <td>Hennepin County</td>\n      <td>Minnesota</td>\n      <td>27</td>\n      <td>053</td>\n      <td>27053</td>\n      <td>1270988.0</td>\n      <td>2094.6</td>\n      <td>...</td>\n      <td>54284.0</td>\n      <td>102821.0</td>\n      <td>606.79</td>\n      <td>467.0</td>\n      <td>98.0</td>\n      <td>36623.0</td>\n      <td>125418.0</td>\n      <td>2.043827</td>\n      <td>269395.417723</td>\n      <td>0.179370</td>\n    </tr>\n    <tr>\n      <th>3</th>\n      <td>375303</td>\n      <td>POINT (-78.48670 37.25750)</td>\n      <td>2889.0</td>\n      <td>Prince Edward County</td>\n      <td>Virginia</td>\n      <td>51</td>\n      <td>147</td>\n      <td>51147</td>\n      <td>23610.0</td>\n      <td>66.7</td>\n      <td>...</td>\n      <td>19680.0</td>\n      <td>39993.0</td>\n      <td>353.84</td>\n      <td>341.0</td>\n      <td>204.0</td>\n      <td>20082.0</td>\n      <td>69768.0</td>\n      <td>1.705060</td>\n      <td>213470.965578</td>\n      <td>0.093043</td>\n    </tr>\n    <tr>\n      <th>4</th>\n      <td>375304</td>\n      <td>POINT (-88.08340 33.57500)</td>\n      <td>37.0</td>\n      <td>Lamar County</td>\n      <td>Alabama</td>\n      <td>01</td>\n      <td>075</td>\n      <td>01075</td>\n      <td>14722.0</td>\n      <td>24.3</td>\n      <td>...</td>\n      <td>13868.0</td>\n      <td>21337.0</td>\n      <td>605.47</td>\n      <td>269.0</td>\n      <td>274.0</td>\n      <td>12006.0</td>\n      <td>38507.0</td>\n      <td>1.640622</td>\n      <td>206364.489224</td>\n      <td>0.152639</td>\n    </tr>\n    <tr>\n      <th>...</th>\n      <td>...</td>\n      <td>...</td>\n      <td>...</td>\n      <td>...</td>\n      <td>...</td>\n      <td>...</td>\n      <td>...</td>\n      <td>...</td>\n      <td>...</td>\n      <td>...</td>\n      <td>...</td>\n      <td>...</td>\n      <td>...</td>\n      <td>...</td>\n      <td>...</td>\n      <td>...</td>\n      <td>...</td>\n      <td>...</td>\n      <td>...</td>\n      <td>...</td>\n      <td>...</td>\n    </tr>\n    <tr>\n      <th>1304499</th>\n      <td>1758476</td>\n      <td>POINT (-81.98170 36.89940)</td>\n      <td>2898.0</td>\n      <td>Russell County</td>\n      <td>Virginia</td>\n      <td>51</td>\n      <td>167</td>\n      <td>51167</td>\n      <td>31537.0</td>\n      <td>66.2</td>\n      <td>...</td>\n      <td>34004.0</td>\n      <td>32325.0</td>\n      <td>476.44</td>\n      <td>918.0</td>\n      <td>185.0</td>\n      <td>32705.0</td>\n      <td>25277.0</td>\n      <td>2.020264</td>\n      <td>250196.412852</td>\n      <td>0.124811</td>\n    </tr>\n    <tr>\n      <th>1304500</th>\n      <td>1758477</td>\n      <td>POINT (-82.49140 36.63920)</td>\n      <td>2899.0</td>\n      <td>Scott County</td>\n      <td>Virginia</td>\n      <td>51</td>\n      <td>169</td>\n      <td>51169</td>\n      <td>23132.0</td>\n      <td>42.9</td>\n      <td>...</td>\n      <td>33436.0</td>\n      <td>10892.0</td>\n      <td>538.96</td>\n      <td>1138.0</td>\n      <td>110.0</td>\n      <td>30463.0</td>\n      <td>13672.0</td>\n      <td>1.810793</td>\n      <td>216507.753914</td>\n      <td>0.140791</td>\n    </tr>\n    <tr>\n      <th>1304501</th>\n      <td>1758478</td>\n      <td>POINT (-79.42030 36.58940)</td>\n      <td>2921.0</td>\n      <td>Danville city</td>\n      <td>Virginia</td>\n      <td>51</td>\n      <td>590</td>\n      <td>51590</td>\n      <td>41339.0</td>\n      <td>946.0</td>\n      <td>...</td>\n      <td>-99.0</td>\n      <td>-99.0</td>\n      <td>43.70</td>\n      <td>0.0</td>\n      <td>0.0</td>\n      <td>0.0</td>\n      <td>0.0</td>\n      <td>0.742117</td>\n      <td>90094.456012</td>\n      <td>0.011397</td>\n    </tr>\n    <tr>\n      <th>1304502</th>\n      <td>1758479</td>\n      <td>POINT (-94.62758 36.83011)</td>\n      <td>2187.0</td>\n      <td>Ottawa County</td>\n      <td>Oklahoma</td>\n      <td>40</td>\n      <td>115</td>\n      <td>40115</td>\n      <td>31406.0</td>\n      <td>64.8</td>\n      <td>...</td>\n      <td>87881.0</td>\n      <td>115291.0</td>\n      <td>484.61</td>\n      <td>947.0</td>\n      <td>217.0</td>\n      <td>92775.0</td>\n      <td>147558.0</td>\n      <td>1.502228</td>\n      <td>185329.803987</td>\n      <td>0.126790</td>\n    </tr>\n    <tr>\n      <th>1304503</th>\n      <td>1758480</td>\n      <td>POINT (-89.80115 42.51023)</td>\n      <td>3068.0</td>\n      <td>Green County</td>\n      <td>Wisconsin</td>\n      <td>55</td>\n      <td>045</td>\n      <td>55045</td>\n      <td>37234.0</td>\n      <td>63.7</td>\n      <td>...</td>\n      <td>238606.0</td>\n      <td>129669.0</td>\n      <td>584.55</td>\n      <td>1428.0</td>\n      <td>205.0</td>\n      <td>239493.0</td>\n      <td>154796.0</td>\n      <td>1.649837</td>\n      <td>212085.955420</td>\n      <td>0.166281</td>\n    </tr>\n  </tbody>\n</table>\n<p>1304504 rows × 63 columns</p>\n</div>"
     },
     "execution_count": 29,
     "metadata": {},
     "output_type": "execute_result"
    }
   ],
   "source": [
    "county_points"
   ],
   "metadata": {
    "collapsed": false
   }
  },
  {
   "cell_type": "markdown",
   "source": [
    "# Merging DFs Together"
   ],
   "metadata": {
    "collapsed": false
   }
  },
  {
   "cell_type": "code",
   "execution_count": 30,
   "outputs": [],
   "source": [
    "# first change dtype from object to int for position\n",
    "# zip_points['position']=zip_points['position'].astype(int)\n",
    "county_points['position']=county_points['position'].astype(int)"
   ],
   "metadata": {
    "collapsed": false
   }
  },
  {
   "cell_type": "code",
   "execution_count": 31,
   "outputs": [],
   "source": [
    "# traditional inner join to merge the 2 data frames\n",
    "# data_usgs = pd.merge(data_condensed,zip_points,left_index=True, right_on='position')\n",
    "data_usgs = pd.merge(data_condensed,county_points,left_index=True, right_on='position')"
   ],
   "metadata": {
    "collapsed": false
   }
  },
  {
   "cell_type": "code",
   "execution_count": null,
   "outputs": [],
   "source": [
    "# voila, chef's kiss\n",
    "data_usgs #1304504"
   ],
   "metadata": {
    "collapsed": false
   }
  },
  {
   "cell_type": "code",
   "execution_count": null,
   "outputs": [],
   "source": [
    "# data_usgs.to_csv('data_usgs.csv')"
   ],
   "metadata": {
    "collapsed": false
   }
  },
  {
   "cell_type": "markdown",
   "source": [
    "# Separating Out by State (Great Lakes Region Only)"
   ],
   "metadata": {
    "collapsed": false
   }
  },
  {
   "cell_type": "code",
   "execution_count": 32,
   "outputs": [],
   "source": [
    "great_lakes_states = ['MI','OH','PA','IL','IN','MN','NY','WI']\n",
    "great_lakes_state_names = ['Michigan','Ohio','Pennsylvania','Illinois','Indiana','Minnesota','New York', 'Wisconsin']"
   ],
   "metadata": {
    "collapsed": false
   }
  },
  {
   "cell_type": "code",
   "execution_count": 33,
   "outputs": [],
   "source": [
    "# data_usgs_GL = data_usgs[data_usgs.STATE.isin(great_lakes_states)]\n",
    "data_usgs_GL = data_usgs[data_usgs.STATE_NAME.isin(great_lakes_state_names)]\n"
   ],
   "metadata": {
    "collapsed": false
   }
  },
  {
   "cell_type": "code",
   "execution_count": null,
   "outputs": [],
   "source": [
    "len(data_usgs_GL) #455566"
   ],
   "metadata": {
    "collapsed": false
   }
  },
  {
   "cell_type": "markdown",
   "source": [
    "# Analysis on dataset"
   ],
   "metadata": {
    "collapsed": false
   }
  },
  {
   "cell_type": "code",
   "execution_count": null,
   "outputs": [],
   "source": [
    "# total observations in GL region (for ZIPs) = 456708\n",
    "# total observations in GL region (for counties) = 455566\n",
    "\n",
    "# data_usgs_GL.to_csv('data_usgs_GL2.csv')"
   ],
   "metadata": {
    "collapsed": false
   }
  },
  {
   "cell_type": "code",
   "execution_count": null,
   "outputs": [],
   "source": [
    "# total zip codes is 3968\n",
    "# total counties is 450\n",
    "\n",
    "# data_usgs_GL['ZIP_CODE'].value_counts()\n",
    "data_usgs_GL['NAME'].value_counts() #450"
   ],
   "metadata": {
    "collapsed": false
   }
  },
  {
   "cell_type": "code",
   "execution_count": null,
   "outputs": [],
   "source": [
    "stats_by_state = data_usgs_GL.groupby('STATE_NAME')['ResultMeasureValue'].agg(['count','mean', 'median', 'std', 'var', 'min', 'max'])"
   ],
   "metadata": {
    "collapsed": false
   }
  },
  {
   "cell_type": "code",
   "execution_count": null,
   "outputs": [],
   "source": [
    "stats_by_state\n",
    "# stats_by_state.to_csv('stats_by_state.csv')"
   ],
   "metadata": {
    "collapsed": false
   }
  },
  {
   "cell_type": "markdown",
   "source": [
    "# Aggregating data"
   ],
   "metadata": {
    "collapsed": false
   }
  },
  {
   "cell_type": "code",
   "execution_count": 35,
   "outputs": [
    {
     "data": {
      "text/plain": "Index(['OrganizationIdentifier', 'ActivityMediaSubdivisionName',\n       'ActivityStartDate', 'ResultMeasureValue',\n       'ResultMeasure/MeasureUnitCode', 'ActivityLocation/LatitudeMeasure',\n       'ActivityLocation/LongitudeMeasure', 'HydrologicEvent', 'position',\n       'geometry', 'index_right', 'NAME', 'STATE_NAME', 'STATE_FIPS',\n       'CNTY_FIPS', 'FIPS', 'POPULATION', 'POP_SQMI', 'POP2010', 'POP10_SQMI',\n       'WHITE', 'BLACK', 'AMERI_ES', 'ASIAN', 'HAWN_PI', 'HISPANIC', 'OTHER',\n       'MULT_RACE', 'MALES', 'FEMALES', 'AGE_UNDER5', 'AGE_5_9', 'AGE_10_14',\n       'AGE_15_19', 'AGE_20_24', 'AGE_25_34', 'AGE_35_44', 'AGE_45_54',\n       'AGE_55_64', 'AGE_65_74', 'AGE_75_84', 'AGE_85_UP', 'MED_AGE',\n       'MED_AGE_M', 'MED_AGE_F', 'HOUSEHOLDS', 'AVE_HH_SZ', 'HSEHLD_1_M',\n       'HSEHLD_1_F', 'MARHH_CHD', 'MARHH_NO_C', 'MHH_CHILD', 'FHH_CHILD',\n       'FAMILIES', 'AVE_FAM_SZ', 'HSE_UNITS', 'VACANT', 'OWNER_OCC',\n       'RENTER_OCC', 'NO_FARMS12', 'AVE_SIZE12', 'CROP_ACR12', 'AVE_SALE12',\n       'SQMI', 'NO_FARMS17', 'AVE_SIZE17', 'CROP_ACR17', 'AVE_SALE17',\n       'Shape_Leng', 'SHAPE_Length', 'SHAPE_Area'],\n      dtype='object')"
     },
     "execution_count": 35,
     "metadata": {},
     "output_type": "execute_result"
    }
   ],
   "source": [
    "data_usgs_GL.columns"
   ],
   "metadata": {
    "collapsed": false
   }
  },
  {
   "cell_type": "code",
   "execution_count": 45,
   "outputs": [
    {
     "name": "stderr",
     "output_type": "stream",
     "text": [
      "C:\\Users\\caraca\\AppData\\Local\\Temp\\1\\ipykernel_49400\\3442111917.py:2: SettingWithCopyWarning: \n",
      "A value is trying to be set on a copy of a slice from a DataFrame\n",
      "\n",
      "See the caveats in the documentation: https://pandas.pydata.org/pandas-docs/stable/user_guide/indexing.html#returning-a-view-versus-a-copy\n",
      "  data_usgs_GL.rename(columns={'NAME': 'CountyName'}, inplace=True)\n",
      "C:\\Users\\caraca\\AppData\\Local\\Temp\\1\\ipykernel_49400\\3442111917.py:3: SettingWithCopyWarning: \n",
      "A value is trying to be set on a copy of a slice from a DataFrame.\n",
      "Try using .loc[row_indexer,col_indexer] = value instead\n",
      "\n",
      "See the caveats in the documentation: https://pandas.pydata.org/pandas-docs/stable/user_guide/indexing.html#returning-a-view-versus-a-copy\n",
      "  data_usgs_GL['CountyState'] = data_usgs_GL['CountyName']+'-'+ data_usgs_GL['STATE_NAME']\n"
     ]
    }
   ],
   "source": [
    "# rename columns, pull out desired, separate out the imputing data frame from the descriptive dataframe... intent to merge back together later on\n",
    "data_usgs_GL.rename(columns={'NAME': 'CountyName'}, inplace=True)\n",
    "data_usgs_GL['CountyState'] = data_usgs_GL['CountyName']+'-'+ data_usgs_GL['STATE_NAME']\n"
   ],
   "metadata": {
    "collapsed": false
   }
  },
  {
   "cell_type": "code",
   "execution_count": 46,
   "outputs": [
    {
     "data": {
      "text/plain": "        OrganizationIdentifier ActivityMediaSubdivisionName ActivityStartDate  \\\n2                        MNPCA                Surface Water        2010-09-01   \n5                        MNPCA                Surface Water        2010-06-24   \n8                        MNPCA                Surface Water        2010-08-16   \n14                       MNPCA                Surface Water        2010-09-07   \n17                       MNPCA                Surface Water        2010-07-27   \n...                        ...                          ...               ...   \n1304457              WIDNR_WQX                          NaN        2024-01-09   \n1304459           HO_CHUNK_WQX                          NaN        2024-01-04   \n1304467              WIDNR_WQX                          NaN        2024-01-12   \n1304470              WIDNR_WQX                          NaN        2024-01-29   \n1304503              WIDNR_WQX                          NaN        2024-01-29   \n\n         ResultMeasureValue ResultMeasure/MeasureUnitCode  \\\n2                    0.0610                          mg/L   \n5                    0.4540                          mg/L   \n8                    0.0140                          mg/L   \n14                   0.3670                          mg/L   \n17                   0.0190                          mg/L   \n...                     ...                           ...   \n1304457              0.0213                          mg/L   \n1304459              0.0340                          mg/L   \n1304467              0.0409                          mg/L   \n1304470              0.0226                          mg/L   \n1304503              0.1200                          mg/L   \n\n         ActivityLocation/LatitudeMeasure  ActivityLocation/LongitudeMeasure  \\\n2                               44.926900                         -93.362400   \n5                               43.513917                         -93.268611   \n8                               46.931197                         -94.772603   \n14                              43.590170                         -94.681010   \n17                              45.705203                         -94.747231   \n...                                   ...                                ...   \n1304457                         45.371741                         -91.208534   \n1304459                         44.037100                         -89.722700   \n1304467                         43.650870                         -89.612390   \n1304470                         43.953910                         -88.952560   \n1304503                         42.510227                         -89.801150   \n\n        HydrologicEvent  position                    geometry  ...  \\\n2                   NaN    375302  POINT (-93.36240 44.92690)  ...   \n5                   NaN    375305  POINT (-93.26861 43.51392)  ...   \n8                   NaN    375308  POINT (-94.77260 46.93120)  ...   \n14                  NaN    375315  POINT (-94.68101 43.59017)  ...   \n17                  NaN    375318  POINT (-94.74723 45.70520)  ...   \n...                 ...       ...                         ...  ...   \n1304457             NaN   1758434  POINT (-91.20853 45.37174)  ...   \n1304459             NaN   1758436  POINT (-89.72270 44.03710)  ...   \n1304467             NaN   1758444  POINT (-89.61239 43.65087)  ...   \n1304470             NaN   1758447  POINT (-88.95256 43.95391)  ...   \n1304503             NaN   1758480  POINT (-89.80115 42.51023)  ...   \n\n         AVE_SALE12     SQMI NO_FARMS17 AVE_SIZE17 CROP_ACR17 AVE_SALE17  \\\n2          102821.0   606.79      467.0       98.0    36623.0   125418.0   \n5          370784.0   722.42     1076.0      366.0   374911.0   338289.0   \n8          113475.0   999.49      384.0      246.0    53391.0   115220.0   \n14         690708.0   729.58      911.0      493.0   434319.0   697611.0   \n17         230933.0  1390.02     2951.0      221.0   515928.0   253466.0   \n...             ...      ...        ...        ...        ...        ...   \n1304457    121366.0   930.86      501.0      272.0    70661.0   107354.0   \n1304459    337599.0   687.48      308.0      381.0    84544.0   425646.0   \n1304467    337599.0   687.48      308.0      381.0    84544.0   425646.0   \n1304470    168614.0   380.13      502.0      252.0    99674.0   180513.0   \n1304503    129669.0   584.55     1428.0      205.0   239493.0   154796.0   \n\n         Shape_Leng   SHAPE_Length  SHAPE_Area                  CountyState  \n2          2.043827  269395.417723    0.179370    Hennepin County-Minnesota  \n5          1.895490  240696.187148    0.208823    Freeborn County-Minnesota  \n8          2.265708  315677.698853    0.306781     Hubbard County-Minnesota  \n14         1.909775  242215.618493    0.210894      Martin County-Minnesota  \n17         3.195917  401039.073367    0.414828     Stearns County-Minnesota  \n...             ...            ...         ...                          ...  \n1304457    2.417757  302007.435056    0.277423        Rusk County-Wisconsin  \n1304459    2.125677  286964.278008    0.199696       Adams County-Wisconsin  \n1304467    2.125677  286964.278008    0.199696       Adams County-Wisconsin  \n1304470    1.497150  197190.068599    0.110108  Green Lake County-Wisconsin  \n1304503    1.649837  212085.955420    0.166281       Green County-Wisconsin  \n\n[455566 rows x 72 columns]",
      "text/html": "<div>\n<style scoped>\n    .dataframe tbody tr th:only-of-type {\n        vertical-align: middle;\n    }\n\n    .dataframe tbody tr th {\n        vertical-align: top;\n    }\n\n    .dataframe thead th {\n        text-align: right;\n    }\n</style>\n<table border=\"1\" class=\"dataframe\">\n  <thead>\n    <tr style=\"text-align: right;\">\n      <th></th>\n      <th>OrganizationIdentifier</th>\n      <th>ActivityMediaSubdivisionName</th>\n      <th>ActivityStartDate</th>\n      <th>ResultMeasureValue</th>\n      <th>ResultMeasure/MeasureUnitCode</th>\n      <th>ActivityLocation/LatitudeMeasure</th>\n      <th>ActivityLocation/LongitudeMeasure</th>\n      <th>HydrologicEvent</th>\n      <th>position</th>\n      <th>geometry</th>\n      <th>...</th>\n      <th>AVE_SALE12</th>\n      <th>SQMI</th>\n      <th>NO_FARMS17</th>\n      <th>AVE_SIZE17</th>\n      <th>CROP_ACR17</th>\n      <th>AVE_SALE17</th>\n      <th>Shape_Leng</th>\n      <th>SHAPE_Length</th>\n      <th>SHAPE_Area</th>\n      <th>CountyState</th>\n    </tr>\n  </thead>\n  <tbody>\n    <tr>\n      <th>2</th>\n      <td>MNPCA</td>\n      <td>Surface Water</td>\n      <td>2010-09-01</td>\n      <td>0.0610</td>\n      <td>mg/L</td>\n      <td>44.926900</td>\n      <td>-93.362400</td>\n      <td>NaN</td>\n      <td>375302</td>\n      <td>POINT (-93.36240 44.92690)</td>\n      <td>...</td>\n      <td>102821.0</td>\n      <td>606.79</td>\n      <td>467.0</td>\n      <td>98.0</td>\n      <td>36623.0</td>\n      <td>125418.0</td>\n      <td>2.043827</td>\n      <td>269395.417723</td>\n      <td>0.179370</td>\n      <td>Hennepin County-Minnesota</td>\n    </tr>\n    <tr>\n      <th>5</th>\n      <td>MNPCA</td>\n      <td>Surface Water</td>\n      <td>2010-06-24</td>\n      <td>0.4540</td>\n      <td>mg/L</td>\n      <td>43.513917</td>\n      <td>-93.268611</td>\n      <td>NaN</td>\n      <td>375305</td>\n      <td>POINT (-93.26861 43.51392)</td>\n      <td>...</td>\n      <td>370784.0</td>\n      <td>722.42</td>\n      <td>1076.0</td>\n      <td>366.0</td>\n      <td>374911.0</td>\n      <td>338289.0</td>\n      <td>1.895490</td>\n      <td>240696.187148</td>\n      <td>0.208823</td>\n      <td>Freeborn County-Minnesota</td>\n    </tr>\n    <tr>\n      <th>8</th>\n      <td>MNPCA</td>\n      <td>Surface Water</td>\n      <td>2010-08-16</td>\n      <td>0.0140</td>\n      <td>mg/L</td>\n      <td>46.931197</td>\n      <td>-94.772603</td>\n      <td>NaN</td>\n      <td>375308</td>\n      <td>POINT (-94.77260 46.93120)</td>\n      <td>...</td>\n      <td>113475.0</td>\n      <td>999.49</td>\n      <td>384.0</td>\n      <td>246.0</td>\n      <td>53391.0</td>\n      <td>115220.0</td>\n      <td>2.265708</td>\n      <td>315677.698853</td>\n      <td>0.306781</td>\n      <td>Hubbard County-Minnesota</td>\n    </tr>\n    <tr>\n      <th>14</th>\n      <td>MNPCA</td>\n      <td>Surface Water</td>\n      <td>2010-09-07</td>\n      <td>0.3670</td>\n      <td>mg/L</td>\n      <td>43.590170</td>\n      <td>-94.681010</td>\n      <td>NaN</td>\n      <td>375315</td>\n      <td>POINT (-94.68101 43.59017)</td>\n      <td>...</td>\n      <td>690708.0</td>\n      <td>729.58</td>\n      <td>911.0</td>\n      <td>493.0</td>\n      <td>434319.0</td>\n      <td>697611.0</td>\n      <td>1.909775</td>\n      <td>242215.618493</td>\n      <td>0.210894</td>\n      <td>Martin County-Minnesota</td>\n    </tr>\n    <tr>\n      <th>17</th>\n      <td>MNPCA</td>\n      <td>Surface Water</td>\n      <td>2010-07-27</td>\n      <td>0.0190</td>\n      <td>mg/L</td>\n      <td>45.705203</td>\n      <td>-94.747231</td>\n      <td>NaN</td>\n      <td>375318</td>\n      <td>POINT (-94.74723 45.70520)</td>\n      <td>...</td>\n      <td>230933.0</td>\n      <td>1390.02</td>\n      <td>2951.0</td>\n      <td>221.0</td>\n      <td>515928.0</td>\n      <td>253466.0</td>\n      <td>3.195917</td>\n      <td>401039.073367</td>\n      <td>0.414828</td>\n      <td>Stearns County-Minnesota</td>\n    </tr>\n    <tr>\n      <th>...</th>\n      <td>...</td>\n      <td>...</td>\n      <td>...</td>\n      <td>...</td>\n      <td>...</td>\n      <td>...</td>\n      <td>...</td>\n      <td>...</td>\n      <td>...</td>\n      <td>...</td>\n      <td>...</td>\n      <td>...</td>\n      <td>...</td>\n      <td>...</td>\n      <td>...</td>\n      <td>...</td>\n      <td>...</td>\n      <td>...</td>\n      <td>...</td>\n      <td>...</td>\n      <td>...</td>\n    </tr>\n    <tr>\n      <th>1304457</th>\n      <td>WIDNR_WQX</td>\n      <td>NaN</td>\n      <td>2024-01-09</td>\n      <td>0.0213</td>\n      <td>mg/L</td>\n      <td>45.371741</td>\n      <td>-91.208534</td>\n      <td>NaN</td>\n      <td>1758434</td>\n      <td>POINT (-91.20853 45.37174)</td>\n      <td>...</td>\n      <td>121366.0</td>\n      <td>930.86</td>\n      <td>501.0</td>\n      <td>272.0</td>\n      <td>70661.0</td>\n      <td>107354.0</td>\n      <td>2.417757</td>\n      <td>302007.435056</td>\n      <td>0.277423</td>\n      <td>Rusk County-Wisconsin</td>\n    </tr>\n    <tr>\n      <th>1304459</th>\n      <td>HO_CHUNK_WQX</td>\n      <td>NaN</td>\n      <td>2024-01-04</td>\n      <td>0.0340</td>\n      <td>mg/L</td>\n      <td>44.037100</td>\n      <td>-89.722700</td>\n      <td>NaN</td>\n      <td>1758436</td>\n      <td>POINT (-89.72270 44.03710)</td>\n      <td>...</td>\n      <td>337599.0</td>\n      <td>687.48</td>\n      <td>308.0</td>\n      <td>381.0</td>\n      <td>84544.0</td>\n      <td>425646.0</td>\n      <td>2.125677</td>\n      <td>286964.278008</td>\n      <td>0.199696</td>\n      <td>Adams County-Wisconsin</td>\n    </tr>\n    <tr>\n      <th>1304467</th>\n      <td>WIDNR_WQX</td>\n      <td>NaN</td>\n      <td>2024-01-12</td>\n      <td>0.0409</td>\n      <td>mg/L</td>\n      <td>43.650870</td>\n      <td>-89.612390</td>\n      <td>NaN</td>\n      <td>1758444</td>\n      <td>POINT (-89.61239 43.65087)</td>\n      <td>...</td>\n      <td>337599.0</td>\n      <td>687.48</td>\n      <td>308.0</td>\n      <td>381.0</td>\n      <td>84544.0</td>\n      <td>425646.0</td>\n      <td>2.125677</td>\n      <td>286964.278008</td>\n      <td>0.199696</td>\n      <td>Adams County-Wisconsin</td>\n    </tr>\n    <tr>\n      <th>1304470</th>\n      <td>WIDNR_WQX</td>\n      <td>NaN</td>\n      <td>2024-01-29</td>\n      <td>0.0226</td>\n      <td>mg/L</td>\n      <td>43.953910</td>\n      <td>-88.952560</td>\n      <td>NaN</td>\n      <td>1758447</td>\n      <td>POINT (-88.95256 43.95391)</td>\n      <td>...</td>\n      <td>168614.0</td>\n      <td>380.13</td>\n      <td>502.0</td>\n      <td>252.0</td>\n      <td>99674.0</td>\n      <td>180513.0</td>\n      <td>1.497150</td>\n      <td>197190.068599</td>\n      <td>0.110108</td>\n      <td>Green Lake County-Wisconsin</td>\n    </tr>\n    <tr>\n      <th>1304503</th>\n      <td>WIDNR_WQX</td>\n      <td>NaN</td>\n      <td>2024-01-29</td>\n      <td>0.1200</td>\n      <td>mg/L</td>\n      <td>42.510227</td>\n      <td>-89.801150</td>\n      <td>NaN</td>\n      <td>1758480</td>\n      <td>POINT (-89.80115 42.51023)</td>\n      <td>...</td>\n      <td>129669.0</td>\n      <td>584.55</td>\n      <td>1428.0</td>\n      <td>205.0</td>\n      <td>239493.0</td>\n      <td>154796.0</td>\n      <td>1.649837</td>\n      <td>212085.955420</td>\n      <td>0.166281</td>\n      <td>Green County-Wisconsin</td>\n    </tr>\n  </tbody>\n</table>\n<p>455566 rows × 72 columns</p>\n</div>"
     },
     "execution_count": 46,
     "metadata": {},
     "output_type": "execute_result"
    }
   ],
   "source": [
    "data_usgs_GL"
   ],
   "metadata": {
    "collapsed": false
   }
  },
  {
   "cell_type": "code",
   "execution_count": 48,
   "outputs": [
    {
     "data": {
      "text/plain": "                                       ResultMeasureValue  \\\nCountyState              ActivityYear                       \nAdams County-Illinois    2010                    0.212773   \n                         2011                    0.083278   \n                         2012                    0.079962   \n                         2013                    0.088600   \n                         2014                    0.184000   \n...                                                   ...   \nYork County-Pennsylvania 2018                    0.109343   \n                         2019                    0.091269   \n                         2020                    0.124969   \n                         2021                    0.081930   \n                         2022                    0.092044   \n\n                                       ActivityLocation/LatitudeMeasure  \\\nCountyState              ActivityYear                                     \nAdams County-Illinois    2010                                 40.055899   \n                         2011                                 40.007116   \n                         2012                                 40.069261   \n                         2013                                 39.970719   \n                         2014                                 40.023338   \n...                                                                 ...   \nYork County-Pennsylvania 2018                                 40.035358   \n                         2019                                 40.014245   \n                         2020                                 40.034533   \n                         2021                                 40.033449   \n                         2022                                 40.049230   \n\n                                       ActivityLocation/LongitudeMeasure  \nCountyState              ActivityYear                                     \nAdams County-Illinois    2010                                 -91.371083  \n                         2011                                 -91.242255  \n                         2012                                 -91.365847  \n                         2013                                 -91.140114  \n                         2014                                 -91.334644  \n...                                                                  ...  \nYork County-Pennsylvania 2018                                 -76.678542  \n                         2019                                 -76.630262  \n                         2020                                 -76.638578  \n                         2021                                 -76.640127  \n                         2022                                 -76.658219  \n\n[5058 rows x 3 columns]",
      "text/html": "<div>\n<style scoped>\n    .dataframe tbody tr th:only-of-type {\n        vertical-align: middle;\n    }\n\n    .dataframe tbody tr th {\n        vertical-align: top;\n    }\n\n    .dataframe thead th {\n        text-align: right;\n    }\n</style>\n<table border=\"1\" class=\"dataframe\">\n  <thead>\n    <tr style=\"text-align: right;\">\n      <th></th>\n      <th></th>\n      <th>ResultMeasureValue</th>\n      <th>ActivityLocation/LatitudeMeasure</th>\n      <th>ActivityLocation/LongitudeMeasure</th>\n    </tr>\n    <tr>\n      <th>CountyState</th>\n      <th>ActivityYear</th>\n      <th></th>\n      <th></th>\n      <th></th>\n    </tr>\n  </thead>\n  <tbody>\n    <tr>\n      <th rowspan=\"5\" valign=\"top\">Adams County-Illinois</th>\n      <th>2010</th>\n      <td>0.212773</td>\n      <td>40.055899</td>\n      <td>-91.371083</td>\n    </tr>\n    <tr>\n      <th>2011</th>\n      <td>0.083278</td>\n      <td>40.007116</td>\n      <td>-91.242255</td>\n    </tr>\n    <tr>\n      <th>2012</th>\n      <td>0.079962</td>\n      <td>40.069261</td>\n      <td>-91.365847</td>\n    </tr>\n    <tr>\n      <th>2013</th>\n      <td>0.088600</td>\n      <td>39.970719</td>\n      <td>-91.140114</td>\n    </tr>\n    <tr>\n      <th>2014</th>\n      <td>0.184000</td>\n      <td>40.023338</td>\n      <td>-91.334644</td>\n    </tr>\n    <tr>\n      <th>...</th>\n      <th>...</th>\n      <td>...</td>\n      <td>...</td>\n      <td>...</td>\n    </tr>\n    <tr>\n      <th rowspan=\"5\" valign=\"top\">York County-Pennsylvania</th>\n      <th>2018</th>\n      <td>0.109343</td>\n      <td>40.035358</td>\n      <td>-76.678542</td>\n    </tr>\n    <tr>\n      <th>2019</th>\n      <td>0.091269</td>\n      <td>40.014245</td>\n      <td>-76.630262</td>\n    </tr>\n    <tr>\n      <th>2020</th>\n      <td>0.124969</td>\n      <td>40.034533</td>\n      <td>-76.638578</td>\n    </tr>\n    <tr>\n      <th>2021</th>\n      <td>0.081930</td>\n      <td>40.033449</td>\n      <td>-76.640127</td>\n    </tr>\n    <tr>\n      <th>2022</th>\n      <td>0.092044</td>\n      <td>40.049230</td>\n      <td>-76.658219</td>\n    </tr>\n  </tbody>\n</table>\n<p>5058 rows × 3 columns</p>\n</div>"
     },
     "execution_count": 48,
     "metadata": {},
     "output_type": "execute_result"
    }
   ],
   "source": [
    "\n",
    "\n",
    "\n",
    "desired_columns = ['ActivityStartDate', 'ResultMeasureValue', 'CountyState', 'ActivityLocation/LatitudeMeasure','ActivityLocation/LongitudeMeasure']\n",
    "modeling = data_usgs_GL.loc[:,desired_columns]\n",
    "\n",
    "# convert to year\n",
    "modeling['ActivityStartDate'] = pd.to_datetime(modeling['ActivityStartDate'])\n",
    "modeling['ActivityYear'] = modeling['ActivityStartDate'].dt.year\n",
    "\n",
    "#drop the full date\n",
    "modeling.drop('ActivityStartDate', axis=1, inplace=True)\n",
    "\n",
    "# finding mean by county and year, not resetting index because want to sew back together after imputation\n",
    "modeling = modeling.groupby(['CountyState', 'ActivityYear']).agg({'ResultMeasureValue': 'mean', 'ActivityLocation/LatitudeMeasure':'mean','ActivityLocation/LongitudeMeasure':'mean'})\n",
    "# modeling = modeling.groupby(['CountyName', 'Year']).agg({'ResultMeasureValue': 'mean'}).reset_index()\n",
    "modeling"
   ],
   "metadata": {
    "collapsed": false
   }
  },
  {
   "cell_type": "code",
   "execution_count": 43,
   "outputs": [
    {
     "data": {
      "text/plain": "                           ResultMeasureValue  \\\nCountyName   ActivityYear                       \nAdams County 2010                    0.217240   \n             2011                    0.070196   \n             2012                    0.167473   \n             2013                    0.088600   \n             2014                    0.169891   \n...                                       ...   \nYork County  2018                    0.109343   \n             2019                    0.091269   \n             2020                    0.124969   \n             2021                    0.081930   \n             2022                    0.092044   \n\n                           ActivityLocation/LatitudeMeasure  \\\nCountyName   ActivityYear                                     \nAdams County 2010                                 40.136769   \n             2011                                 39.954160   \n             2012                                 39.956151   \n             2013                                 39.970719   \n             2014                                 40.102348   \n...                                                     ...   \nYork County  2018                                 40.035358   \n             2019                                 40.014245   \n             2020                                 40.034533   \n             2021                                 40.033449   \n             2022                                 40.049230   \n\n                           ActivityLocation/LongitudeMeasure  \nCountyName   ActivityYear                                     \nAdams County 2010                                 -90.594442  \n             2011                                 -87.093354  \n             2012                                 -82.143727  \n             2013                                 -91.140114  \n             2014                                 -90.394133  \n...                                                      ...  \nYork County  2018                                 -76.678542  \n             2019                                 -76.630262  \n             2020                                 -76.638578  \n             2021                                 -76.640127  \n             2022                                 -76.658219  \n\n[4166 rows x 3 columns]",
      "text/html": "<div>\n<style scoped>\n    .dataframe tbody tr th:only-of-type {\n        vertical-align: middle;\n    }\n\n    .dataframe tbody tr th {\n        vertical-align: top;\n    }\n\n    .dataframe thead th {\n        text-align: right;\n    }\n</style>\n<table border=\"1\" class=\"dataframe\">\n  <thead>\n    <tr style=\"text-align: right;\">\n      <th></th>\n      <th></th>\n      <th>ResultMeasureValue</th>\n      <th>ActivityLocation/LatitudeMeasure</th>\n      <th>ActivityLocation/LongitudeMeasure</th>\n    </tr>\n    <tr>\n      <th>CountyName</th>\n      <th>ActivityYear</th>\n      <th></th>\n      <th></th>\n      <th></th>\n    </tr>\n  </thead>\n  <tbody>\n    <tr>\n      <th rowspan=\"5\" valign=\"top\">Adams County</th>\n      <th>2010</th>\n      <td>0.217240</td>\n      <td>40.136769</td>\n      <td>-90.594442</td>\n    </tr>\n    <tr>\n      <th>2011</th>\n      <td>0.070196</td>\n      <td>39.954160</td>\n      <td>-87.093354</td>\n    </tr>\n    <tr>\n      <th>2012</th>\n      <td>0.167473</td>\n      <td>39.956151</td>\n      <td>-82.143727</td>\n    </tr>\n    <tr>\n      <th>2013</th>\n      <td>0.088600</td>\n      <td>39.970719</td>\n      <td>-91.140114</td>\n    </tr>\n    <tr>\n      <th>2014</th>\n      <td>0.169891</td>\n      <td>40.102348</td>\n      <td>-90.394133</td>\n    </tr>\n    <tr>\n      <th>...</th>\n      <th>...</th>\n      <td>...</td>\n      <td>...</td>\n      <td>...</td>\n    </tr>\n    <tr>\n      <th rowspan=\"5\" valign=\"top\">York County</th>\n      <th>2018</th>\n      <td>0.109343</td>\n      <td>40.035358</td>\n      <td>-76.678542</td>\n    </tr>\n    <tr>\n      <th>2019</th>\n      <td>0.091269</td>\n      <td>40.014245</td>\n      <td>-76.630262</td>\n    </tr>\n    <tr>\n      <th>2020</th>\n      <td>0.124969</td>\n      <td>40.034533</td>\n      <td>-76.638578</td>\n    </tr>\n    <tr>\n      <th>2021</th>\n      <td>0.081930</td>\n      <td>40.033449</td>\n      <td>-76.640127</td>\n    </tr>\n    <tr>\n      <th>2022</th>\n      <td>0.092044</td>\n      <td>40.049230</td>\n      <td>-76.658219</td>\n    </tr>\n  </tbody>\n</table>\n<p>4166 rows × 3 columns</p>\n</div>"
     },
     "execution_count": 43,
     "metadata": {},
     "output_type": "execute_result"
    }
   ],
   "source": [
    "modeling"
   ],
   "metadata": {
    "collapsed": false
   }
  },
  {
   "cell_type": "code",
   "execution_count": 40,
   "outputs": [
    {
     "data": {
      "text/plain": "                           ResultMeasureValue\nCountyName   ActivityYear                    \nAdams County 2010                    0.217240\n             2011                    0.070196\n             2012                    0.167473\n             2013                    0.088600\n             2014                    0.169891\n...                                       ...\nYork County  2018                    0.109343\n             2019                    0.091269\n             2020                    0.124969\n             2021                    0.081930\n             2022                    0.092044\n\n[4166 rows x 1 columns]",
      "text/html": "<div>\n<style scoped>\n    .dataframe tbody tr th:only-of-type {\n        vertical-align: middle;\n    }\n\n    .dataframe tbody tr th {\n        vertical-align: top;\n    }\n\n    .dataframe thead th {\n        text-align: right;\n    }\n</style>\n<table border=\"1\" class=\"dataframe\">\n  <thead>\n    <tr style=\"text-align: right;\">\n      <th></th>\n      <th></th>\n      <th>ResultMeasureValue</th>\n    </tr>\n    <tr>\n      <th>CountyName</th>\n      <th>ActivityYear</th>\n      <th></th>\n    </tr>\n  </thead>\n  <tbody>\n    <tr>\n      <th rowspan=\"5\" valign=\"top\">Adams County</th>\n      <th>2010</th>\n      <td>0.217240</td>\n    </tr>\n    <tr>\n      <th>2011</th>\n      <td>0.070196</td>\n    </tr>\n    <tr>\n      <th>2012</th>\n      <td>0.167473</td>\n    </tr>\n    <tr>\n      <th>2013</th>\n      <td>0.088600</td>\n    </tr>\n    <tr>\n      <th>2014</th>\n      <td>0.169891</td>\n    </tr>\n    <tr>\n      <th>...</th>\n      <th>...</th>\n      <td>...</td>\n    </tr>\n    <tr>\n      <th rowspan=\"5\" valign=\"top\">York County</th>\n      <th>2018</th>\n      <td>0.109343</td>\n    </tr>\n    <tr>\n      <th>2019</th>\n      <td>0.091269</td>\n    </tr>\n    <tr>\n      <th>2020</th>\n      <td>0.124969</td>\n    </tr>\n    <tr>\n      <th>2021</th>\n      <td>0.081930</td>\n    </tr>\n    <tr>\n      <th>2022</th>\n      <td>0.092044</td>\n    </tr>\n  </tbody>\n</table>\n<p>4166 rows × 1 columns</p>\n</div>"
     },
     "execution_count": 40,
     "metadata": {},
     "output_type": "execute_result"
    }
   ],
   "source": [
    "modeling_pivot = modeling.pivot_table(index='CountyName', columns='ActivityYear', values='ResultMeasureValue', aggfunc='mean')\n",
    "modeling_pivot\n"
   ],
   "metadata": {
    "collapsed": false
   }
  },
  {
   "cell_type": "code",
   "execution_count": null,
   "outputs": [],
   "source": [
    "modeling.isna().sum()\n"
   ],
   "metadata": {
    "collapsed": false
   }
  },
  {
   "cell_type": "markdown",
   "source": [
    "# Imputation using KNN"
   ],
   "metadata": {
    "collapsed": false
   }
  },
  {
   "cell_type": "code",
   "execution_count": 53,
   "outputs": [
    {
     "data": {
      "text/plain": "array([[ 2.12772727e-01,  4.00558991e+01, -9.13710827e+01],\n       [ 8.32777778e-02,  4.00071160e+01, -9.12422545e+01],\n       [ 7.99615385e-02,  4.00692608e+01, -9.13658469e+01],\n       ...,\n       [ 1.24968553e-01,  4.00345333e+01, -7.66385780e+01],\n       [ 8.19303797e-02,  4.00334494e+01, -7.66401266e+01],\n       [ 9.20442478e-02,  4.00492301e+01, -7.66582195e+01]])"
     },
     "execution_count": 53,
     "metadata": {},
     "output_type": "execute_result"
    }
   ],
   "source": [
    "import numpy as np\n",
    "\n",
    "from sklearn.impute import KNNImputer\n",
    "X = modeling\n",
    "imputer = KNNImputer(n_neighbors=2)\n",
    "imputer.fit_transform(X)"
   ],
   "metadata": {
    "collapsed": false
   }
  },
  {
   "cell_type": "code",
   "execution_count": 54,
   "outputs": [
    {
     "data": {
      "text/plain": "                                       ResultMeasureValue  \\\nCountyState              ActivityYear                       \nAdams County-Illinois    2010                    0.212773   \n                         2011                    0.083278   \n                         2012                    0.079962   \n                         2013                    0.088600   \n                         2014                    0.184000   \n...                                                   ...   \nYork County-Pennsylvania 2018                    0.109343   \n                         2019                    0.091269   \n                         2020                    0.124969   \n                         2021                    0.081930   \n                         2022                    0.092044   \n\n                                       ActivityLocation/LatitudeMeasure  \\\nCountyState              ActivityYear                                     \nAdams County-Illinois    2010                                 40.055899   \n                         2011                                 40.007116   \n                         2012                                 40.069261   \n                         2013                                 39.970719   \n                         2014                                 40.023338   \n...                                                                 ...   \nYork County-Pennsylvania 2018                                 40.035358   \n                         2019                                 40.014245   \n                         2020                                 40.034533   \n                         2021                                 40.033449   \n                         2022                                 40.049230   \n\n                                       ActivityLocation/LongitudeMeasure  \nCountyState              ActivityYear                                     \nAdams County-Illinois    2010                                 -91.371083  \n                         2011                                 -91.242255  \n                         2012                                 -91.365847  \n                         2013                                 -91.140114  \n                         2014                                 -91.334644  \n...                                                                  ...  \nYork County-Pennsylvania 2018                                 -76.678542  \n                         2019                                 -76.630262  \n                         2020                                 -76.638578  \n                         2021                                 -76.640127  \n                         2022                                 -76.658219  \n\n[5058 rows x 3 columns]",
      "text/html": "<div>\n<style scoped>\n    .dataframe tbody tr th:only-of-type {\n        vertical-align: middle;\n    }\n\n    .dataframe tbody tr th {\n        vertical-align: top;\n    }\n\n    .dataframe thead th {\n        text-align: right;\n    }\n</style>\n<table border=\"1\" class=\"dataframe\">\n  <thead>\n    <tr style=\"text-align: right;\">\n      <th></th>\n      <th></th>\n      <th>ResultMeasureValue</th>\n      <th>ActivityLocation/LatitudeMeasure</th>\n      <th>ActivityLocation/LongitudeMeasure</th>\n    </tr>\n    <tr>\n      <th>CountyState</th>\n      <th>ActivityYear</th>\n      <th></th>\n      <th></th>\n      <th></th>\n    </tr>\n  </thead>\n  <tbody>\n    <tr>\n      <th rowspan=\"5\" valign=\"top\">Adams County-Illinois</th>\n      <th>2010</th>\n      <td>0.212773</td>\n      <td>40.055899</td>\n      <td>-91.371083</td>\n    </tr>\n    <tr>\n      <th>2011</th>\n      <td>0.083278</td>\n      <td>40.007116</td>\n      <td>-91.242255</td>\n    </tr>\n    <tr>\n      <th>2012</th>\n      <td>0.079962</td>\n      <td>40.069261</td>\n      <td>-91.365847</td>\n    </tr>\n    <tr>\n      <th>2013</th>\n      <td>0.088600</td>\n      <td>39.970719</td>\n      <td>-91.140114</td>\n    </tr>\n    <tr>\n      <th>2014</th>\n      <td>0.184000</td>\n      <td>40.023338</td>\n      <td>-91.334644</td>\n    </tr>\n    <tr>\n      <th>...</th>\n      <th>...</th>\n      <td>...</td>\n      <td>...</td>\n      <td>...</td>\n    </tr>\n    <tr>\n      <th rowspan=\"5\" valign=\"top\">York County-Pennsylvania</th>\n      <th>2018</th>\n      <td>0.109343</td>\n      <td>40.035358</td>\n      <td>-76.678542</td>\n    </tr>\n    <tr>\n      <th>2019</th>\n      <td>0.091269</td>\n      <td>40.014245</td>\n      <td>-76.630262</td>\n    </tr>\n    <tr>\n      <th>2020</th>\n      <td>0.124969</td>\n      <td>40.034533</td>\n      <td>-76.638578</td>\n    </tr>\n    <tr>\n      <th>2021</th>\n      <td>0.081930</td>\n      <td>40.033449</td>\n      <td>-76.640127</td>\n    </tr>\n    <tr>\n      <th>2022</th>\n      <td>0.092044</td>\n      <td>40.049230</td>\n      <td>-76.658219</td>\n    </tr>\n  </tbody>\n</table>\n<p>5058 rows × 3 columns</p>\n</div>"
     },
     "execution_count": 54,
     "metadata": {},
     "output_type": "execute_result"
    }
   ],
   "source": [
    "X"
   ],
   "metadata": {
    "collapsed": false
   }
  }
 ],
 "metadata": {
  "kernelspec": {
   "display_name": "Python 3 (ipykernel)",
   "language": "python",
   "name": "python3"
  },
  "language_info": {
   "codemirror_mode": {
    "name": "ipython",
    "version": 3
   },
   "file_extension": ".py",
   "mimetype": "text/x-python",
   "name": "python",
   "nbconvert_exporter": "python",
   "pygments_lexer": "ipython3",
   "version": "3.9.5"
  }
 },
 "nbformat": 4,
 "nbformat_minor": 4
}
