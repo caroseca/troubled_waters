{
 "cells": [
  {
   "cell_type": "markdown",
   "source": [
    "\n",
    "# USGS: Loading data\n",
    "Data retrieved from https://www.waterqualitydata.us/, filtering on lakes & streams data with the nutrient of phosphorus"
   ],
   "metadata": {
    "collapsed": false
   }
  },
  {
   "cell_type": "code",
   "execution_count": 1,
   "outputs": [],
   "source": [
    "import pandas as pd\n",
    "import numpy as np\n",
    "import geopy\n",
    "import geopandas\n",
    "import csv, json\n",
    "from geojson import Feature, FeatureCollection, Point\n",
    "\n",
    "data = pd.read_csv('data/usgs_phos.csv', low_memory=False)"
   ],
   "metadata": {
    "collapsed": false
   }
  },
  {
   "cell_type": "code",
   "execution_count": 2,
   "outputs": [
    {
     "data": {
      "text/plain": "        OrganizationIdentifier                        OrganizationFormalName  \\\n0                      USGS-PR         USGS Puerto Rico Water Science Center   \n1                      USGS-PA        USGS Pennsylvania Water Science Center   \n2                      USGS-OR              USGS Oregon Water Science Center   \n3                      USGS-WI           USGS Wisconsin Water Science Center   \n4                      USGS-MS         USGS Mississippi Water Science Center   \n...                        ...                                           ...   \n1758476               21VASWCB  VIRGINIA DEPARTMENT OF ENVIRONMENTAL QUALITY   \n1758477               21VASWCB  VIRGINIA DEPARTMENT OF ENVIRONMENTAL QUALITY   \n1758478               21VASWCB  VIRGINIA DEPARTMENT OF ENVIRONMENTAL QUALITY   \n1758479               ESTO_WQX             Eastern Shawnee Tribe of Oklahoma   \n1758480              WIDNR_WQX     Wisconsin Department of Natural Resources   \n\n            ActivityIdentifier                        ActivityTypeCode  \\\n0           nwispr.01.01100060                          Sample-Routine   \n1           nwispa.01.01100328                          Sample-Routine   \n2           nwisor.01.01001795                          Sample-Routine   \n3           nwiswi.01.01004665                          Sample-Routine   \n4           nwisms.01.01100120                          Sample-Routine   \n...                        ...                                     ...   \n1758476     21VASWCB-3121778.3  Quality Control Sample-Field Replicate   \n1758477     21VASWCB-3120026.3                          Sample-Routine   \n1758478     21VASWCB-3120677.2                          Sample-Routine   \n1758479  ESTO_WQX-LC201302024S                          Sample-Routine   \n1758480    WIDNR_WQX-356957822                          Sample-Routine   \n\n        ActivityMediaName ActivityMediaSubdivisionName ActivityStartDate  \\\n0                   Water                Surface Water        2010-10-19   \n1                   Water                Surface Water        2010-11-02   \n2                   Water                Surface Water        2010-06-01   \n3                   Water                Surface Water        2010-03-17   \n4                   Water                Surface Water        2010-11-26   \n...                   ...                          ...               ...   \n1758476             Water                Surface Water        2024-02-12   \n1758477             Water                Surface Water        2024-01-10   \n1758478             Water                Surface Water        2024-01-22   \n1758479             Water                          NaN        2024-01-30   \n1758480             Water                          NaN        2024-01-29   \n\n        ActivityStartTime/Time ActivityStartTime/TimeZoneCode ActivityEndDate  \\\n0                     13:15:00                            AST             NaN   \n1                     12:00:00                            EDT             NaN   \n2                     09:11:00                            PDT             NaN   \n3                     12:00:00                            CDT             NaN   \n4                     00:00:00                            CST             NaN   \n...                        ...                            ...             ...   \n1758476               09:45:00                            EST      2024-02-12   \n1758477               13:20:00                            EST      2024-01-10   \n1758478               12:00:00                            EST      2024-01-22   \n1758479                    NaN                            NaN             NaN   \n1758480               11:58:00                            CST      2024-01-29   \n\n         ...                                     LaboratoryName  \\\n0        ...        USGS-National Water Quality Lab, Denver, CO   \n1        ...  Pennsylvania Department of Environmental Prote...   \n2        ...                Clean Water Services, Hillsboro, OR   \n3        ...                                                NaN   \n4        ...           Office of Pollution Control, Mississippi   \n...      ...                                                ...   \n1758476  ...                                                NaN   \n1758477  ...                                                NaN   \n1758478  ...                                                NaN   \n1758479  ...                                                NaN   \n1758480  ...                                          113133790   \n\n        AnalysisStartDate ResultLaboratoryCommentText  \\\n0              2010-11-09          sample was diluted   \n1                     NaN                         NaN   \n2                     NaN                         NaN   \n3                     NaN                         NaN   \n4                     NaN                         NaN   \n...                   ...                         ...   \n1758476               NaN                         NaN   \n1758477               NaN                         NaN   \n1758478               NaN                         NaN   \n1758479               NaN                         NaN   \n1758480        2024-02-21                         NaN   \n\n                       ResultDetectionQuantitationLimitUrl  \\\n0                                                      NaN   \n1                                                      NaN   \n2                                                      NaN   \n3                                                      NaN   \n4                                                      NaN   \n...                                                    ...   \n1758476                                                NaN   \n1758477                                                NaN   \n1758478                                                NaN   \n1758479                                                NaN   \n1758480  https://www.waterqualitydata.us/data/providers...   \n\n        DetectionQuantitationLimitTypeName  \\\n0         Long Term Method Detection Level   \n1                                      NaN   \n2                    Lower Reporting Limit   \n3                                      NaN   \n4                                      NaN   \n...                                    ...   \n1758476                                NaN   \n1758477                                NaN   \n1758478                                NaN   \n1758479                                NaN   \n1758480           Lower Quantitation Limit   \n\n        DetectionQuantitationLimitMeasure/MeasureValue  \\\n0                                                0.004   \n1                                                  NaN   \n2                                                0.025   \n3                                                  NaN   \n4                                                  NaN   \n...                                                ...   \n1758476                                            NaN   \n1758477                                            NaN   \n1758478                                            NaN   \n1758479                                            NaN   \n1758480                                         0.0300   \n\n        DetectionQuantitationLimitMeasure/MeasureUnitCode  \\\n0                                               mg/l as P   \n1                                                     NaN   \n2                                               mg/l as P   \n3                                                     NaN   \n4                                                     NaN   \n...                                                   ...   \n1758476                                               NaN   \n1758477                                               NaN   \n1758478                                               NaN   \n1758479                                               NaN   \n1758480                                              mg/L   \n\n        LabSamplePreparationUrl          LastUpdated ProviderName  \n0                           NaN                  NaN         NWIS  \n1                           NaN                  NaN         NWIS  \n2                           NaN                  NaN         NWIS  \n3                           NaN                  NaN         NWIS  \n4                           NaN                  NaN         NWIS  \n...                         ...                  ...          ...  \n1758476                     NaN  2024-02-26T11:00:24       STORET  \n1758477                     NaN  2024-02-12T10:39:17       STORET  \n1758478                     NaN  2024-02-19T09:50:13       STORET  \n1758479                     NaN  2024-02-12T16:30:44       STORET  \n1758480                     NaN  2024-02-28T05:14:10       STORET  \n\n[1758481 rows x 81 columns]",
      "text/html": "<div>\n<style scoped>\n    .dataframe tbody tr th:only-of-type {\n        vertical-align: middle;\n    }\n\n    .dataframe tbody tr th {\n        vertical-align: top;\n    }\n\n    .dataframe thead th {\n        text-align: right;\n    }\n</style>\n<table border=\"1\" class=\"dataframe\">\n  <thead>\n    <tr style=\"text-align: right;\">\n      <th></th>\n      <th>OrganizationIdentifier</th>\n      <th>OrganizationFormalName</th>\n      <th>ActivityIdentifier</th>\n      <th>ActivityTypeCode</th>\n      <th>ActivityMediaName</th>\n      <th>ActivityMediaSubdivisionName</th>\n      <th>ActivityStartDate</th>\n      <th>ActivityStartTime/Time</th>\n      <th>ActivityStartTime/TimeZoneCode</th>\n      <th>ActivityEndDate</th>\n      <th>...</th>\n      <th>LaboratoryName</th>\n      <th>AnalysisStartDate</th>\n      <th>ResultLaboratoryCommentText</th>\n      <th>ResultDetectionQuantitationLimitUrl</th>\n      <th>DetectionQuantitationLimitTypeName</th>\n      <th>DetectionQuantitationLimitMeasure/MeasureValue</th>\n      <th>DetectionQuantitationLimitMeasure/MeasureUnitCode</th>\n      <th>LabSamplePreparationUrl</th>\n      <th>LastUpdated</th>\n      <th>ProviderName</th>\n    </tr>\n  </thead>\n  <tbody>\n    <tr>\n      <th>0</th>\n      <td>USGS-PR</td>\n      <td>USGS Puerto Rico Water Science Center</td>\n      <td>nwispr.01.01100060</td>\n      <td>Sample-Routine</td>\n      <td>Water</td>\n      <td>Surface Water</td>\n      <td>2010-10-19</td>\n      <td>13:15:00</td>\n      <td>AST</td>\n      <td>NaN</td>\n      <td>...</td>\n      <td>USGS-National Water Quality Lab, Denver, CO</td>\n      <td>2010-11-09</td>\n      <td>sample was diluted</td>\n      <td>NaN</td>\n      <td>Long Term Method Detection Level</td>\n      <td>0.004</td>\n      <td>mg/l as P</td>\n      <td>NaN</td>\n      <td>NaN</td>\n      <td>NWIS</td>\n    </tr>\n    <tr>\n      <th>1</th>\n      <td>USGS-PA</td>\n      <td>USGS Pennsylvania Water Science Center</td>\n      <td>nwispa.01.01100328</td>\n      <td>Sample-Routine</td>\n      <td>Water</td>\n      <td>Surface Water</td>\n      <td>2010-11-02</td>\n      <td>12:00:00</td>\n      <td>EDT</td>\n      <td>NaN</td>\n      <td>...</td>\n      <td>Pennsylvania Department of Environmental Prote...</td>\n      <td>NaN</td>\n      <td>NaN</td>\n      <td>NaN</td>\n      <td>NaN</td>\n      <td>NaN</td>\n      <td>NaN</td>\n      <td>NaN</td>\n      <td>NaN</td>\n      <td>NWIS</td>\n    </tr>\n    <tr>\n      <th>2</th>\n      <td>USGS-OR</td>\n      <td>USGS Oregon Water Science Center</td>\n      <td>nwisor.01.01001795</td>\n      <td>Sample-Routine</td>\n      <td>Water</td>\n      <td>Surface Water</td>\n      <td>2010-06-01</td>\n      <td>09:11:00</td>\n      <td>PDT</td>\n      <td>NaN</td>\n      <td>...</td>\n      <td>Clean Water Services, Hillsboro, OR</td>\n      <td>NaN</td>\n      <td>NaN</td>\n      <td>NaN</td>\n      <td>Lower Reporting Limit</td>\n      <td>0.025</td>\n      <td>mg/l as P</td>\n      <td>NaN</td>\n      <td>NaN</td>\n      <td>NWIS</td>\n    </tr>\n    <tr>\n      <th>3</th>\n      <td>USGS-WI</td>\n      <td>USGS Wisconsin Water Science Center</td>\n      <td>nwiswi.01.01004665</td>\n      <td>Sample-Routine</td>\n      <td>Water</td>\n      <td>Surface Water</td>\n      <td>2010-03-17</td>\n      <td>12:00:00</td>\n      <td>CDT</td>\n      <td>NaN</td>\n      <td>...</td>\n      <td>NaN</td>\n      <td>NaN</td>\n      <td>NaN</td>\n      <td>NaN</td>\n      <td>NaN</td>\n      <td>NaN</td>\n      <td>NaN</td>\n      <td>NaN</td>\n      <td>NaN</td>\n      <td>NWIS</td>\n    </tr>\n    <tr>\n      <th>4</th>\n      <td>USGS-MS</td>\n      <td>USGS Mississippi Water Science Center</td>\n      <td>nwisms.01.01100120</td>\n      <td>Sample-Routine</td>\n      <td>Water</td>\n      <td>Surface Water</td>\n      <td>2010-11-26</td>\n      <td>00:00:00</td>\n      <td>CST</td>\n      <td>NaN</td>\n      <td>...</td>\n      <td>Office of Pollution Control, Mississippi</td>\n      <td>NaN</td>\n      <td>NaN</td>\n      <td>NaN</td>\n      <td>NaN</td>\n      <td>NaN</td>\n      <td>NaN</td>\n      <td>NaN</td>\n      <td>NaN</td>\n      <td>NWIS</td>\n    </tr>\n    <tr>\n      <th>...</th>\n      <td>...</td>\n      <td>...</td>\n      <td>...</td>\n      <td>...</td>\n      <td>...</td>\n      <td>...</td>\n      <td>...</td>\n      <td>...</td>\n      <td>...</td>\n      <td>...</td>\n      <td>...</td>\n      <td>...</td>\n      <td>...</td>\n      <td>...</td>\n      <td>...</td>\n      <td>...</td>\n      <td>...</td>\n      <td>...</td>\n      <td>...</td>\n      <td>...</td>\n      <td>...</td>\n    </tr>\n    <tr>\n      <th>1758476</th>\n      <td>21VASWCB</td>\n      <td>VIRGINIA DEPARTMENT OF ENVIRONMENTAL QUALITY</td>\n      <td>21VASWCB-3121778.3</td>\n      <td>Quality Control Sample-Field Replicate</td>\n      <td>Water</td>\n      <td>Surface Water</td>\n      <td>2024-02-12</td>\n      <td>09:45:00</td>\n      <td>EST</td>\n      <td>2024-02-12</td>\n      <td>...</td>\n      <td>NaN</td>\n      <td>NaN</td>\n      <td>NaN</td>\n      <td>NaN</td>\n      <td>NaN</td>\n      <td>NaN</td>\n      <td>NaN</td>\n      <td>NaN</td>\n      <td>2024-02-26T11:00:24</td>\n      <td>STORET</td>\n    </tr>\n    <tr>\n      <th>1758477</th>\n      <td>21VASWCB</td>\n      <td>VIRGINIA DEPARTMENT OF ENVIRONMENTAL QUALITY</td>\n      <td>21VASWCB-3120026.3</td>\n      <td>Sample-Routine</td>\n      <td>Water</td>\n      <td>Surface Water</td>\n      <td>2024-01-10</td>\n      <td>13:20:00</td>\n      <td>EST</td>\n      <td>2024-01-10</td>\n      <td>...</td>\n      <td>NaN</td>\n      <td>NaN</td>\n      <td>NaN</td>\n      <td>NaN</td>\n      <td>NaN</td>\n      <td>NaN</td>\n      <td>NaN</td>\n      <td>NaN</td>\n      <td>2024-02-12T10:39:17</td>\n      <td>STORET</td>\n    </tr>\n    <tr>\n      <th>1758478</th>\n      <td>21VASWCB</td>\n      <td>VIRGINIA DEPARTMENT OF ENVIRONMENTAL QUALITY</td>\n      <td>21VASWCB-3120677.2</td>\n      <td>Sample-Routine</td>\n      <td>Water</td>\n      <td>Surface Water</td>\n      <td>2024-01-22</td>\n      <td>12:00:00</td>\n      <td>EST</td>\n      <td>2024-01-22</td>\n      <td>...</td>\n      <td>NaN</td>\n      <td>NaN</td>\n      <td>NaN</td>\n      <td>NaN</td>\n      <td>NaN</td>\n      <td>NaN</td>\n      <td>NaN</td>\n      <td>NaN</td>\n      <td>2024-02-19T09:50:13</td>\n      <td>STORET</td>\n    </tr>\n    <tr>\n      <th>1758479</th>\n      <td>ESTO_WQX</td>\n      <td>Eastern Shawnee Tribe of Oklahoma</td>\n      <td>ESTO_WQX-LC201302024S</td>\n      <td>Sample-Routine</td>\n      <td>Water</td>\n      <td>NaN</td>\n      <td>2024-01-30</td>\n      <td>NaN</td>\n      <td>NaN</td>\n      <td>NaN</td>\n      <td>...</td>\n      <td>NaN</td>\n      <td>NaN</td>\n      <td>NaN</td>\n      <td>NaN</td>\n      <td>NaN</td>\n      <td>NaN</td>\n      <td>NaN</td>\n      <td>NaN</td>\n      <td>2024-02-12T16:30:44</td>\n      <td>STORET</td>\n    </tr>\n    <tr>\n      <th>1758480</th>\n      <td>WIDNR_WQX</td>\n      <td>Wisconsin Department of Natural Resources</td>\n      <td>WIDNR_WQX-356957822</td>\n      <td>Sample-Routine</td>\n      <td>Water</td>\n      <td>NaN</td>\n      <td>2024-01-29</td>\n      <td>11:58:00</td>\n      <td>CST</td>\n      <td>2024-01-29</td>\n      <td>...</td>\n      <td>113133790</td>\n      <td>2024-02-21</td>\n      <td>NaN</td>\n      <td>https://www.waterqualitydata.us/data/providers...</td>\n      <td>Lower Quantitation Limit</td>\n      <td>0.0300</td>\n      <td>mg/L</td>\n      <td>NaN</td>\n      <td>2024-02-28T05:14:10</td>\n      <td>STORET</td>\n    </tr>\n  </tbody>\n</table>\n<p>1758481 rows × 81 columns</p>\n</div>"
     },
     "execution_count": 2,
     "metadata": {},
     "output_type": "execute_result"
    }
   ],
   "source": [
    "data"
   ],
   "metadata": {
    "collapsed": false
   }
  },
  {
   "cell_type": "markdown",
   "source": [
    "# USGS Data: Shaping"
   ],
   "metadata": {
    "collapsed": false
   }
  },
  {
   "cell_type": "code",
   "execution_count": 2,
   "outputs": [
    {
     "data": {
      "text/plain": "1758481"
     },
     "execution_count": 2,
     "metadata": {},
     "output_type": "execute_result"
    }
   ],
   "source": [
    "# creating a new dataframe that is condensed and only containing the fields we need, starting with 1758481 rows\n",
    "\n",
    "data_condensed = data[['OrganizationIdentifier','ActivityMediaSubdivisionName','ActivityStartDate','ResultMeasureValue','ResultMeasure/MeasureUnitCode','ActivityLocation/LatitudeMeasure','ActivityLocation/LongitudeMeasure','HydrologicEvent']].copy()\n",
    "len(data_condensed)"
   ],
   "metadata": {
    "collapsed": false
   }
  },
  {
   "cell_type": "code",
   "execution_count": 3,
   "metadata": {
    "collapsed": false,
    "jupyter": {
     "outputs_hidden": false
    }
   },
   "outputs": [
    {
     "data": {
      "text/plain": "(1304819, 8)"
     },
     "execution_count": 3,
     "metadata": {},
     "output_type": "execute_result"
    }
   ],
   "source": [
    "# if there is an NaN in any field besides HydrologicEvent or ActivityMediaSubdivisionName, drop the row. ending with 630448 rows\n",
    "\n",
    "data_condensed.dropna(subset=['OrganizationIdentifier','ActivityStartDate','ResultMeasureValue','ResultMeasure/MeasureUnitCode','ActivityLocation/LatitudeMeasure','ActivityLocation/LongitudeMeasure'],inplace=True)\n",
    "data_condensed.shape #1304819"
   ]
  },
  {
   "cell_type": "code",
   "execution_count": 4,
   "metadata": {
    "collapsed": false,
    "jupyter": {
     "outputs_hidden": false
    }
   },
   "outputs": [],
   "source": [
    "# convert the ResultMeasureValue field to numeric, coerce errors so that the values that look like \"<0.05\" show up as 0\n",
    "\n",
    "data_condensed['ResultMeasureValue'] = pd.to_numeric(data_condensed['ResultMeasureValue'], errors='coerce')\n",
    "data_condensed['ResultMeasureValue'] = data_condensed['ResultMeasureValue'].fillna(0)"
   ]
  },
  {
   "cell_type": "markdown",
   "source": [
    "# USGS Data: Mitigating Unit Measure Issues"
   ],
   "metadata": {
    "collapsed": false
   }
  },
  {
   "cell_type": "code",
   "execution_count": 5,
   "outputs": [
    {
     "data": {
      "text/plain": "ResultMeasure/MeasureUnitCode\nmg/L         1162932\nug/L          128348\nppm             8611\nppb             3979\nmg/kg            634\nug               158\n%                144\ncount              6\nmL/L               4\nMPN/100mL          2\n#/100mL            1\nName: count, dtype: int64"
     },
     "execution_count": 5,
     "metadata": {},
     "output_type": "execute_result"
    }
   ],
   "source": [
    "# dealing with differing units\n",
    "\n",
    "# mg (milligrams) per liter = mg per 1,000cc and 1000 cc of water weighs 1 kg. Therefore, 1 mg/L is the same as 1 mg/kg if you are talking about water. (ResearchGate, https://www.researchgate.net/post/Converting_mg_l_to_mg_kg#:~:text=mg%20(milligrams)%20per%20liter%20%3D,you%20are%20talking%20about%20water.)\n",
    "\n",
    "# conversion for ppb and ppm to mg/L chrome-extension://efaidnbmnnnibpcajpcglclefindmkaj/https://cfpub.epa.gov/ncer_abstracts/index.cfm/fuseaction/display.files/fileid/14285\n",
    "\n",
    "# convert ug/L to mg/L --> divide by 1000\n",
    "# convert ppb to mg/L --> divide by 1000\n",
    "# convert ppm to mg/L --> just change units\n",
    "# convert mg/kg to mg/L --> divide by 1000\n",
    "\n",
    "data_condensed['ResultMeasure/MeasureUnitCode'].unique()\n",
    "data_condensed['ResultMeasure/MeasureUnitCode'].value_counts()"
   ],
   "metadata": {
    "collapsed": false
   }
  },
  {
   "cell_type": "code",
   "execution_count": 6,
   "metadata": {
    "collapsed": false,
    "jupyter": {
     "outputs_hidden": false
    }
   },
   "outputs": [
    {
     "data": {
      "text/plain": "0.325"
     },
     "execution_count": 6,
     "metadata": {},
     "output_type": "execute_result"
    }
   ],
   "source": [
    "### --- investigation 'ug' only --- ###\n",
    "\n",
    "# 0.325 to about 1.6, surface water for the 'ug'\n",
    "# looks like this UG code is in OrganizationIdentifier called \"21VASWCB\", which is the VIRGINIA DEPARTMENT OF ENVIRONMENTAL QUALITY. confirmed via value_counts that this is the only org using 'ug'\n",
    "ug = data_condensed.loc[data_condensed['ResultMeasure/MeasureUnitCode'] == 'ug']\n",
    "ug['OrganizationIdentifier'].value_counts() #158\n",
    "ug['ResultMeasureValue'].max() #1.62\n",
    "ug['ResultMeasureValue'].min() #0.325"
   ]
  },
  {
   "cell_type": "code",
   "execution_count": 7,
   "metadata": {
    "collapsed": false,
    "jupyter": {
     "outputs_hidden": false
    }
   },
   "outputs": [],
   "source": [
    "# how comparable are ug and ug/L? are they of the same scale? we can treat these differently\n",
    "ugL = data_condensed.loc[data_condensed['ResultMeasure/MeasureUnitCode'] == 'ug/L']\n",
    "# ugL['ResultMeasureValue'].max() #2971.9\n",
    "# ugL['ResultMeasureValue'].min() #-0.948print(ugL.iloc[2])"
   ]
  },
  {
   "cell_type": "code",
   "execution_count": 8,
   "outputs": [
    {
     "name": "stdout",
     "output_type": "stream",
     "text": [
      "OrganizationIdentifier                 1VTDECWQ\n",
      "ActivityMediaSubdivisionName                NaN\n",
      "ActivityStartDate                    2010-08-19\n",
      "ResultMeasureValue                         13.4\n",
      "ResultMeasure/MeasureUnitCode              ug/L\n",
      "ActivityLocation/LatitudeMeasure        44.5819\n",
      "ActivityLocation/LongitudeMeasure      -73.2811\n",
      "HydrologicEvent                             NaN\n",
      "Name: 375362, dtype: object\n"
     ]
    }
   ],
   "source": [
    "# looking at one specific row, 2, current value is 1.234\n",
    "print(ugL.iloc[2])"
   ],
   "metadata": {
    "collapsed": false
   }
  },
  {
   "cell_type": "code",
   "execution_count": 9,
   "outputs": [],
   "source": [
    "# convertsion, divide all cells by 1000 if ResultMeasureUnit is indicated above else ResultMeasureValue\n",
    "\n",
    "data_condensed['ResultMeasureValue'] = data_condensed.apply(lambda x: x['ResultMeasureValue']/1000 if x['ResultMeasure/MeasureUnitCode']=='ug/L' else x['ResultMeasureValue'], axis=1)\n",
    "\n",
    "data_condensed['ResultMeasureValue'] = data_condensed.apply(lambda x: x['ResultMeasureValue']/1000 if x['ResultMeasure/MeasureUnitCode']=='ppb' else x['ResultMeasureValue'], axis=1)\n",
    "\n",
    "data_condensed['ResultMeasureValue'] = data_condensed.apply(lambda x: x['ResultMeasureValue']/1000 if x['ResultMeasure/MeasureUnitCode']=='mg/kg' else x['ResultMeasureValue'], axis=1)"
   ],
   "metadata": {
    "collapsed": false
   }
  },
  {
   "cell_type": "code",
   "execution_count": 10,
   "outputs": [
    {
     "name": "stdout",
     "output_type": "stream",
     "text": [
      "OrganizationIdentifier                 1VTDECWQ\n",
      "ActivityMediaSubdivisionName                NaN\n",
      "ActivityStartDate                    2010-08-19\n",
      "ResultMeasureValue                       0.0134\n",
      "ResultMeasure/MeasureUnitCode              ug/L\n",
      "ActivityLocation/LatitudeMeasure        44.5819\n",
      "ActivityLocation/LongitudeMeasure      -73.2811\n",
      "HydrologicEvent                             NaN\n",
      "Name: 375362, dtype: object\n"
     ]
    }
   ],
   "source": [
    "# confirmed! value was divided by 1000\n",
    "\n",
    "ugL = data_condensed.loc[data_condensed['ResultMeasure/MeasureUnitCode'] == 'ug/L']\n",
    "print(ugL.iloc[2])"
   ],
   "metadata": {
    "collapsed": false
   }
  },
  {
   "cell_type": "code",
   "execution_count": 11,
   "outputs": [
    {
     "name": "stderr",
     "output_type": "stream",
     "text": [
      "C:\\Users\\caraca\\AppData\\Local\\Temp\\1\\ipykernel_36176\\4114405720.py:3: FutureWarning: A value is trying to be set on a copy of a DataFrame or Series through chained assignment using an inplace method.\n",
      "The behavior will change in pandas 3.0. This inplace method will never work because the intermediate object on which we are setting values always behaves as a copy.\n",
      "\n",
      "For example, when doing 'df[col].method(value, inplace=True)', try using 'df.method({col: value}, inplace=True)' or df[col] = df[col].method(value) instead, to perform the operation inplace on the original object.\n",
      "\n",
      "\n",
      "  data_condensed['ResultMeasure/MeasureUnitCode'].replace('ug/L','mg/L',inplace=True)\n",
      "C:\\Users\\caraca\\AppData\\Local\\Temp\\1\\ipykernel_36176\\4114405720.py:4: FutureWarning: A value is trying to be set on a copy of a DataFrame or Series through chained assignment using an inplace method.\n",
      "The behavior will change in pandas 3.0. This inplace method will never work because the intermediate object on which we are setting values always behaves as a copy.\n",
      "\n",
      "For example, when doing 'df[col].method(value, inplace=True)', try using 'df.method({col: value}, inplace=True)' or df[col] = df[col].method(value) instead, to perform the operation inplace on the original object.\n",
      "\n",
      "\n",
      "  data_condensed['ResultMeasure/MeasureUnitCode'].replace('mg/kg','mg/L',inplace=True)\n",
      "C:\\Users\\caraca\\AppData\\Local\\Temp\\1\\ipykernel_36176\\4114405720.py:5: FutureWarning: A value is trying to be set on a copy of a DataFrame or Series through chained assignment using an inplace method.\n",
      "The behavior will change in pandas 3.0. This inplace method will never work because the intermediate object on which we are setting values always behaves as a copy.\n",
      "\n",
      "For example, when doing 'df[col].method(value, inplace=True)', try using 'df.method({col: value}, inplace=True)' or df[col] = df[col].method(value) instead, to perform the operation inplace on the original object.\n",
      "\n",
      "\n",
      "  data_condensed['ResultMeasure/MeasureUnitCode'].replace('ppb','mg/L',inplace=True)\n",
      "C:\\Users\\caraca\\AppData\\Local\\Temp\\1\\ipykernel_36176\\4114405720.py:6: FutureWarning: A value is trying to be set on a copy of a DataFrame or Series through chained assignment using an inplace method.\n",
      "The behavior will change in pandas 3.0. This inplace method will never work because the intermediate object on which we are setting values always behaves as a copy.\n",
      "\n",
      "For example, when doing 'df[col].method(value, inplace=True)', try using 'df.method({col: value}, inplace=True)' or df[col] = df[col].method(value) instead, to perform the operation inplace on the original object.\n",
      "\n",
      "\n",
      "  data_condensed['ResultMeasure/MeasureUnitCode'].replace('ppm','mg/L',inplace=True)\n"
     ]
    }
   ],
   "source": [
    "# now fixing units for the values that were changed, from ug/L to mg/L & mg/kg to mg/L\n",
    "\n",
    "data_condensed['ResultMeasure/MeasureUnitCode'].replace('ug/L','mg/L',inplace=True)\n",
    "data_condensed['ResultMeasure/MeasureUnitCode'].replace('mg/kg','mg/L',inplace=True)\n",
    "data_condensed['ResultMeasure/MeasureUnitCode'].replace('ppb','mg/L',inplace=True)\n",
    "data_condensed['ResultMeasure/MeasureUnitCode'].replace('ppm','mg/L',inplace=True)\n"
   ],
   "metadata": {
    "collapsed": false
   }
  },
  {
   "cell_type": "code",
   "execution_count": 12,
   "outputs": [
    {
     "data": {
      "text/plain": "ResultMeasure/MeasureUnitCode\nmg/L         1304504\nug               158\n%                144\ncount              6\nmL/L               4\nMPN/100mL          2\n#/100mL            1\nName: count, dtype: int64"
     },
     "execution_count": 12,
     "metadata": {},
     "output_type": "execute_result"
    }
   ],
   "source": [
    "# confirming that worked\n",
    "\n",
    "data_condensed['ResultMeasure/MeasureUnitCode'].value_counts()"
   ],
   "metadata": {
    "collapsed": false
   }
  },
  {
   "cell_type": "code",
   "execution_count": 13,
   "outputs": [
    {
     "data": {
      "text/plain": "ResultMeasure/MeasureUnitCode\nmg/L    1304504\nName: count, dtype: int64"
     },
     "execution_count": 13,
     "metadata": {},
     "output_type": "execute_result"
    }
   ],
   "source": [
    "# include only rows with mg/L; the remaining rows represent an insignificant number of rows\n",
    "data_condensed = data_condensed[data_condensed['ResultMeasure/MeasureUnitCode'] == 'mg/L']\n",
    "data_condensed['ResultMeasure/MeasureUnitCode'].value_counts() #1304504"
   ],
   "metadata": {
    "collapsed": false
   }
  },
  {
   "cell_type": "markdown",
   "source": [
    "# Removing outliers greater than 40"
   ],
   "metadata": {
    "collapsed": false
   }
  },
  {
   "cell_type": "code",
   "execution_count": 14,
   "outputs": [],
   "source": [
    "#TODO add in outlier analysis code"
   ],
   "metadata": {
    "collapsed": false
   }
  },
  {
   "cell_type": "code",
   "execution_count": 15,
   "outputs": [],
   "source": [
    "\n",
    "# Keep rows where the value in column 'A' is less than or equal to 40\n",
    "data_condensed_filtered = data_condensed[data_condensed['ResultMeasureValue'] < 40]"
   ],
   "metadata": {
    "collapsed": false
   }
  },
  {
   "cell_type": "markdown",
   "source": [
    "# Using GeoPandas to spatially join larger geographical mappings to lat-long usgs data"
   ],
   "metadata": {
    "collapsed": false
   }
  },
  {
   "cell_type": "code",
   "execution_count": 16,
   "outputs": [],
   "source": [
    "#creating a further condensed data set with just the lat and lon points\n",
    "df2 = pd.DataFrame()\n",
    "df2['Lat'] = data_condensed_filtered['ActivityLocation/LatitudeMeasure']\n",
    "df2['Lon'] = data_condensed_filtered['ActivityLocation/LongitudeMeasure']\n",
    "# note that in this csv, i renamed the fields to 'latitutde', 'longitude', and 'position', copying the index. later, to make the geopandas work, i had to delete the field names\n",
    "df2.to_csv('latlong.csv', header=False)"
   ],
   "metadata": {
    "collapsed": false
   }
  },
  {
   "cell_type": "code",
   "execution_count": 17,
   "outputs": [],
   "source": [
    "# reading the csv, transforming it to geojason (remember i deleted column labels, probably could've just started to read at row 1...\n",
    "features = []\n",
    "with open('latlong.csv', newline='') as csvfile:\n",
    "    reader = csv.reader(csvfile, delimiter=',')\n",
    "    for position, latitude, longitude in reader:\n",
    "        latitude, longitude = map(float, (latitude, longitude))\n",
    "        features.append(\n",
    "            Feature(\n",
    "                geometry = Point((longitude, latitude)),\n",
    "                properties = {\n",
    "                    'position': position,\n",
    "                }\n",
    "            )\n",
    "        )\n",
    "\n",
    "collection = FeatureCollection(features)\n",
    "with open(\"GeoObs.json\", \"w\") as f:\n",
    "    f.write('%s' % collection)"
   ],
   "metadata": {
    "collapsed": false
   }
  },
  {
   "cell_type": "markdown",
   "source": [
    "# Spatially joining for counties\n",
    "\n",
    "https://hub.arcgis.com/datasets/esri::usa-counties/about"
   ],
   "metadata": {
    "collapsed": false
   }
  },
  {
   "cell_type": "code",
   "execution_count": 18,
   "outputs": [],
   "source": [
    "# points = geopandas.read_file('GeoObs.json')\n",
    "# counties = geopandas.read_file(\"USA_counties_gdb.gdb\")\n",
    "# county_points = points.sjoin(counties, how='left', )\n",
    "\n",
    "points = geopandas.read_file('GeoObs.json')\n",
    "counties = geopandas.read_file(\"USA_counties_gdb.gdb\").to_crs(4326)\n",
    "county_points = points.sjoin(counties, how='left', )"
   ],
   "metadata": {
    "collapsed": false
   }
  },
  {
   "cell_type": "markdown",
   "source": [
    "# Merging DFs Together, Including Only Great Lakes Region"
   ],
   "metadata": {
    "collapsed": false
   }
  },
  {
   "cell_type": "code",
   "execution_count": 19,
   "outputs": [],
   "source": [
    "# first change dtype from object to int for position\n",
    "# zip_points['position']=zip_points['position'].astype(int)\n",
    "county_points['position']=county_points['position'].astype(int)"
   ],
   "metadata": {
    "collapsed": false
   }
  },
  {
   "cell_type": "code",
   "execution_count": 20,
   "outputs": [],
   "source": [
    "# traditional inner join to merge the 2 data frames\n",
    "# data_usgs = pd.merge(data_condensed,zip_points,left_index=True, right_on='position')\n",
    "data_usgs = pd.merge(data_condensed,county_points,left_index=True, right_on='position')"
   ],
   "metadata": {
    "collapsed": false
   }
  },
  {
   "cell_type": "code",
   "execution_count": 21,
   "outputs": [],
   "source": [
    "# data_usgs.to_csv('data_usgs_counties.csv')"
   ],
   "metadata": {
    "collapsed": false
   }
  },
  {
   "cell_type": "code",
   "execution_count": 22,
   "outputs": [],
   "source": [
    "great_lakes_states = ['MI','OH','PA','IL','IN','MN','NY','WI']\n",
    "great_lakes_state_names = ['Michigan','Ohio','Pennsylvania','Illinois','Indiana','Minnesota','New York', 'Wisconsin']"
   ],
   "metadata": {
    "collapsed": false
   }
  },
  {
   "cell_type": "code",
   "execution_count": 23,
   "outputs": [],
   "source": [
    "# data_usgs_GL = data_usgs[data_usgs.STATE.isin(great_lakes_states)]\n",
    "data_usgs_GL = data_usgs[data_usgs.STATE_NAME.isin(great_lakes_state_names)]\n"
   ],
   "metadata": {
    "collapsed": false
   }
  },
  {
   "cell_type": "code",
   "execution_count": 24,
   "outputs": [
    {
     "name": "stderr",
     "output_type": "stream",
     "text": [
      "C:\\Users\\caraca\\AppData\\Local\\Temp\\1\\ipykernel_36176\\3442111917.py:2: SettingWithCopyWarning: \n",
      "A value is trying to be set on a copy of a slice from a DataFrame\n",
      "\n",
      "See the caveats in the documentation: https://pandas.pydata.org/pandas-docs/stable/user_guide/indexing.html#returning-a-view-versus-a-copy\n",
      "  data_usgs_GL.rename(columns={'NAME': 'CountyName'}, inplace=True)\n",
      "C:\\Users\\caraca\\AppData\\Local\\Temp\\1\\ipykernel_36176\\3442111917.py:3: SettingWithCopyWarning: \n",
      "A value is trying to be set on a copy of a slice from a DataFrame.\n",
      "Try using .loc[row_indexer,col_indexer] = value instead\n",
      "\n",
      "See the caveats in the documentation: https://pandas.pydata.org/pandas-docs/stable/user_guide/indexing.html#returning-a-view-versus-a-copy\n",
      "  data_usgs_GL['CountyState'] = data_usgs_GL['CountyName']+'-'+ data_usgs_GL['STATE_NAME']\n"
     ]
    }
   ],
   "source": [
    "# rename columns, pull out desired, separate out the imputing data frame from the descriptive dataframe... intent to merge back together later on\n",
    "data_usgs_GL.rename(columns={'NAME': 'CountyName'}, inplace=True)\n",
    "data_usgs_GL['CountyState'] = data_usgs_GL['CountyName']+'-'+ data_usgs_GL['STATE_NAME']\n"
   ],
   "metadata": {
    "collapsed": false
   }
  },
  {
   "cell_type": "code",
   "execution_count": 25,
   "outputs": [
    {
     "name": "stderr",
     "output_type": "stream",
     "text": [
      "C:\\Users\\caraca\\AppData\\Local\\Temp\\1\\ipykernel_36176\\739279451.py:1: SettingWithCopyWarning: \n",
      "A value is trying to be set on a copy of a slice from a DataFrame.\n",
      "Try using .loc[row_indexer,col_indexer] = value instead\n",
      "\n",
      "See the caveats in the documentation: https://pandas.pydata.org/pandas-docs/stable/user_guide/indexing.html#returning-a-view-versus-a-copy\n",
      "  data_usgs_GL['ActivityStartDate'] = pd.to_datetime(data_usgs_GL['ActivityStartDate'])\n",
      "C:\\Users\\caraca\\AppData\\Local\\Temp\\1\\ipykernel_36176\\739279451.py:2: SettingWithCopyWarning: \n",
      "A value is trying to be set on a copy of a slice from a DataFrame.\n",
      "Try using .loc[row_indexer,col_indexer] = value instead\n",
      "\n",
      "See the caveats in the documentation: https://pandas.pydata.org/pandas-docs/stable/user_guide/indexing.html#returning-a-view-versus-a-copy\n",
      "  data_usgs_GL['ActivityYear'] = data_usgs_GL['ActivityStartDate'].dt.year\n"
     ]
    }
   ],
   "source": [
    "data_usgs_GL['ActivityStartDate'] = pd.to_datetime(data_usgs_GL['ActivityStartDate'])\n",
    "data_usgs_GL['ActivityYear'] = data_usgs_GL['ActivityStartDate'].dt.year"
   ],
   "metadata": {
    "collapsed": false
   }
  },
  {
   "cell_type": "code",
   "execution_count": 26,
   "outputs": [
    {
     "name": "stderr",
     "output_type": "stream",
     "text": [
      "C:\\Users\\caraca\\AppData\\Local\\Temp\\1\\ipykernel_36176\\1227607867.py:1: SettingWithCopyWarning: \n",
      "A value is trying to be set on a copy of a slice from a DataFrame.\n",
      "Try using .loc[row_indexer,col_indexer] = value instead\n",
      "\n",
      "See the caveats in the documentation: https://pandas.pydata.org/pandas-docs/stable/user_guide/indexing.html#returning-a-view-versus-a-copy\n",
      "  data_usgs_GL['CNTY_FIPS'] = data_usgs_GL['CNTY_FIPS'].astype('float64')\n",
      "C:\\Users\\caraca\\AppData\\Local\\Temp\\1\\ipykernel_36176\\1227607867.py:2: SettingWithCopyWarning: \n",
      "A value is trying to be set on a copy of a slice from a DataFrame.\n",
      "Try using .loc[row_indexer,col_indexer] = value instead\n",
      "\n",
      "See the caveats in the documentation: https://pandas.pydata.org/pandas-docs/stable/user_guide/indexing.html#returning-a-view-versus-a-copy\n",
      "  data_usgs_GL['STATE_FIPS'] = data_usgs_GL['STATE_FIPS'].astype('float64')\n"
     ]
    }
   ],
   "source": [
    "data_usgs_GL['CNTY_FIPS'] = data_usgs_GL['CNTY_FIPS'].astype('float64')\n",
    "data_usgs_GL['STATE_FIPS'] = data_usgs_GL['STATE_FIPS'].astype('float64')"
   ],
   "metadata": {
    "collapsed": false
   }
  },
  {
   "cell_type": "code",
   "execution_count": 27,
   "outputs": [
    {
     "data": {
      "text/plain": "455550"
     },
     "execution_count": 27,
     "metadata": {},
     "output_type": "execute_result"
    }
   ],
   "source": [
    "len(data_usgs_GL) #455550\n",
    "# data_usgs_GL.to_csv('data_usgs_counties_GL0406.csv')"
   ],
   "metadata": {
    "collapsed": false
   }
  },
  {
   "cell_type": "code",
   "execution_count": 28,
   "outputs": [
    {
     "data": {
      "text/plain": "        OrganizationIdentifier ActivityMediaSubdivisionName ActivityStartDate  \\\n2                        MNPCA                Surface Water        2010-09-01   \n5                        MNPCA                Surface Water        2010-06-24   \n8                        MNPCA                Surface Water        2010-08-16   \n14                       MNPCA                Surface Water        2010-09-07   \n17                       MNPCA                Surface Water        2010-07-27   \n...                        ...                          ...               ...   \n1304376              WIDNR_WQX                          NaN        2024-01-09   \n1304378           HO_CHUNK_WQX                          NaN        2024-01-04   \n1304386              WIDNR_WQX                          NaN        2024-01-12   \n1304389              WIDNR_WQX                          NaN        2024-01-29   \n1304422              WIDNR_WQX                          NaN        2024-01-29   \n\n         ResultMeasureValue ResultMeasure/MeasureUnitCode  \\\n2                    0.0610                          mg/L   \n5                    0.4540                          mg/L   \n8                    0.0140                          mg/L   \n14                   0.3670                          mg/L   \n17                   0.0190                          mg/L   \n...                     ...                           ...   \n1304376              0.0213                          mg/L   \n1304378              0.0340                          mg/L   \n1304386              0.0409                          mg/L   \n1304389              0.0226                          mg/L   \n1304422              0.1200                          mg/L   \n\n         ActivityLocation/LatitudeMeasure  ActivityLocation/LongitudeMeasure  \\\n2                               44.926900                         -93.362400   \n5                               43.513917                         -93.268611   \n8                               46.931197                         -94.772603   \n14                              43.590170                         -94.681010   \n17                              45.705203                         -94.747231   \n...                                   ...                                ...   \n1304376                         45.371741                         -91.208534   \n1304378                         44.037100                         -89.722700   \n1304386                         43.650870                         -89.612390   \n1304389                         43.953910                         -88.952560   \n1304422                         42.510227                         -89.801150   \n\n        HydrologicEvent  position                    geometry  ...     SQMI  \\\n2                   NaN    375302  POINT (-93.36240 44.92690)  ...   606.79   \n5                   NaN    375305  POINT (-93.26861 43.51392)  ...   722.42   \n8                   NaN    375308  POINT (-94.77260 46.93120)  ...   999.49   \n14                  NaN    375315  POINT (-94.68101 43.59017)  ...   729.58   \n17                  NaN    375318  POINT (-94.74723 45.70520)  ...  1390.02   \n...                 ...       ...                         ...  ...      ...   \n1304376             NaN   1758434  POINT (-91.20853 45.37174)  ...   930.86   \n1304378             NaN   1758436  POINT (-89.72270 44.03710)  ...   687.48   \n1304386             NaN   1758444  POINT (-89.61239 43.65087)  ...   687.48   \n1304389             NaN   1758447  POINT (-88.95256 43.95391)  ...   380.13   \n1304422             NaN   1758480  POINT (-89.80115 42.51023)  ...   584.55   \n\n        NO_FARMS17 AVE_SIZE17  CROP_ACR17  AVE_SALE17 Shape_Leng  \\\n2            467.0       98.0     36623.0    125418.0   2.043827   \n5           1076.0      366.0    374911.0    338289.0   1.895490   \n8            384.0      246.0     53391.0    115220.0   2.265708   \n14           911.0      493.0    434319.0    697611.0   1.909775   \n17          2951.0      221.0    515928.0    253466.0   3.195917   \n...            ...        ...         ...         ...        ...   \n1304376      501.0      272.0     70661.0    107354.0   2.417757   \n1304378      308.0      381.0     84544.0    425646.0   2.125677   \n1304386      308.0      381.0     84544.0    425646.0   2.125677   \n1304389      502.0      252.0     99674.0    180513.0   1.497150   \n1304422     1428.0      205.0    239493.0    154796.0   1.649837   \n\n          SHAPE_Length  SHAPE_Area                  CountyState  ActivityYear  \n2        269395.417723    0.179370    Hennepin County-Minnesota          2010  \n5        240696.187148    0.208823    Freeborn County-Minnesota          2010  \n8        315677.698853    0.306781     Hubbard County-Minnesota          2010  \n14       242215.618493    0.210894      Martin County-Minnesota          2010  \n17       401039.073367    0.414828     Stearns County-Minnesota          2010  \n...                ...         ...                          ...           ...  \n1304376  302007.435056    0.277423        Rusk County-Wisconsin          2024  \n1304378  286964.278008    0.199696       Adams County-Wisconsin          2024  \n1304386  286964.278008    0.199696       Adams County-Wisconsin          2024  \n1304389  197190.068599    0.110108  Green Lake County-Wisconsin          2024  \n1304422  212085.955420    0.166281       Green County-Wisconsin          2024  \n\n[455550 rows x 73 columns]",
      "text/html": "<div>\n<style scoped>\n    .dataframe tbody tr th:only-of-type {\n        vertical-align: middle;\n    }\n\n    .dataframe tbody tr th {\n        vertical-align: top;\n    }\n\n    .dataframe thead th {\n        text-align: right;\n    }\n</style>\n<table border=\"1\" class=\"dataframe\">\n  <thead>\n    <tr style=\"text-align: right;\">\n      <th></th>\n      <th>OrganizationIdentifier</th>\n      <th>ActivityMediaSubdivisionName</th>\n      <th>ActivityStartDate</th>\n      <th>ResultMeasureValue</th>\n      <th>ResultMeasure/MeasureUnitCode</th>\n      <th>ActivityLocation/LatitudeMeasure</th>\n      <th>ActivityLocation/LongitudeMeasure</th>\n      <th>HydrologicEvent</th>\n      <th>position</th>\n      <th>geometry</th>\n      <th>...</th>\n      <th>SQMI</th>\n      <th>NO_FARMS17</th>\n      <th>AVE_SIZE17</th>\n      <th>CROP_ACR17</th>\n      <th>AVE_SALE17</th>\n      <th>Shape_Leng</th>\n      <th>SHAPE_Length</th>\n      <th>SHAPE_Area</th>\n      <th>CountyState</th>\n      <th>ActivityYear</th>\n    </tr>\n  </thead>\n  <tbody>\n    <tr>\n      <th>2</th>\n      <td>MNPCA</td>\n      <td>Surface Water</td>\n      <td>2010-09-01</td>\n      <td>0.0610</td>\n      <td>mg/L</td>\n      <td>44.926900</td>\n      <td>-93.362400</td>\n      <td>NaN</td>\n      <td>375302</td>\n      <td>POINT (-93.36240 44.92690)</td>\n      <td>...</td>\n      <td>606.79</td>\n      <td>467.0</td>\n      <td>98.0</td>\n      <td>36623.0</td>\n      <td>125418.0</td>\n      <td>2.043827</td>\n      <td>269395.417723</td>\n      <td>0.179370</td>\n      <td>Hennepin County-Minnesota</td>\n      <td>2010</td>\n    </tr>\n    <tr>\n      <th>5</th>\n      <td>MNPCA</td>\n      <td>Surface Water</td>\n      <td>2010-06-24</td>\n      <td>0.4540</td>\n      <td>mg/L</td>\n      <td>43.513917</td>\n      <td>-93.268611</td>\n      <td>NaN</td>\n      <td>375305</td>\n      <td>POINT (-93.26861 43.51392)</td>\n      <td>...</td>\n      <td>722.42</td>\n      <td>1076.0</td>\n      <td>366.0</td>\n      <td>374911.0</td>\n      <td>338289.0</td>\n      <td>1.895490</td>\n      <td>240696.187148</td>\n      <td>0.208823</td>\n      <td>Freeborn County-Minnesota</td>\n      <td>2010</td>\n    </tr>\n    <tr>\n      <th>8</th>\n      <td>MNPCA</td>\n      <td>Surface Water</td>\n      <td>2010-08-16</td>\n      <td>0.0140</td>\n      <td>mg/L</td>\n      <td>46.931197</td>\n      <td>-94.772603</td>\n      <td>NaN</td>\n      <td>375308</td>\n      <td>POINT (-94.77260 46.93120)</td>\n      <td>...</td>\n      <td>999.49</td>\n      <td>384.0</td>\n      <td>246.0</td>\n      <td>53391.0</td>\n      <td>115220.0</td>\n      <td>2.265708</td>\n      <td>315677.698853</td>\n      <td>0.306781</td>\n      <td>Hubbard County-Minnesota</td>\n      <td>2010</td>\n    </tr>\n    <tr>\n      <th>14</th>\n      <td>MNPCA</td>\n      <td>Surface Water</td>\n      <td>2010-09-07</td>\n      <td>0.3670</td>\n      <td>mg/L</td>\n      <td>43.590170</td>\n      <td>-94.681010</td>\n      <td>NaN</td>\n      <td>375315</td>\n      <td>POINT (-94.68101 43.59017)</td>\n      <td>...</td>\n      <td>729.58</td>\n      <td>911.0</td>\n      <td>493.0</td>\n      <td>434319.0</td>\n      <td>697611.0</td>\n      <td>1.909775</td>\n      <td>242215.618493</td>\n      <td>0.210894</td>\n      <td>Martin County-Minnesota</td>\n      <td>2010</td>\n    </tr>\n    <tr>\n      <th>17</th>\n      <td>MNPCA</td>\n      <td>Surface Water</td>\n      <td>2010-07-27</td>\n      <td>0.0190</td>\n      <td>mg/L</td>\n      <td>45.705203</td>\n      <td>-94.747231</td>\n      <td>NaN</td>\n      <td>375318</td>\n      <td>POINT (-94.74723 45.70520)</td>\n      <td>...</td>\n      <td>1390.02</td>\n      <td>2951.0</td>\n      <td>221.0</td>\n      <td>515928.0</td>\n      <td>253466.0</td>\n      <td>3.195917</td>\n      <td>401039.073367</td>\n      <td>0.414828</td>\n      <td>Stearns County-Minnesota</td>\n      <td>2010</td>\n    </tr>\n    <tr>\n      <th>...</th>\n      <td>...</td>\n      <td>...</td>\n      <td>...</td>\n      <td>...</td>\n      <td>...</td>\n      <td>...</td>\n      <td>...</td>\n      <td>...</td>\n      <td>...</td>\n      <td>...</td>\n      <td>...</td>\n      <td>...</td>\n      <td>...</td>\n      <td>...</td>\n      <td>...</td>\n      <td>...</td>\n      <td>...</td>\n      <td>...</td>\n      <td>...</td>\n      <td>...</td>\n      <td>...</td>\n    </tr>\n    <tr>\n      <th>1304376</th>\n      <td>WIDNR_WQX</td>\n      <td>NaN</td>\n      <td>2024-01-09</td>\n      <td>0.0213</td>\n      <td>mg/L</td>\n      <td>45.371741</td>\n      <td>-91.208534</td>\n      <td>NaN</td>\n      <td>1758434</td>\n      <td>POINT (-91.20853 45.37174)</td>\n      <td>...</td>\n      <td>930.86</td>\n      <td>501.0</td>\n      <td>272.0</td>\n      <td>70661.0</td>\n      <td>107354.0</td>\n      <td>2.417757</td>\n      <td>302007.435056</td>\n      <td>0.277423</td>\n      <td>Rusk County-Wisconsin</td>\n      <td>2024</td>\n    </tr>\n    <tr>\n      <th>1304378</th>\n      <td>HO_CHUNK_WQX</td>\n      <td>NaN</td>\n      <td>2024-01-04</td>\n      <td>0.0340</td>\n      <td>mg/L</td>\n      <td>44.037100</td>\n      <td>-89.722700</td>\n      <td>NaN</td>\n      <td>1758436</td>\n      <td>POINT (-89.72270 44.03710)</td>\n      <td>...</td>\n      <td>687.48</td>\n      <td>308.0</td>\n      <td>381.0</td>\n      <td>84544.0</td>\n      <td>425646.0</td>\n      <td>2.125677</td>\n      <td>286964.278008</td>\n      <td>0.199696</td>\n      <td>Adams County-Wisconsin</td>\n      <td>2024</td>\n    </tr>\n    <tr>\n      <th>1304386</th>\n      <td>WIDNR_WQX</td>\n      <td>NaN</td>\n      <td>2024-01-12</td>\n      <td>0.0409</td>\n      <td>mg/L</td>\n      <td>43.650870</td>\n      <td>-89.612390</td>\n      <td>NaN</td>\n      <td>1758444</td>\n      <td>POINT (-89.61239 43.65087)</td>\n      <td>...</td>\n      <td>687.48</td>\n      <td>308.0</td>\n      <td>381.0</td>\n      <td>84544.0</td>\n      <td>425646.0</td>\n      <td>2.125677</td>\n      <td>286964.278008</td>\n      <td>0.199696</td>\n      <td>Adams County-Wisconsin</td>\n      <td>2024</td>\n    </tr>\n    <tr>\n      <th>1304389</th>\n      <td>WIDNR_WQX</td>\n      <td>NaN</td>\n      <td>2024-01-29</td>\n      <td>0.0226</td>\n      <td>mg/L</td>\n      <td>43.953910</td>\n      <td>-88.952560</td>\n      <td>NaN</td>\n      <td>1758447</td>\n      <td>POINT (-88.95256 43.95391)</td>\n      <td>...</td>\n      <td>380.13</td>\n      <td>502.0</td>\n      <td>252.0</td>\n      <td>99674.0</td>\n      <td>180513.0</td>\n      <td>1.497150</td>\n      <td>197190.068599</td>\n      <td>0.110108</td>\n      <td>Green Lake County-Wisconsin</td>\n      <td>2024</td>\n    </tr>\n    <tr>\n      <th>1304422</th>\n      <td>WIDNR_WQX</td>\n      <td>NaN</td>\n      <td>2024-01-29</td>\n      <td>0.1200</td>\n      <td>mg/L</td>\n      <td>42.510227</td>\n      <td>-89.801150</td>\n      <td>NaN</td>\n      <td>1758480</td>\n      <td>POINT (-89.80115 42.51023)</td>\n      <td>...</td>\n      <td>584.55</td>\n      <td>1428.0</td>\n      <td>205.0</td>\n      <td>239493.0</td>\n      <td>154796.0</td>\n      <td>1.649837</td>\n      <td>212085.955420</td>\n      <td>0.166281</td>\n      <td>Green County-Wisconsin</td>\n      <td>2024</td>\n    </tr>\n  </tbody>\n</table>\n<p>455550 rows × 73 columns</p>\n</div>"
     },
     "execution_count": 28,
     "metadata": {},
     "output_type": "execute_result"
    }
   ],
   "source": [
    "data_usgs_GL"
   ],
   "metadata": {
    "collapsed": false
   }
  },
  {
   "cell_type": "markdown",
   "source": [
    "# Analysis on dataset"
   ],
   "metadata": {
    "collapsed": false
   }
  },
  {
   "cell_type": "code",
   "execution_count": 29,
   "outputs": [],
   "source": [
    "stats_by_state = data_usgs_GL.groupby('STATE_NAME')['ResultMeasureValue'].agg(['count','mean', 'median', 'std', 'var', 'min', 'max'])"
   ],
   "metadata": {
    "collapsed": false
   }
  },
  {
   "cell_type": "markdown",
   "source": [
    "# Gini data, filtering on 2017"
   ],
   "metadata": {
    "collapsed": false
   }
  },
  {
   "cell_type": "code",
   "execution_count": 71,
   "outputs": [],
   "source": [
    "gini = pd.read_csv('data/giniusgs_fips.csv')\n",
    "gini['fips'] = gini['fips'].astype(str)"
   ],
   "metadata": {
    "collapsed": false
   }
  },
  {
   "cell_type": "code",
   "execution_count": 61,
   "outputs": [
    {
     "data": {
      "text/plain": "        state_fips  county_fips  year  poverty_count_in_last12month  \\\n0              NaN          NaN  2010                           NaN   \n1              NaN          NaN  2010                           NaN   \n2              NaN          NaN  2010                           NaN   \n3              NaN          NaN  2010                           NaN   \n4              NaN          NaN  2010                           NaN   \n...            ...          ...   ...                           ...   \n455561         NaN          NaN  2024                           NaN   \n455562         NaN          NaN  2024                           NaN   \n455563         NaN          NaN  2024                           NaN   \n455564         NaN          NaN  2024                           NaN   \n455565         NaN          NaN  2024                           NaN   \n\n        gini_index fips  \n0              NaN  nan  \n1              NaN  nan  \n2              NaN  nan  \n3              NaN  nan  \n4              NaN  nan  \n...            ...  ...  \n455561         NaN  nan  \n455562         NaN  nan  \n455563         NaN  nan  \n455564         NaN  nan  \n455565         NaN  nan  \n\n[455566 rows x 6 columns]",
      "text/html": "<div>\n<style scoped>\n    .dataframe tbody tr th:only-of-type {\n        vertical-align: middle;\n    }\n\n    .dataframe tbody tr th {\n        vertical-align: top;\n    }\n\n    .dataframe thead th {\n        text-align: right;\n    }\n</style>\n<table border=\"1\" class=\"dataframe\">\n  <thead>\n    <tr style=\"text-align: right;\">\n      <th></th>\n      <th>state_fips</th>\n      <th>county_fips</th>\n      <th>year</th>\n      <th>poverty_count_in_last12month</th>\n      <th>gini_index</th>\n      <th>fips</th>\n    </tr>\n  </thead>\n  <tbody>\n    <tr>\n      <th>0</th>\n      <td>NaN</td>\n      <td>NaN</td>\n      <td>2010</td>\n      <td>NaN</td>\n      <td>NaN</td>\n      <td>nan</td>\n    </tr>\n    <tr>\n      <th>1</th>\n      <td>NaN</td>\n      <td>NaN</td>\n      <td>2010</td>\n      <td>NaN</td>\n      <td>NaN</td>\n      <td>nan</td>\n    </tr>\n    <tr>\n      <th>2</th>\n      <td>NaN</td>\n      <td>NaN</td>\n      <td>2010</td>\n      <td>NaN</td>\n      <td>NaN</td>\n      <td>nan</td>\n    </tr>\n    <tr>\n      <th>3</th>\n      <td>NaN</td>\n      <td>NaN</td>\n      <td>2010</td>\n      <td>NaN</td>\n      <td>NaN</td>\n      <td>nan</td>\n    </tr>\n    <tr>\n      <th>4</th>\n      <td>NaN</td>\n      <td>NaN</td>\n      <td>2010</td>\n      <td>NaN</td>\n      <td>NaN</td>\n      <td>nan</td>\n    </tr>\n    <tr>\n      <th>...</th>\n      <td>...</td>\n      <td>...</td>\n      <td>...</td>\n      <td>...</td>\n      <td>...</td>\n      <td>...</td>\n    </tr>\n    <tr>\n      <th>455561</th>\n      <td>NaN</td>\n      <td>NaN</td>\n      <td>2024</td>\n      <td>NaN</td>\n      <td>NaN</td>\n      <td>nan</td>\n    </tr>\n    <tr>\n      <th>455562</th>\n      <td>NaN</td>\n      <td>NaN</td>\n      <td>2024</td>\n      <td>NaN</td>\n      <td>NaN</td>\n      <td>nan</td>\n    </tr>\n    <tr>\n      <th>455563</th>\n      <td>NaN</td>\n      <td>NaN</td>\n      <td>2024</td>\n      <td>NaN</td>\n      <td>NaN</td>\n      <td>nan</td>\n    </tr>\n    <tr>\n      <th>455564</th>\n      <td>NaN</td>\n      <td>NaN</td>\n      <td>2024</td>\n      <td>NaN</td>\n      <td>NaN</td>\n      <td>nan</td>\n    </tr>\n    <tr>\n      <th>455565</th>\n      <td>NaN</td>\n      <td>NaN</td>\n      <td>2024</td>\n      <td>NaN</td>\n      <td>NaN</td>\n      <td>nan</td>\n    </tr>\n  </tbody>\n</table>\n<p>455566 rows × 6 columns</p>\n</div>"
     },
     "execution_count": 61,
     "metadata": {},
     "output_type": "execute_result"
    }
   ],
   "source": [
    "gini"
   ],
   "metadata": {
    "collapsed": false
   }
  },
  {
   "cell_type": "code",
   "execution_count": 72,
   "outputs": [],
   "source": [
    "gini_2017 = gini.drop_duplicates()\n",
    "gini_2017 = gini_2017[gini_2017['year'] == 2017]"
   ],
   "metadata": {
    "collapsed": false
   }
  },
  {
   "cell_type": "code",
   "execution_count": 75,
   "outputs": [],
   "source": [
    "gini_2017['fips'] = gini_2017['fips'].astype(float)\n",
    "gini_2017['fips'] = gini_2017['fips'].astype(int)\n",
    "gini_2017['fips'] = gini_2017['fips'].astype(str)"
   ],
   "metadata": {
    "collapsed": false
   }
  },
  {
   "cell_type": "code",
   "execution_count": 76,
   "outputs": [
    {
     "data": {
      "text/plain": "state_fips                      float64\ncounty_fips                     float64\nyear                              int64\npoverty_count_in_last12month    float64\ngini_index                      float64\nfips                             object\ndtype: object"
     },
     "execution_count": 76,
     "metadata": {},
     "output_type": "execute_result"
    }
   ],
   "source": [
    "gini_2017.dtypes"
   ],
   "metadata": {
    "collapsed": false
   }
  },
  {
   "cell_type": "code",
   "execution_count": 77,
   "outputs": [
    {
     "data": {
      "text/plain": "        state_fips  county_fips  year  poverty_count_in_last12month  \\\n270219        42.0         79.0  2017                       46537.0   \n270220        27.0         21.0  2017                        4339.0   \n270221        17.0         59.0  2017                         862.0   \n270222        27.0        117.0  2017                        1069.0   \n270223        27.0          7.0  2017                        8203.0   \n...            ...          ...   ...                           ...   \n288609        26.0        123.0  2017                        8405.0   \n288617        26.0        125.0  2017                      111071.0   \n292567        36.0         15.0  2017                       12934.0   \n298062        36.0         23.0  2017                        6573.0   \n298439        36.0         71.0  2017                       45108.0   \n\n        gini_index   fips  \n270219      0.4474  42079  \n270220      0.4295  27021  \n270221      0.4362  17059  \n270222      0.4723  27117  \n270223      0.4463  27007  \n...            ...    ...  \n288609      0.4335  26123  \n288617      0.4681  26125  \n292567      0.4500  36015  \n298062      0.4334  36023  \n298439      0.4375  36071  \n\n[330 rows x 6 columns]",
      "text/html": "<div>\n<style scoped>\n    .dataframe tbody tr th:only-of-type {\n        vertical-align: middle;\n    }\n\n    .dataframe tbody tr th {\n        vertical-align: top;\n    }\n\n    .dataframe thead th {\n        text-align: right;\n    }\n</style>\n<table border=\"1\" class=\"dataframe\">\n  <thead>\n    <tr style=\"text-align: right;\">\n      <th></th>\n      <th>state_fips</th>\n      <th>county_fips</th>\n      <th>year</th>\n      <th>poverty_count_in_last12month</th>\n      <th>gini_index</th>\n      <th>fips</th>\n    </tr>\n  </thead>\n  <tbody>\n    <tr>\n      <th>270219</th>\n      <td>42.0</td>\n      <td>79.0</td>\n      <td>2017</td>\n      <td>46537.0</td>\n      <td>0.4474</td>\n      <td>42079</td>\n    </tr>\n    <tr>\n      <th>270220</th>\n      <td>27.0</td>\n      <td>21.0</td>\n      <td>2017</td>\n      <td>4339.0</td>\n      <td>0.4295</td>\n      <td>27021</td>\n    </tr>\n    <tr>\n      <th>270221</th>\n      <td>17.0</td>\n      <td>59.0</td>\n      <td>2017</td>\n      <td>862.0</td>\n      <td>0.4362</td>\n      <td>17059</td>\n    </tr>\n    <tr>\n      <th>270222</th>\n      <td>27.0</td>\n      <td>117.0</td>\n      <td>2017</td>\n      <td>1069.0</td>\n      <td>0.4723</td>\n      <td>27117</td>\n    </tr>\n    <tr>\n      <th>270223</th>\n      <td>27.0</td>\n      <td>7.0</td>\n      <td>2017</td>\n      <td>8203.0</td>\n      <td>0.4463</td>\n      <td>27007</td>\n    </tr>\n    <tr>\n      <th>...</th>\n      <td>...</td>\n      <td>...</td>\n      <td>...</td>\n      <td>...</td>\n      <td>...</td>\n      <td>...</td>\n    </tr>\n    <tr>\n      <th>288609</th>\n      <td>26.0</td>\n      <td>123.0</td>\n      <td>2017</td>\n      <td>8405.0</td>\n      <td>0.4335</td>\n      <td>26123</td>\n    </tr>\n    <tr>\n      <th>288617</th>\n      <td>26.0</td>\n      <td>125.0</td>\n      <td>2017</td>\n      <td>111071.0</td>\n      <td>0.4681</td>\n      <td>26125</td>\n    </tr>\n    <tr>\n      <th>292567</th>\n      <td>36.0</td>\n      <td>15.0</td>\n      <td>2017</td>\n      <td>12934.0</td>\n      <td>0.4500</td>\n      <td>36015</td>\n    </tr>\n    <tr>\n      <th>298062</th>\n      <td>36.0</td>\n      <td>23.0</td>\n      <td>2017</td>\n      <td>6573.0</td>\n      <td>0.4334</td>\n      <td>36023</td>\n    </tr>\n    <tr>\n      <th>298439</th>\n      <td>36.0</td>\n      <td>71.0</td>\n      <td>2017</td>\n      <td>45108.0</td>\n      <td>0.4375</td>\n      <td>36071</td>\n    </tr>\n  </tbody>\n</table>\n<p>330 rows × 6 columns</p>\n</div>"
     },
     "execution_count": 77,
     "metadata": {},
     "output_type": "execute_result"
    }
   ],
   "source": [
    "gini_2017"
   ],
   "metadata": {
    "collapsed": false
   }
  },
  {
   "cell_type": "markdown",
   "source": [
    "# Dealing with funding data, filtering\n",
    "https://www.usaspending.gov/search/"
   ],
   "metadata": {
    "collapsed": false
   }
  },
  {
   "cell_type": "code",
   "execution_count": 97,
   "outputs": [],
   "source": [
    "data2 = pd.read_csv('funding_awards_payments.csv',low_memory=False)\n",
    "data2['prime_award_summary_recipient_county_fips_code'] = data2['prime_award_summary_recipient_county_fips_code'].astype(str)"
   ],
   "metadata": {
    "collapsed": false
   }
  },
  {
   "cell_type": "code",
   "execution_count": 98,
   "outputs": [],
   "source": [
    "#filtering data to only include EPA and DoA\n",
    "# agency_list = [12,68]\n",
    "agency_list = [68]\n",
    "data2 = data2[data2['awarding_agency_code'].isin(agency_list)]"
   ],
   "metadata": {
    "collapsed": false
   }
  },
  {
   "cell_type": "code",
   "execution_count": 99,
   "outputs": [
    {
     "data": {
      "text/plain": "1073"
     },
     "execution_count": 99,
     "metadata": {},
     "output_type": "execute_result"
    }
   ],
   "source": [
    "funding = data2[['award_base_action_date_fiscal_year','awarding_agency_name','awarding_agency_code','total_funding_amount', 'prime_award_summary_place_of_performance_state_fips_code','prime_award_summary_recipient_county_fips_code','primary_place_of_performance_scope']].copy()\n",
    "len(funding) #2014"
   ],
   "metadata": {
    "collapsed": false
   }
  },
  {
   "cell_type": "code",
   "execution_count": 100,
   "outputs": [],
   "source": [
    "funding['county_funding'] = 0\n",
    "funding['state_funding'] = 0\n"
   ],
   "metadata": {
    "collapsed": false
   }
  },
  {
   "cell_type": "code",
   "execution_count": 101,
   "outputs": [],
   "source": [
    "# if the data indicates that it is county level funding, then assign that amount to a new column called \"county funding\"\n",
    "\n",
    "# funding_ny['county_funding'] = funding_ny.loc[funding_ny['primary_place_of_performance_scope'].str.contains('county',case=False, na=False),'total_funding_amount']\n",
    "# df.loc[df['ColumnA'].notna() & (df['ColumnA'] != ''), 'ColumnC'] = df['ColumnB']\n",
    "funding.loc[funding['prime_award_summary_recipient_county_fips_code'].notna() & (funding['prime_award_summary_recipient_county_fips_code'] != ''),'county_funding'] = funding['total_funding_amount']"
   ],
   "metadata": {
    "collapsed": false
   }
  },
  {
   "cell_type": "code",
   "execution_count": 102,
   "outputs": [],
   "source": [
    "# if the data indicates that it is state/multi-state level funding, then assign that amount to a new column called \"state_funding\"\n",
    "funding['state_funding'] = funding.loc[funding['prime_award_summary_recipient_county_fips_code'].isna() | (funding['prime_award_summary_recipient_county_fips_code'] == ''), 'total_funding_amount']"
   ],
   "metadata": {
    "collapsed": false
   }
  },
  {
   "cell_type": "code",
   "execution_count": 103,
   "outputs": [],
   "source": [
    "# adding up state and local funding\n",
    "funding[['county_funding', 'state_funding']] = funding[['county_funding', 'state_funding']].fillna(0)\n",
    "funding['total_county_state'] = funding['county_funding']+funding['state_funding']\n"
   ],
   "metadata": {
    "collapsed": false
   }
  },
  {
   "cell_type": "code",
   "execution_count": 104,
   "outputs": [],
   "source": [
    "funding_condensed = funding[['award_base_action_date_fiscal_year','prime_award_summary_recipient_county_fips_code','county_funding','state_funding','total_county_state']]"
   ],
   "metadata": {
    "collapsed": false
   }
  },
  {
   "cell_type": "code",
   "execution_count": 105,
   "outputs": [],
   "source": [
    "# grouping by fips code per state\n",
    "funding_grouped = funding_condensed.groupby(['award_base_action_date_fiscal_year','prime_award_summary_recipient_county_fips_code']).sum().reset_index()"
   ],
   "metadata": {
    "collapsed": false
   }
  },
  {
   "cell_type": "code",
   "execution_count": 42,
   "outputs": [
    {
     "data": {
      "text/plain": "award_base_action_date_fiscal_year                  int64\nprime_award_summary_recipient_county_fips_code     object\ncounty_funding                                    float64\nstate_funding                                     float64\ntotal_county_state                                float64\ndtype: object"
     },
     "execution_count": 42,
     "metadata": {},
     "output_type": "execute_result"
    }
   ],
   "source": [
    "funding_grouped.dtypes"
   ],
   "metadata": {
    "collapsed": false
   }
  },
  {
   "cell_type": "code",
   "execution_count": 43,
   "outputs": [
    {
     "data": {
      "text/plain": "0"
     },
     "execution_count": 43,
     "metadata": {},
     "output_type": "execute_result"
    }
   ],
   "source": [
    "funding_grouped['state_funding'].isna().sum()"
   ],
   "metadata": {
    "collapsed": false
   }
  },
  {
   "cell_type": "markdown",
   "source": [
    "# Filtering the data for certain year only, only certain awarding organizations"
   ],
   "metadata": {
    "collapsed": false
   }
  },
  {
   "cell_type": "code",
   "execution_count": 179,
   "outputs": [],
   "source": [
    "#filtering the data to include only the year 2017\n",
    "\n",
    "data_usgs_GL_2017 = data_usgs_GL[data_usgs_GL['ActivityYear'] == 2017]\n",
    "funding_2017 = funding_grouped[funding_grouped['award_base_action_date_fiscal_year'] == 2017]"
   ],
   "metadata": {
    "collapsed": false
   }
  },
  {
   "cell_type": "markdown",
   "source": [
    "# Joining funding data, gini data, usgsGL data"
   ],
   "metadata": {
    "collapsed": false
   }
  },
  {
   "cell_type": "code",
   "execution_count": 180,
   "outputs": [],
   "source": [
    "usgsginiGL = pd.merge(data_usgs_GL_2017,gini_2017, left_on=['FIPS'], right_on=['fips'], how='left')"
   ],
   "metadata": {
    "collapsed": false
   }
  },
  {
   "cell_type": "code",
   "execution_count": 79,
   "outputs": [
    {
     "data": {
      "text/plain": "31297"
     },
     "execution_count": 79,
     "metadata": {},
     "output_type": "execute_result"
    }
   ],
   "source": [
    "len(usgsginiGL)"
   ],
   "metadata": {
    "collapsed": false
   }
  },
  {
   "cell_type": "code",
   "execution_count": 91,
   "outputs": [
    {
     "data": {
      "text/plain": "      OrganizationIdentifier ActivityMediaSubdivisionName ActivityStartDate  \\\n0                 IL_EPA_WQX                          NaN        2019-10-16   \n1                      MNPCA                Surface Water        2019-09-23   \n2                      MNPCA                Surface Water        2019-07-01   \n3                   21PA_WQX                          NaN        2019-03-20   \n4                      MNPCA                Surface Water        2019-06-27   \n...                      ...                          ...               ...   \n33215                  MNPCA                Surface Water        2019-07-29   \n33216               21PA_WQX                          NaN        2019-11-05   \n33217             IL_EPA_WQX                          NaN        2019-05-13   \n33218           LEECHLAK_WQX                          NaN        2019-08-05   \n33219           LEECHLAK_WQX                          NaN        2019-05-30   \n\n       ResultMeasureValue ResultMeasure/MeasureUnitCode  \\\n0                   0.076                          mg/L   \n1                   0.019                          mg/L   \n2                   0.255                          mg/L   \n3                   0.006                          mg/L   \n4                   0.540                          mg/L   \n...                   ...                           ...   \n33215               0.015                          mg/L   \n33216               0.056                          mg/L   \n33217               0.072                          mg/L   \n33218               0.017                          mg/L   \n33219               0.011                          mg/L   \n\n       ActivityLocation/LatitudeMeasure  ActivityLocation/LongitudeMeasure  \\\n0                             38.824300                         -89.974400   \n1                             44.941000                         -93.458400   \n2                             44.283728                         -94.076347   \n3                             41.765300                         -76.438600   \n4                             45.100198                         -94.696072   \n...                                 ...                                ...   \n33215                         47.739831                         -90.591149   \n33216                         40.608900                         -78.136100   \n33217                         37.258000                         -89.265000   \n33218                         47.224377                         -94.672623   \n33219                         46.994904                         -94.215596   \n\n      HydrologicEvent  position                    geometry  ...  \\\n0                 NaN   1301017  POINT (-89.97440 38.82430)  ...   \n1                 NaN   1301020  POINT (-93.45840 44.94100)  ...   \n2                 NaN   1301026  POINT (-94.07635 44.28373)  ...   \n3                 NaN   1301029  POINT (-76.43860 41.76530)  ...   \n4                 NaN   1301034  POINT (-94.69607 45.10020)  ...   \n...               ...       ...                         ...  ...   \n33215             NaN   1425527  POINT (-90.59115 47.73983)  ...   \n33216             NaN   1425533  POINT (-78.13610 40.60890)  ...   \n33217             NaN   1425542  POINT (-89.26500 37.25800)  ...   \n33218             NaN   1425543  POINT (-94.67262 47.22438)  ...   \n33219             NaN   1425554  POINT (-94.21560 46.99490)  ...   \n\n        SHAPE_Length SHAPE_Area                     CountyState  ActivityYear  \\\n0      254053.440006   0.198836         Madison County-Illinois          2019   \n1      269395.417723   0.179370       Hennepin County-Minnesota          2019   \n2      345510.686954   0.136498       Nicollet County-Minnesota          2019   \n3      298369.662656   0.325712    Bradford County-Pennsylvania          2019   \n4      250011.106093   0.190942         Meeker County-Minnesota          2019   \n...              ...        ...                             ...           ...   \n33215  636849.612451   0.500323           Cook County-Minnesota          2019   \n33216  359595.585107   0.244386  Huntingdon County-Pennsylvania          2019   \n33217  225132.442225   0.066402       Alexander County-Illinois          2019   \n33218  315677.698853   0.306781        Hubbard County-Minnesota          2019   \n33219  680486.803991   0.738771           Cass County-Minnesota          2019   \n\n       state_fips county_fips    year  poverty_count_in_last12month  \\\n0            17.0       119.0  2017.0                       35099.0   \n1            27.0        53.0  2017.0                      138478.0   \n2            27.0       103.0  2017.0                        3514.0   \n3            42.0        15.0  2017.0                        7430.0   \n4            27.0        93.0  2017.0                        1885.0   \n...           ...         ...     ...                           ...   \n33215        27.0        31.0  2017.0                         679.0   \n33216        42.0        61.0  2017.0                        5517.0   \n33217        17.0         3.0  2017.0                        2212.0   \n33218        27.0        57.0  2017.0                        2216.0   \n33219        27.0        21.0  2017.0                        4339.0   \n\n       gini_index   fips  \n0          0.4452  17119  \n1          0.4853  27053  \n2          0.4146  27103  \n3          0.4348  42015  \n4          0.4136  27093  \n...           ...    ...  \n33215      0.4355  27031  \n33216      0.4079  42061  \n33217      0.4750  17003  \n33218      0.4150  27057  \n33219      0.4295  27021  \n\n[33220 rows x 79 columns]",
      "text/html": "<div>\n<style scoped>\n    .dataframe tbody tr th:only-of-type {\n        vertical-align: middle;\n    }\n\n    .dataframe tbody tr th {\n        vertical-align: top;\n    }\n\n    .dataframe thead th {\n        text-align: right;\n    }\n</style>\n<table border=\"1\" class=\"dataframe\">\n  <thead>\n    <tr style=\"text-align: right;\">\n      <th></th>\n      <th>OrganizationIdentifier</th>\n      <th>ActivityMediaSubdivisionName</th>\n      <th>ActivityStartDate</th>\n      <th>ResultMeasureValue</th>\n      <th>ResultMeasure/MeasureUnitCode</th>\n      <th>ActivityLocation/LatitudeMeasure</th>\n      <th>ActivityLocation/LongitudeMeasure</th>\n      <th>HydrologicEvent</th>\n      <th>position</th>\n      <th>geometry</th>\n      <th>...</th>\n      <th>SHAPE_Length</th>\n      <th>SHAPE_Area</th>\n      <th>CountyState</th>\n      <th>ActivityYear</th>\n      <th>state_fips</th>\n      <th>county_fips</th>\n      <th>year</th>\n      <th>poverty_count_in_last12month</th>\n      <th>gini_index</th>\n      <th>fips</th>\n    </tr>\n  </thead>\n  <tbody>\n    <tr>\n      <th>0</th>\n      <td>IL_EPA_WQX</td>\n      <td>NaN</td>\n      <td>2019-10-16</td>\n      <td>0.076</td>\n      <td>mg/L</td>\n      <td>38.824300</td>\n      <td>-89.974400</td>\n      <td>NaN</td>\n      <td>1301017</td>\n      <td>POINT (-89.97440 38.82430)</td>\n      <td>...</td>\n      <td>254053.440006</td>\n      <td>0.198836</td>\n      <td>Madison County-Illinois</td>\n      <td>2019</td>\n      <td>17.0</td>\n      <td>119.0</td>\n      <td>2017.0</td>\n      <td>35099.0</td>\n      <td>0.4452</td>\n      <td>17119</td>\n    </tr>\n    <tr>\n      <th>1</th>\n      <td>MNPCA</td>\n      <td>Surface Water</td>\n      <td>2019-09-23</td>\n      <td>0.019</td>\n      <td>mg/L</td>\n      <td>44.941000</td>\n      <td>-93.458400</td>\n      <td>NaN</td>\n      <td>1301020</td>\n      <td>POINT (-93.45840 44.94100)</td>\n      <td>...</td>\n      <td>269395.417723</td>\n      <td>0.179370</td>\n      <td>Hennepin County-Minnesota</td>\n      <td>2019</td>\n      <td>27.0</td>\n      <td>53.0</td>\n      <td>2017.0</td>\n      <td>138478.0</td>\n      <td>0.4853</td>\n      <td>27053</td>\n    </tr>\n    <tr>\n      <th>2</th>\n      <td>MNPCA</td>\n      <td>Surface Water</td>\n      <td>2019-07-01</td>\n      <td>0.255</td>\n      <td>mg/L</td>\n      <td>44.283728</td>\n      <td>-94.076347</td>\n      <td>NaN</td>\n      <td>1301026</td>\n      <td>POINT (-94.07635 44.28373)</td>\n      <td>...</td>\n      <td>345510.686954</td>\n      <td>0.136498</td>\n      <td>Nicollet County-Minnesota</td>\n      <td>2019</td>\n      <td>27.0</td>\n      <td>103.0</td>\n      <td>2017.0</td>\n      <td>3514.0</td>\n      <td>0.4146</td>\n      <td>27103</td>\n    </tr>\n    <tr>\n      <th>3</th>\n      <td>21PA_WQX</td>\n      <td>NaN</td>\n      <td>2019-03-20</td>\n      <td>0.006</td>\n      <td>mg/L</td>\n      <td>41.765300</td>\n      <td>-76.438600</td>\n      <td>NaN</td>\n      <td>1301029</td>\n      <td>POINT (-76.43860 41.76530)</td>\n      <td>...</td>\n      <td>298369.662656</td>\n      <td>0.325712</td>\n      <td>Bradford County-Pennsylvania</td>\n      <td>2019</td>\n      <td>42.0</td>\n      <td>15.0</td>\n      <td>2017.0</td>\n      <td>7430.0</td>\n      <td>0.4348</td>\n      <td>42015</td>\n    </tr>\n    <tr>\n      <th>4</th>\n      <td>MNPCA</td>\n      <td>Surface Water</td>\n      <td>2019-06-27</td>\n      <td>0.540</td>\n      <td>mg/L</td>\n      <td>45.100198</td>\n      <td>-94.696072</td>\n      <td>NaN</td>\n      <td>1301034</td>\n      <td>POINT (-94.69607 45.10020)</td>\n      <td>...</td>\n      <td>250011.106093</td>\n      <td>0.190942</td>\n      <td>Meeker County-Minnesota</td>\n      <td>2019</td>\n      <td>27.0</td>\n      <td>93.0</td>\n      <td>2017.0</td>\n      <td>1885.0</td>\n      <td>0.4136</td>\n      <td>27093</td>\n    </tr>\n    <tr>\n      <th>...</th>\n      <td>...</td>\n      <td>...</td>\n      <td>...</td>\n      <td>...</td>\n      <td>...</td>\n      <td>...</td>\n      <td>...</td>\n      <td>...</td>\n      <td>...</td>\n      <td>...</td>\n      <td>...</td>\n      <td>...</td>\n      <td>...</td>\n      <td>...</td>\n      <td>...</td>\n      <td>...</td>\n      <td>...</td>\n      <td>...</td>\n      <td>...</td>\n      <td>...</td>\n      <td>...</td>\n    </tr>\n    <tr>\n      <th>33215</th>\n      <td>MNPCA</td>\n      <td>Surface Water</td>\n      <td>2019-07-29</td>\n      <td>0.015</td>\n      <td>mg/L</td>\n      <td>47.739831</td>\n      <td>-90.591149</td>\n      <td>NaN</td>\n      <td>1425527</td>\n      <td>POINT (-90.59115 47.73983)</td>\n      <td>...</td>\n      <td>636849.612451</td>\n      <td>0.500323</td>\n      <td>Cook County-Minnesota</td>\n      <td>2019</td>\n      <td>27.0</td>\n      <td>31.0</td>\n      <td>2017.0</td>\n      <td>679.0</td>\n      <td>0.4355</td>\n      <td>27031</td>\n    </tr>\n    <tr>\n      <th>33216</th>\n      <td>21PA_WQX</td>\n      <td>NaN</td>\n      <td>2019-11-05</td>\n      <td>0.056</td>\n      <td>mg/L</td>\n      <td>40.608900</td>\n      <td>-78.136100</td>\n      <td>NaN</td>\n      <td>1425533</td>\n      <td>POINT (-78.13610 40.60890)</td>\n      <td>...</td>\n      <td>359595.585107</td>\n      <td>0.244386</td>\n      <td>Huntingdon County-Pennsylvania</td>\n      <td>2019</td>\n      <td>42.0</td>\n      <td>61.0</td>\n      <td>2017.0</td>\n      <td>5517.0</td>\n      <td>0.4079</td>\n      <td>42061</td>\n    </tr>\n    <tr>\n      <th>33217</th>\n      <td>IL_EPA_WQX</td>\n      <td>NaN</td>\n      <td>2019-05-13</td>\n      <td>0.072</td>\n      <td>mg/L</td>\n      <td>37.258000</td>\n      <td>-89.265000</td>\n      <td>NaN</td>\n      <td>1425542</td>\n      <td>POINT (-89.26500 37.25800)</td>\n      <td>...</td>\n      <td>225132.442225</td>\n      <td>0.066402</td>\n      <td>Alexander County-Illinois</td>\n      <td>2019</td>\n      <td>17.0</td>\n      <td>3.0</td>\n      <td>2017.0</td>\n      <td>2212.0</td>\n      <td>0.4750</td>\n      <td>17003</td>\n    </tr>\n    <tr>\n      <th>33218</th>\n      <td>LEECHLAK_WQX</td>\n      <td>NaN</td>\n      <td>2019-08-05</td>\n      <td>0.017</td>\n      <td>mg/L</td>\n      <td>47.224377</td>\n      <td>-94.672623</td>\n      <td>NaN</td>\n      <td>1425543</td>\n      <td>POINT (-94.67262 47.22438)</td>\n      <td>...</td>\n      <td>315677.698853</td>\n      <td>0.306781</td>\n      <td>Hubbard County-Minnesota</td>\n      <td>2019</td>\n      <td>27.0</td>\n      <td>57.0</td>\n      <td>2017.0</td>\n      <td>2216.0</td>\n      <td>0.4150</td>\n      <td>27057</td>\n    </tr>\n    <tr>\n      <th>33219</th>\n      <td>LEECHLAK_WQX</td>\n      <td>NaN</td>\n      <td>2019-05-30</td>\n      <td>0.011</td>\n      <td>mg/L</td>\n      <td>46.994904</td>\n      <td>-94.215596</td>\n      <td>NaN</td>\n      <td>1425554</td>\n      <td>POINT (-94.21560 46.99490)</td>\n      <td>...</td>\n      <td>680486.803991</td>\n      <td>0.738771</td>\n      <td>Cass County-Minnesota</td>\n      <td>2019</td>\n      <td>27.0</td>\n      <td>21.0</td>\n      <td>2017.0</td>\n      <td>4339.0</td>\n      <td>0.4295</td>\n      <td>27021</td>\n    </tr>\n  </tbody>\n</table>\n<p>33220 rows × 79 columns</p>\n</div>"
     },
     "execution_count": 91,
     "metadata": {},
     "output_type": "execute_result"
    }
   ],
   "source": [
    "usgsginiGL"
   ],
   "metadata": {
    "collapsed": false
   }
  },
  {
   "cell_type": "code",
   "execution_count": 181,
   "outputs": [],
   "source": [
    "data_combined_2017 = pd.merge(usgsginiGL,funding_2017, left_on=['FIPS'], right_on=['prime_award_summary_recipient_county_fips_code'], how='left')"
   ],
   "metadata": {
    "collapsed": false
   }
  },
  {
   "cell_type": "markdown",
   "source": [
    "# Grouping the data in preparation for correlation matrix"
   ],
   "metadata": {
    "collapsed": false
   }
  },
  {
   "cell_type": "code",
   "execution_count": 182,
   "outputs": [],
   "source": [
    "grouped = data_combined_2017.groupby(['STATE_NAME', 'CountyName']).agg({\n",
    "    'ResultMeasureValue': 'mean',\n",
    "    'CROP_ACR17': 'mean',\n",
    "    'NO_FARMS17': 'mean',\n",
    "    'AVE_SALE17': 'mean',\n",
    "    'AVE_SIZE17': 'mean',\n",
    "    'POPULATION': 'mean',\n",
    "    'POP_SQMI': 'mean',\n",
    "    'county_funding': 'mean',\n",
    "    'state_funding': 'mean',\n",
    "    'total_county_state': 'mean',\n",
    "    'poverty_count_in_last12month' : 'mean',\n",
    "       'gini_index': 'mean'\n",
    "            })"
   ],
   "metadata": {
    "collapsed": false
   }
  },
  {
   "cell_type": "code",
   "execution_count": 94,
   "outputs": [
    {
     "data": {
      "text/plain": "                             ResultMeasureValue  CROP_ACR17  NO_FARMS17  \\\nSTATE_NAME CountyName                                                     \nIllinois   Adams County                0.240038    382809.0      1308.0   \n           Alexander County            0.153776     43073.0       126.0   \n           Boone County                0.070000    106043.0       457.0   \n           Bureau County               0.098057    408184.0      1038.0   \n           Calhoun County              0.225062     68694.0       474.0   \n...                                         ...         ...         ...   \nWisconsin  Waukesha County             0.036220     71502.0       574.0   \n           Waupaca County              0.081400    142570.0      1031.0   \n           Waushara County             0.116000    100239.0       633.0   \n           Winnebago County            0.107433    136192.0       957.0   \n           Wood County                 0.195050    128114.0      1062.0   \n\n                             AVE_SALE17  AVE_SIZE17  POPULATION  POP_SQMI  \\\nSTATE_NAME CountyName                                                       \nIllinois   Adams County        205979.0       365.0     66092.0      75.9   \n           Alexander County    131891.0       401.0      6857.0      27.1   \n           Boone County        171588.0       248.0     54613.0     193.6   \n           Bureau County       346794.0       421.0     34054.0      39.0   \n           Calhoun County       81584.0       242.0      4915.0      17.3   \n...                                 ...         ...         ...       ...   \nWisconsin  Waukesha County      88945.0       170.0    411705.0     709.2   \n           Waupaca County      147515.0       196.0     51952.0      67.9   \n           Waushara County     200162.0       214.0     24648.0      38.7   \n           Winnebago County    127710.0       169.0    173572.0     300.0   \n           Wood County         132857.0       208.0     74976.0      92.6   \n\n                             county_funding  state_funding  \\\nSTATE_NAME CountyName                                        \nIllinois   Adams County            251219.0            0.0   \n           Alexander County          2223.0            0.0   \n           Boone County           1519464.0            0.0   \n           Bureau County           140895.0            0.0   \n           Calhoun County            7402.0            0.0   \n...                                     ...            ...   \nWisconsin  Waukesha County          31664.0            0.0   \n           Waupaca County            3819.0            0.0   \n           Waushara County            946.0            0.0   \n           Winnebago County         19753.0            0.0   \n           Wood County               5949.0            0.0   \n\n                             total_county_state  poverty_count_in_last12month  \\\nSTATE_NAME CountyName                                                           \nIllinois   Adams County                251219.0                        8513.0   \n           Alexander County              2223.0                        2212.0   \n           Boone County               1519464.0                        5617.0   \n           Bureau County               140895.0                        4175.0   \n           Calhoun County                7402.0                         601.0   \n...                                         ...                           ...   \nWisconsin  Waukesha County              31664.0                           NaN   \n           Waupaca County                3819.0                        5506.0   \n           Waushara County                946.0                           NaN   \n           Winnebago County             19753.0                           NaN   \n           Wood County                   5949.0                           NaN   \n\n                             gini_index  \nSTATE_NAME CountyName                    \nIllinois   Adams County          0.4470  \n           Alexander County      0.4750  \n           Boone County          0.4374  \n           Bureau County         0.4149  \n           Calhoun County        0.4062  \n...                                 ...  \nWisconsin  Waukesha County          NaN  \n           Waupaca County        0.4244  \n           Waushara County          NaN  \n           Winnebago County         NaN  \n           Wood County              NaN  \n\n[317 rows x 12 columns]",
      "text/html": "<div>\n<style scoped>\n    .dataframe tbody tr th:only-of-type {\n        vertical-align: middle;\n    }\n\n    .dataframe tbody tr th {\n        vertical-align: top;\n    }\n\n    .dataframe thead th {\n        text-align: right;\n    }\n</style>\n<table border=\"1\" class=\"dataframe\">\n  <thead>\n    <tr style=\"text-align: right;\">\n      <th></th>\n      <th></th>\n      <th>ResultMeasureValue</th>\n      <th>CROP_ACR17</th>\n      <th>NO_FARMS17</th>\n      <th>AVE_SALE17</th>\n      <th>AVE_SIZE17</th>\n      <th>POPULATION</th>\n      <th>POP_SQMI</th>\n      <th>county_funding</th>\n      <th>state_funding</th>\n      <th>total_county_state</th>\n      <th>poverty_count_in_last12month</th>\n      <th>gini_index</th>\n    </tr>\n    <tr>\n      <th>STATE_NAME</th>\n      <th>CountyName</th>\n      <th></th>\n      <th></th>\n      <th></th>\n      <th></th>\n      <th></th>\n      <th></th>\n      <th></th>\n      <th></th>\n      <th></th>\n      <th></th>\n      <th></th>\n      <th></th>\n    </tr>\n  </thead>\n  <tbody>\n    <tr>\n      <th rowspan=\"5\" valign=\"top\">Illinois</th>\n      <th>Adams County</th>\n      <td>0.240038</td>\n      <td>382809.0</td>\n      <td>1308.0</td>\n      <td>205979.0</td>\n      <td>365.0</td>\n      <td>66092.0</td>\n      <td>75.9</td>\n      <td>251219.0</td>\n      <td>0.0</td>\n      <td>251219.0</td>\n      <td>8513.0</td>\n      <td>0.4470</td>\n    </tr>\n    <tr>\n      <th>Alexander County</th>\n      <td>0.153776</td>\n      <td>43073.0</td>\n      <td>126.0</td>\n      <td>131891.0</td>\n      <td>401.0</td>\n      <td>6857.0</td>\n      <td>27.1</td>\n      <td>2223.0</td>\n      <td>0.0</td>\n      <td>2223.0</td>\n      <td>2212.0</td>\n      <td>0.4750</td>\n    </tr>\n    <tr>\n      <th>Boone County</th>\n      <td>0.070000</td>\n      <td>106043.0</td>\n      <td>457.0</td>\n      <td>171588.0</td>\n      <td>248.0</td>\n      <td>54613.0</td>\n      <td>193.6</td>\n      <td>1519464.0</td>\n      <td>0.0</td>\n      <td>1519464.0</td>\n      <td>5617.0</td>\n      <td>0.4374</td>\n    </tr>\n    <tr>\n      <th>Bureau County</th>\n      <td>0.098057</td>\n      <td>408184.0</td>\n      <td>1038.0</td>\n      <td>346794.0</td>\n      <td>421.0</td>\n      <td>34054.0</td>\n      <td>39.0</td>\n      <td>140895.0</td>\n      <td>0.0</td>\n      <td>140895.0</td>\n      <td>4175.0</td>\n      <td>0.4149</td>\n    </tr>\n    <tr>\n      <th>Calhoun County</th>\n      <td>0.225062</td>\n      <td>68694.0</td>\n      <td>474.0</td>\n      <td>81584.0</td>\n      <td>242.0</td>\n      <td>4915.0</td>\n      <td>17.3</td>\n      <td>7402.0</td>\n      <td>0.0</td>\n      <td>7402.0</td>\n      <td>601.0</td>\n      <td>0.4062</td>\n    </tr>\n    <tr>\n      <th>...</th>\n      <th>...</th>\n      <td>...</td>\n      <td>...</td>\n      <td>...</td>\n      <td>...</td>\n      <td>...</td>\n      <td>...</td>\n      <td>...</td>\n      <td>...</td>\n      <td>...</td>\n      <td>...</td>\n      <td>...</td>\n      <td>...</td>\n    </tr>\n    <tr>\n      <th rowspan=\"5\" valign=\"top\">Wisconsin</th>\n      <th>Waukesha County</th>\n      <td>0.036220</td>\n      <td>71502.0</td>\n      <td>574.0</td>\n      <td>88945.0</td>\n      <td>170.0</td>\n      <td>411705.0</td>\n      <td>709.2</td>\n      <td>31664.0</td>\n      <td>0.0</td>\n      <td>31664.0</td>\n      <td>NaN</td>\n      <td>NaN</td>\n    </tr>\n    <tr>\n      <th>Waupaca County</th>\n      <td>0.081400</td>\n      <td>142570.0</td>\n      <td>1031.0</td>\n      <td>147515.0</td>\n      <td>196.0</td>\n      <td>51952.0</td>\n      <td>67.9</td>\n      <td>3819.0</td>\n      <td>0.0</td>\n      <td>3819.0</td>\n      <td>5506.0</td>\n      <td>0.4244</td>\n    </tr>\n    <tr>\n      <th>Waushara County</th>\n      <td>0.116000</td>\n      <td>100239.0</td>\n      <td>633.0</td>\n      <td>200162.0</td>\n      <td>214.0</td>\n      <td>24648.0</td>\n      <td>38.7</td>\n      <td>946.0</td>\n      <td>0.0</td>\n      <td>946.0</td>\n      <td>NaN</td>\n      <td>NaN</td>\n    </tr>\n    <tr>\n      <th>Winnebago County</th>\n      <td>0.107433</td>\n      <td>136192.0</td>\n      <td>957.0</td>\n      <td>127710.0</td>\n      <td>169.0</td>\n      <td>173572.0</td>\n      <td>300.0</td>\n      <td>19753.0</td>\n      <td>0.0</td>\n      <td>19753.0</td>\n      <td>NaN</td>\n      <td>NaN</td>\n    </tr>\n    <tr>\n      <th>Wood County</th>\n      <td>0.195050</td>\n      <td>128114.0</td>\n      <td>1062.0</td>\n      <td>132857.0</td>\n      <td>208.0</td>\n      <td>74976.0</td>\n      <td>92.6</td>\n      <td>5949.0</td>\n      <td>0.0</td>\n      <td>5949.0</td>\n      <td>NaN</td>\n      <td>NaN</td>\n    </tr>\n  </tbody>\n</table>\n<p>317 rows × 12 columns</p>\n</div>"
     },
     "execution_count": 94,
     "metadata": {},
     "output_type": "execute_result"
    }
   ],
   "source": [
    "grouped"
   ],
   "metadata": {
    "collapsed": false
   }
  },
  {
   "cell_type": "markdown",
   "source": [
    "# Correlation Matrix for crop acreage and phos value"
   ],
   "metadata": {
    "collapsed": false
   }
  },
  {
   "cell_type": "code",
   "execution_count": 183,
   "outputs": [
    {
     "name": "stdout",
     "output_type": "stream",
     "text": [
      "                  Phosphorus Level  Crop Acreage  Farm Count  Farm Size  \\\n",
      "Phosphorus Level          1.000000      0.265404    0.018907   0.254439   \n",
      "Crop Acreage              0.265404      1.000000    0.530407   0.685130   \n",
      "Farm Count                0.018907      0.530407    1.000000  -0.010332   \n",
      "Farm Size                 0.254439      0.685130   -0.010332   1.000000   \n",
      "Farm Sales                0.264948      0.670237    0.227174   0.663278   \n",
      "Population                0.206266     -0.169440   -0.045027  -0.262298   \n",
      "County Funding            0.485533      0.430842    0.157938   0.314442   \n",
      "Gini Index                0.127603     -0.112052   -0.096764  -0.167691   \n",
      "\n",
      "                  Farm Sales  Population  County Funding  Gini Index  \n",
      "Phosphorus Level    0.264948    0.206266        0.485533    0.127603  \n",
      "Crop Acreage        0.670237   -0.169440        0.430842   -0.112052  \n",
      "Farm Count          0.227174   -0.045027        0.157938   -0.096764  \n",
      "Farm Size           0.663278   -0.262298        0.314442   -0.167691  \n",
      "Farm Sales          1.000000   -0.119413        0.209358   -0.107506  \n",
      "Population         -0.119413    1.000000       -0.035047    0.340558  \n",
      "County Funding      0.209358   -0.035047        1.000000    0.216892  \n",
      "Gini Index         -0.107506    0.340558        0.216892    1.000000  \n"
     ]
    },
    {
     "name": "stderr",
     "output_type": "stream",
     "text": [
      "C:\\Users\\caraca\\AppData\\Local\\Temp\\1\\ipykernel_36176\\3710046415.py:3: SettingWithCopyWarning: \n",
      "A value is trying to be set on a copy of a slice from a DataFrame\n",
      "\n",
      "See the caveats in the documentation: https://pandas.pydata.org/pandas-docs/stable/user_guide/indexing.html#returning-a-view-versus-a-copy\n",
      "  grouped_means.rename(columns={'ResultMeasureValue': 'Phosphorus Level', 'CROP_ACR17': \"Crop Acreage\",\n"
     ]
    }
   ],
   "source": [
    "grouped_means = grouped[['ResultMeasureValue', 'CROP_ACR17', 'NO_FARMS17','AVE_SIZE17','AVE_SALE17','POPULATION','county_funding','gini_index']]\n",
    "\n",
    "grouped_means.rename(columns={'ResultMeasureValue': 'Phosphorus Level', 'CROP_ACR17': \"Crop Acreage\",\n",
    "                    'NO_FARMS17': 'Farm Count', 'AVE_SIZE17': 'Farm Size', 'AVE_SALE17': 'Farm Sales',\n",
    "                    'POPULATION': 'Population', 'county_funding':'County Funding', 'gini_index': 'Gini Index'}, inplace=True)\n",
    "\n",
    "corr = grouped_means.corr()\n",
    "\n",
    "print(corr)"
   ],
   "metadata": {
    "collapsed": false
   }
  },
  {
   "cell_type": "code",
   "execution_count": 176,
   "outputs": [
    {
     "data": {
      "text/plain": "<pandas.io.formats.style.Styler at 0x2221e90f430>",
      "text/html": "<style type=\"text/css\">\n#T_df3e0_row0_col0, #T_df3e0_row1_col1, #T_df3e0_row2_col2, #T_df3e0_row3_col3, #T_df3e0_row4_col4, #T_df3e0_row5_col5, #T_df3e0_row6_col6, #T_df3e0_row7_col7 {\n  background-color: #084081;\n  color: #f1f1f1;\n}\n#T_df3e0_row0_col1, #T_df3e0_row1_col0, #T_df3e0_row4_col6, #T_df3e0_row6_col4 {\n  background-color: #8bd2bf;\n  color: #000000;\n}\n#T_df3e0_row0_col2, #T_df3e0_row2_col0 {\n  background-color: #c2e7c0;\n  color: #000000;\n}\n#T_df3e0_row0_col3, #T_df3e0_row3_col0 {\n  background-color: #a2dbb7;\n  color: #000000;\n}\n#T_df3e0_row0_col4, #T_df3e0_row4_col0 {\n  background-color: #91d4bd;\n  color: #000000;\n}\n#T_df3e0_row0_col5, #T_df3e0_row5_col0 {\n  background-color: #c0e6c0;\n  color: #000000;\n}\n#T_df3e0_row0_col6, #T_df3e0_row6_col0 {\n  background-color: #1070b0;\n  color: #f1f1f1;\n}\n#T_df3e0_row0_col7, #T_df3e0_row7_col0 {\n  background-color: #c4e8c1;\n  color: #000000;\n}\n#T_df3e0_row1_col2, #T_df3e0_row2_col1 {\n  background-color: #4db2d3;\n  color: #f1f1f1;\n}\n#T_df3e0_row1_col3, #T_df3e0_row3_col1 {\n  background-color: #3192c1;\n  color: #f1f1f1;\n}\n#T_df3e0_row1_col4, #T_df3e0_row4_col1 {\n  background-color: #3699c5;\n  color: #f1f1f1;\n}\n#T_df3e0_row1_col5, #T_df3e0_row3_col7, #T_df3e0_row5_col1, #T_df3e0_row7_col3 {\n  background-color: #e8f6e2;\n  color: #000000;\n}\n#T_df3e0_row1_col6, #T_df3e0_row6_col1 {\n  background-color: #3fa2ca;\n  color: #f1f1f1;\n}\n#T_df3e0_row1_col7, #T_df3e0_row7_col1 {\n  background-color: #e0f3db;\n  color: #000000;\n}\n#T_df3e0_row2_col3, #T_df3e0_row3_col2, #T_df3e0_row5_col6, #T_df3e0_row6_col5 {\n  background-color: #daf0d4;\n  color: #000000;\n}\n#T_df3e0_row2_col4, #T_df3e0_row4_col2 {\n  background-color: #afe0b8;\n  color: #000000;\n}\n#T_df3e0_row2_col5, #T_df3e0_row5_col2 {\n  background-color: #d7efd1;\n  color: #000000;\n}\n#T_df3e0_row2_col6, #T_df3e0_row6_col2 {\n  background-color: #9fdab8;\n  color: #000000;\n}\n#T_df3e0_row2_col7, #T_df3e0_row4_col7, #T_df3e0_row7_col2, #T_df3e0_row7_col4 {\n  background-color: #dff3da;\n  color: #000000;\n}\n#T_df3e0_row3_col4, #T_df3e0_row4_col3 {\n  background-color: #3395c3;\n  color: #f1f1f1;\n}\n#T_df3e0_row3_col5, #T_df3e0_row5_col3 {\n  background-color: #f7fcf0;\n  color: #000000;\n}\n#T_df3e0_row3_col6, #T_df3e0_row6_col3 {\n  background-color: #6cc4c9;\n  color: #000000;\n}\n#T_df3e0_row4_col5, #T_df3e0_row5_col4 {\n  background-color: #e4f4de;\n  color: #000000;\n}\n#T_df3e0_row5_col7, #T_df3e0_row7_col5 {\n  background-color: #8ad2bf;\n  color: #000000;\n}\n#T_df3e0_row6_col7, #T_df3e0_row7_col6 {\n  background-color: #bbe4bd;\n  color: #000000;\n}\n</style>\n<table id=\"T_df3e0\">\n  <thead>\n    <tr>\n      <th class=\"blank level0\" >&nbsp;</th>\n      <th id=\"T_df3e0_level0_col0\" class=\"col_heading level0 col0\" >Phosphorus Level</th>\n      <th id=\"T_df3e0_level0_col1\" class=\"col_heading level0 col1\" >Crop Acreage</th>\n      <th id=\"T_df3e0_level0_col2\" class=\"col_heading level0 col2\" >Farm Count</th>\n      <th id=\"T_df3e0_level0_col3\" class=\"col_heading level0 col3\" >Farm Size</th>\n      <th id=\"T_df3e0_level0_col4\" class=\"col_heading level0 col4\" >Farm Sales</th>\n      <th id=\"T_df3e0_level0_col5\" class=\"col_heading level0 col5\" >Population</th>\n      <th id=\"T_df3e0_level0_col6\" class=\"col_heading level0 col6\" >County Funding</th>\n      <th id=\"T_df3e0_level0_col7\" class=\"col_heading level0 col7\" >Gini Index</th>\n    </tr>\n  </thead>\n  <tbody>\n    <tr>\n      <th id=\"T_df3e0_level0_row0\" class=\"row_heading level0 row0\" >Phosphorus Level</th>\n      <td id=\"T_df3e0_row0_col0\" class=\"data row0 col0\" >1.000000</td>\n      <td id=\"T_df3e0_row0_col1\" class=\"data row0 col1\" >0.317679</td>\n      <td id=\"T_df3e0_row0_col2\" class=\"data row0 col2\" >0.111055</td>\n      <td id=\"T_df3e0_row0_col3\" class=\"data row0 col3\" >0.241668</td>\n      <td id=\"T_df3e0_row0_col4\" class=\"data row0 col4\" >0.298436</td>\n      <td id=\"T_df3e0_row0_col5\" class=\"data row0 col5\" >0.116619</td>\n      <td id=\"T_df3e0_row0_col6\" class=\"data row0 col6\" >0.807070</td>\n      <td id=\"T_df3e0_row0_col7\" class=\"data row0 col7\" >0.100488</td>\n    </tr>\n    <tr>\n      <th id=\"T_df3e0_level0_row1\" class=\"row_heading level0 row1\" >Crop Acreage</th>\n      <td id=\"T_df3e0_row1_col0\" class=\"data row1 col0\" >0.317679</td>\n      <td id=\"T_df3e0_row1_col1\" class=\"data row1 col1\" >1.000000</td>\n      <td id=\"T_df3e0_row1_col2\" class=\"data row1 col2\" >0.535145</td>\n      <td id=\"T_df3e0_row1_col3\" class=\"data row1 col3\" >0.660896</td>\n      <td id=\"T_df3e0_row1_col4\" class=\"data row1 col4\" >0.635462</td>\n      <td id=\"T_df3e0_row1_col5\" class=\"data row1 col5\" >-0.145457</td>\n      <td id=\"T_df3e0_row1_col6\" class=\"data row1 col6\" >0.597936</td>\n      <td id=\"T_df3e0_row1_col7\" class=\"data row1 col7\" >-0.089357</td>\n    </tr>\n    <tr>\n      <th id=\"T_df3e0_level0_row2\" class=\"row_heading level0 row2\" >Farm Count</th>\n      <td id=\"T_df3e0_row2_col0\" class=\"data row2 col0\" >0.111055</td>\n      <td id=\"T_df3e0_row2_col1\" class=\"data row2 col1\" >0.535145</td>\n      <td id=\"T_df3e0_row2_col2\" class=\"data row2 col2\" >1.000000</td>\n      <td id=\"T_df3e0_row2_col3\" class=\"data row2 col3\" >-0.040463</td>\n      <td id=\"T_df3e0_row2_col4\" class=\"data row2 col4\" >0.188453</td>\n      <td id=\"T_df3e0_row2_col5\" class=\"data row2 col5\" >-0.024144</td>\n      <td id=\"T_df3e0_row2_col6\" class=\"data row2 col6\" >0.249105</td>\n      <td id=\"T_df3e0_row2_col7\" class=\"data row2 col7\" >-0.087024</td>\n    </tr>\n    <tr>\n      <th id=\"T_df3e0_level0_row3\" class=\"row_heading level0 row3\" >Farm Size</th>\n      <td id=\"T_df3e0_row3_col0\" class=\"data row3 col0\" >0.241668</td>\n      <td id=\"T_df3e0_row3_col1\" class=\"data row3 col1\" >0.660896</td>\n      <td id=\"T_df3e0_row3_col2\" class=\"data row3 col2\" >-0.040463</td>\n      <td id=\"T_df3e0_row3_col3\" class=\"data row3 col3\" >1.000000</td>\n      <td id=\"T_df3e0_row3_col4\" class=\"data row3 col4\" >0.651594</td>\n      <td id=\"T_df3e0_row3_col5\" class=\"data row3 col5\" >-0.249325</td>\n      <td id=\"T_df3e0_row3_col6\" class=\"data row3 col6\" >0.427351</td>\n      <td id=\"T_df3e0_row3_col7\" class=\"data row3 col7\" >-0.142420</td>\n    </tr>\n    <tr>\n      <th id=\"T_df3e0_level0_row4\" class=\"row_heading level0 row4\" >Farm Sales</th>\n      <td id=\"T_df3e0_row4_col0\" class=\"data row4 col0\" >0.298436</td>\n      <td id=\"T_df3e0_row4_col1\" class=\"data row4 col1\" >0.635462</td>\n      <td id=\"T_df3e0_row4_col2\" class=\"data row4 col2\" >0.188453</td>\n      <td id=\"T_df3e0_row4_col3\" class=\"data row4 col3\" >0.651594</td>\n      <td id=\"T_df3e0_row4_col4\" class=\"data row4 col4\" >1.000000</td>\n      <td id=\"T_df3e0_row4_col5\" class=\"data row4 col5\" >-0.113854</td>\n      <td id=\"T_df3e0_row4_col6\" class=\"data row4 col6\" >0.317642</td>\n      <td id=\"T_df3e0_row4_col7\" class=\"data row4 col7\" >-0.086423</td>\n    </tr>\n    <tr>\n      <th id=\"T_df3e0_level0_row5\" class=\"row_heading level0 row5\" >Population</th>\n      <td id=\"T_df3e0_row5_col0\" class=\"data row5 col0\" >0.116619</td>\n      <td id=\"T_df3e0_row5_col1\" class=\"data row5 col1\" >-0.145457</td>\n      <td id=\"T_df3e0_row5_col2\" class=\"data row5 col2\" >-0.024144</td>\n      <td id=\"T_df3e0_row5_col3\" class=\"data row5 col3\" >-0.249325</td>\n      <td id=\"T_df3e0_row5_col4\" class=\"data row5 col4\" >-0.113854</td>\n      <td id=\"T_df3e0_row5_col5\" class=\"data row5 col5\" >1.000000</td>\n      <td id=\"T_df3e0_row5_col6\" class=\"data row5 col6\" >-0.044252</td>\n      <td id=\"T_df3e0_row5_col7\" class=\"data row5 col7\" >0.325021</td>\n    </tr>\n    <tr>\n      <th id=\"T_df3e0_level0_row6\" class=\"row_heading level0 row6\" >County Funding</th>\n      <td id=\"T_df3e0_row6_col0\" class=\"data row6 col0\" >0.807070</td>\n      <td id=\"T_df3e0_row6_col1\" class=\"data row6 col1\" >0.597936</td>\n      <td id=\"T_df3e0_row6_col2\" class=\"data row6 col2\" >0.249105</td>\n      <td id=\"T_df3e0_row6_col3\" class=\"data row6 col3\" >0.427351</td>\n      <td id=\"T_df3e0_row6_col4\" class=\"data row6 col4\" >0.317642</td>\n      <td id=\"T_df3e0_row6_col5\" class=\"data row6 col5\" >-0.044252</td>\n      <td id=\"T_df3e0_row6_col6\" class=\"data row6 col6\" >1.000000</td>\n      <td id=\"T_df3e0_row6_col7\" class=\"data row6 col7\" >0.137361</td>\n    </tr>\n    <tr>\n      <th id=\"T_df3e0_level0_row7\" class=\"row_heading level0 row7\" >Gini Index</th>\n      <td id=\"T_df3e0_row7_col0\" class=\"data row7 col0\" >0.100488</td>\n      <td id=\"T_df3e0_row7_col1\" class=\"data row7 col1\" >-0.089357</td>\n      <td id=\"T_df3e0_row7_col2\" class=\"data row7 col2\" >-0.087024</td>\n      <td id=\"T_df3e0_row7_col3\" class=\"data row7 col3\" >-0.142420</td>\n      <td id=\"T_df3e0_row7_col4\" class=\"data row7 col4\" >-0.086423</td>\n      <td id=\"T_df3e0_row7_col5\" class=\"data row7 col5\" >0.325021</td>\n      <td id=\"T_df3e0_row7_col6\" class=\"data row7 col6\" >0.137361</td>\n      <td id=\"T_df3e0_row7_col7\" class=\"data row7 col7\" >1.000000</td>\n    </tr>\n  </tbody>\n</table>\n"
     },
     "execution_count": 176,
     "metadata": {},
     "output_type": "execute_result"
    }
   ],
   "source": [
    "import numpy as np\n",
    "import matplotlib.pyplot as plt\n",
    "\n",
    "corr.style.background_gradient(cmap='GnBu', axis=None)"
   ],
   "metadata": {
    "collapsed": false
   }
  },
  {
   "cell_type": "code",
   "execution_count": 184,
   "outputs": [
    {
     "data": {
      "text/plain": "<Figure size 640x480 with 2 Axes>",
      "image/png": "[encoded data removed]"
     },
     "metadata": {},
     "output_type": "display_data"
    }
   ],
   "source": [
    "import seaborn as sb\n",
    "corr = grouped_means.corr()\n",
    "ax = plt.axes()\n",
    "sb.heatmap(corr, cmap=\"GnBu\", annot=True, ax = ax)\n",
    "ax.set_title('2017 Data, No Lag')\n",
    "plt.savefig('2017corr_updated.png', bbox_inches='tight', pad_inches=0.0)"
   ],
   "metadata": {
    "collapsed": false
   }
  },
  {
   "cell_type": "code",
   "execution_count": 153,
   "outputs": [
    {
     "data": {
      "text/plain": "<Figure size 640x480 with 0 Axes>"
     },
     "metadata": {},
     "output_type": "display_data"
    }
   ],
   "source": [
    "plt.savefig('corr.png', bbox_inches='tight', pad_inches=0.0)"
   ],
   "metadata": {
    "collapsed": false
   }
  },
  {
   "cell_type": "markdown",
   "source": [
    "# Imputation using KNN"
   ],
   "metadata": {
    "collapsed": false
   }
  },
  {
   "cell_type": "code",
   "execution_count": 53,
   "outputs": [
    {
     "ename": "NameError",
     "evalue": "name 'modeling' is not defined",
     "output_type": "error",
     "traceback": [
      "\u001B[1;31m---------------------------------------------------------------------------\u001B[0m",
      "\u001B[1;31mNameError\u001B[0m                                 Traceback (most recent call last)",
      "Cell \u001B[1;32mIn[53], line 4\u001B[0m\n\u001B[0;32m      1\u001B[0m \u001B[38;5;28;01mimport\u001B[39;00m \u001B[38;5;21;01mnumpy\u001B[39;00m \u001B[38;5;28;01mas\u001B[39;00m \u001B[38;5;21;01mnp\u001B[39;00m\n\u001B[0;32m      3\u001B[0m \u001B[38;5;28;01mfrom\u001B[39;00m \u001B[38;5;21;01msklearn\u001B[39;00m\u001B[38;5;21;01m.\u001B[39;00m\u001B[38;5;21;01mimpute\u001B[39;00m \u001B[38;5;28;01mimport\u001B[39;00m KNNImputer\n\u001B[1;32m----> 4\u001B[0m X \u001B[38;5;241m=\u001B[39m \u001B[43mmodeling\u001B[49m\n\u001B[0;32m      5\u001B[0m imputer \u001B[38;5;241m=\u001B[39m KNNImputer(n_neighbors\u001B[38;5;241m=\u001B[39m\u001B[38;5;241m2\u001B[39m)\n\u001B[0;32m      6\u001B[0m imputer\u001B[38;5;241m.\u001B[39mfit_transform(X)\n",
      "\u001B[1;31mNameError\u001B[0m: name 'modeling' is not defined"
     ]
    }
   ],
   "source": [
    "import numpy as np\n",
    "\n",
    "from sklearn.impute import KNNImputer\n",
    "X = modeling\n",
    "imputer = KNNImputer(n_neighbors=2)\n",
    "imputer.fit_transform(X)"
   ],
   "metadata": {
    "collapsed": false
   }
  }
 ],
 "metadata": {
  "kernelspec": {
   "display_name": "Python 3 (ipykernel)",
   "language": "python",
   "name": "python3"
  },
  "language_info": {
   "codemirror_mode": {
    "name": "ipython",
    "version": 3
   },
   "file_extension": ".py",
   "mimetype": "text/x-python",
   "name": "python",
   "nbconvert_exporter": "python",
   "pygments_lexer": "ipython3",
   "version": "3.9.5"
  }
 },
 "nbformat": 4,
 "nbformat_minor": 4
}
